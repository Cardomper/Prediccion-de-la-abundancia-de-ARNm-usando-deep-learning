{
  "nbformat": 4,
  "nbformat_minor": 0,
  "metadata": {
    "colab": {
      "name": "TFM Carlos.ipynb",
      "provenance": [],
      "toc_visible": true,
      "include_colab_link": true
    },
    "kernelspec": {
      "name": "python3",
      "display_name": "Python 3"
    },
    "language_info": {
      "name": "python"
    },
    "accelerator": "GPU"
  },
  "cells": [
    {
      "cell_type": "markdown",
      "metadata": {
        "id": "view-in-github",
        "colab_type": "text"
      },
      "source": [
        "<a href=\"https://colab.research.google.com/github/Cardomper/TFM/blob/main/TFM_Carlos.ipynb\" target=\"_parent\"><img src=\"https://colab.research.google.com/assets/colab-badge.svg\" alt=\"Open In Colab\"/></a>"
      ]
    },
    {
      "cell_type": "markdown",
      "source": [
        "# Datos"
      ],
      "metadata": {
        "id": "CcCgxCr5x2CV"
      }
    },
    {
      "cell_type": "code",
      "source": [
        "from google.colab import drive\n",
        "drive.mount('/content/drive')"
      ],
      "metadata": {
        "colab": {
          "base_uri": "https://localhost:8080/"
        },
        "id": "AG20A8QGxHtN",
        "outputId": "3e54d0c5-e66a-484d-fadf-611cd645e717"
      },
      "execution_count": null,
      "outputs": [
        {
          "output_type": "stream",
          "name": "stdout",
          "text": [
            "Drive already mounted at /content/drive; to attempt to forcibly remount, call drive.mount(\"/content/drive\", force_remount=True).\n"
          ]
        }
      ]
    },
    {
      "cell_type": "code",
      "source": [
        "DIRECTORIO = \"/content/drive/MyDrive/CarlosD\"\n",
        "# DIRECTORIO = \"/content/drive/MyDrive/UOC2021-2022-2/Carlos_Dominguez\""
      ],
      "metadata": {
        "id": "n76yIas52i59"
      },
      "execution_count": null,
      "outputs": []
    },
    {
      "cell_type": "code",
      "source": [
        "cd {DIRECTORIO}"
      ],
      "metadata": {
        "colab": {
          "base_uri": "https://localhost:8080/"
        },
        "id": "buK49eGu2pIL",
        "outputId": "3a06ed64-1f3e-4911-8299-f4fee9004c55"
      },
      "execution_count": null,
      "outputs": [
        {
          "output_type": "stream",
          "name": "stdout",
          "text": [
            "/content/drive/MyDrive/CarlosD\n"
          ]
        }
      ]
    },
    {
      "cell_type": "code",
      "source": [
        "ls"
      ],
      "metadata": {
        "colab": {
          "base_uri": "https://localhost:8080/"
        },
        "id": "zyljaHc72vMU",
        "outputId": "21829860-bacc-485b-aedf-add421f2c297"
      },
      "execution_count": null,
      "outputs": [
        {
          "output_type": "stream",
          "name": "stdout",
          "text": [
            " condacolab_install.log       \u001b[0m\u001b[01;34mruns\u001b[0m/               'TFM Carlos.ipynb'\n",
            " \u001b[01;36mdataset\u001b[0m@                     sequences_kmer.tsv   train.tsv\n",
            " dev.tsv                      sequences_kmer.txt   user_predictions.csv\n",
            " \u001b[01;34mDNABERT\u001b[0m/                     \u001b[01;36mtest\u001b[0m@                X2_data.csv\n",
            " \u001b[01;36mDocumentos_plantillas_UOC\u001b[0m@   text_data.csv        Y_data.csv\n",
            " \u001b[01;34mflagged\u001b[0m/                     text_data_norm.csv\n"
          ]
        }
      ]
    },
    {
      "cell_type": "code",
      "source": [
        "import os"
      ],
      "metadata": {
        "id": "AYyZKNil3hs_"
      },
      "execution_count": null,
      "outputs": []
    },
    {
      "cell_type": "code",
      "source": [
        "folder = os.path.join(DIRECTORIO,\"dataset\")\n",
        "# print(folder)\n",
        "\n",
        "fname_data1 = os.path.join(folder,'scerevisiae.rsd1.lmbda_22.npz')\n",
        "\n",
        "print(fname_data1)"
      ],
      "metadata": {
        "colab": {
          "base_uri": "https://localhost:8080/"
        },
        "id": "ragFQDHb3mpi",
        "outputId": "7b77b9d2-5e1b-4e17-e00b-e5077b248e55"
      },
      "execution_count": null,
      "outputs": [
        {
          "output_type": "stream",
          "name": "stdout",
          "text": [
            "/content/drive/MyDrive/CarlosD/dataset/scerevisiae.rsd1.lmbda_22.npz\n"
          ]
        }
      ]
    },
    {
      "cell_type": "code",
      "source": [
        "import numpy as np\n",
        "\n",
        "def load_data(fname):\n",
        "    # X is multi-variable array\n",
        "    # Y contains single variable - fix shape for Keras\n",
        "\n",
        "    npzfile = np.load(fname)\n",
        "    Xh_train = npzfile['arr_0']\n",
        "    Xh_test = npzfile['arr_1']\n",
        "    Xv_train = npzfile['arr_2']\n",
        "    Xv_test = npzfile['arr_3']\n",
        "    Y_train = npzfile['arr_4']\n",
        "    Y_test = npzfile['arr_5']\n",
        "\n",
        "    X_train = list()\n",
        "    X_train.append(Xh_train)\n",
        "    X_train.append(Xv_train)\n",
        "    X_test = list()\n",
        "    X_test.append(Xh_test)\n",
        "    X_test.append(Xv_test)\n",
        "\n",
        "    Y_train = Y_train.astype(np.float32).reshape((-1,1))\n",
        "    Y_test = Y_test.astype(np.float32).reshape((-1,1))\n",
        "\n",
        "    return X_train, X_test, Y_train, Y_test"
      ],
      "metadata": {
        "id": "SWjwQ5u94AaY"
      },
      "execution_count": null,
      "outputs": []
    },
    {
      "cell_type": "code",
      "source": [
        "X_train, X_test, Y_train, Y_test = load_data(fname_data1) \n",
        "print(len(X_test))\n",
        "print(len(Y_test))"
      ],
      "metadata": {
        "colab": {
          "base_uri": "https://localhost:8080/"
        },
        "id": "l_8QuG1nlNHx",
        "outputId": "4396a461-44ff-4e1c-f1aa-f6b27a57d935"
      },
      "execution_count": null,
      "outputs": [
        {
          "output_type": "stream",
          "name": "stdout",
          "text": [
            "2\n",
            "425\n"
          ]
        }
      ]
    },
    {
      "cell_type": "code",
      "source": [
        "X_train[-1].shape"
      ],
      "metadata": {
        "colab": {
          "base_uri": "https://localhost:8080/"
        },
        "id": "gWfEcGML3wUd",
        "outputId": "39965aac-2640-4844-984c-cb0b39870ada"
      },
      "execution_count": null,
      "outputs": [
        {
          "output_type": "execute_result",
          "data": {
            "text/plain": [
              "(3813, 72)"
            ]
          },
          "metadata": {},
          "execution_count": 13
        }
      ]
    },
    {
      "cell_type": "code",
      "source": [
        "X_train[0].shape"
      ],
      "metadata": {
        "colab": {
          "base_uri": "https://localhost:8080/"
        },
        "id": "oK-Wv5mwAcaF",
        "outputId": "7242ee78-a511-4c57-c803-89e61232834b"
      },
      "execution_count": null,
      "outputs": [
        {
          "output_type": "execute_result",
          "data": {
            "text/plain": [
              "(3813, 2150, 4)"
            ]
          },
          "metadata": {},
          "execution_count": 14
        }
      ]
    },
    {
      "cell_type": "code",
      "source": [
        "X_test[0].shape"
      ],
      "metadata": {
        "colab": {
          "base_uri": "https://localhost:8080/"
        },
        "id": "di3VcNMZnfUQ",
        "outputId": "cee9b7c6-4f64-47bc-a174-7ce7e9bb8fc4"
      },
      "execution_count": null,
      "outputs": [
        {
          "output_type": "execute_result",
          "data": {
            "text/plain": [
              "(425, 2150, 4)"
            ]
          },
          "metadata": {},
          "execution_count": 11
        }
      ]
    },
    {
      "cell_type": "code",
      "source": [
        "X_train[1].shape"
      ],
      "metadata": {
        "colab": {
          "base_uri": "https://localhost:8080/"
        },
        "id": "nOol6IrdAejI",
        "outputId": "2b3c50cb-2bc4-49c5-ba19-bbfcc08795f9"
      },
      "execution_count": null,
      "outputs": [
        {
          "output_type": "execute_result",
          "data": {
            "text/plain": [
              "(3813, 72)"
            ]
          },
          "metadata": {},
          "execution_count": 12
        }
      ]
    },
    {
      "cell_type": "code",
      "source": [
        "input_shapes = [sl.shape[1:] for sl in X_train]"
      ],
      "metadata": {
        "id": "myAKJExKAmO4"
      },
      "execution_count": null,
      "outputs": []
    },
    {
      "cell_type": "code",
      "source": [
        "input_shapes"
      ],
      "metadata": {
        "colab": {
          "base_uri": "https://localhost:8080/"
        },
        "id": "xNXpfznAArYg",
        "outputId": "c848abc4-0a15-4989-b034-2f1b8b2796b8"
      },
      "execution_count": null,
      "outputs": [
        {
          "output_type": "execute_result",
          "data": {
            "text/plain": [
              "[(2150, 4), (72,)]"
            ]
          },
          "metadata": {},
          "execution_count": 14
        }
      ]
    },
    {
      "cell_type": "code",
      "source": [
        "Y_train.shape"
      ],
      "metadata": {
        "colab": {
          "base_uri": "https://localhost:8080/"
        },
        "id": "0j_kAkO9Ag4L",
        "outputId": "9ec51614-37d3-4618-ecf2-d3ea6fb408e7"
      },
      "execution_count": null,
      "outputs": [
        {
          "output_type": "execute_result",
          "data": {
            "text/plain": [
              "(3813, 1)"
            ]
          },
          "metadata": {},
          "execution_count": 15
        }
      ]
    },
    {
      "cell_type": "code",
      "source": [
        "X_train[0][0,:,:]"
      ],
      "metadata": {
        "colab": {
          "base_uri": "https://localhost:8080/"
        },
        "id": "_IjDde_sA1-f",
        "outputId": "ccf32c51-3a38-4d6e-d4f1-368e6ec11945"
      },
      "execution_count": null,
      "outputs": [
        {
          "output_type": "execute_result",
          "data": {
            "text/plain": [
              "array([[0, 0, 0, 1],\n",
              "       [0, 0, 1, 0],\n",
              "       [0, 1, 0, 0],\n",
              "       ...,\n",
              "       [0, 1, 0, 0],\n",
              "       [0, 1, 0, 0],\n",
              "       [1, 0, 0, 0]], dtype=int8)"
            ]
          },
          "metadata": {},
          "execution_count": 16
        }
      ]
    },
    {
      "cell_type": "code",
      "source": [
        "X_train[1][:,9:].max()"
      ],
      "metadata": {
        "colab": {
          "base_uri": "https://localhost:8080/"
        },
        "id": "KSZfNoFfBdUE",
        "outputId": "a8380956-c65e-42da-9f1c-a44b382df780"
      },
      "execution_count": null,
      "outputs": [
        {
          "output_type": "execute_result",
          "data": {
            "text/plain": [
              "223"
            ]
          },
          "metadata": {},
          "execution_count": 17
        }
      ]
    },
    {
      "cell_type": "code",
      "source": [
        "X_train_desp = X_train[0].reshape((3813,2150*4))"
      ],
      "metadata": {
        "id": "YlfqptkWCIZl"
      },
      "execution_count": null,
      "outputs": []
    },
    {
      "cell_type": "code",
      "source": [
        "X2_train = X_train[1]\n",
        "X2_test = X_test[1]\n",
        "print(X2_train.shape)\n",
        "print(X2_test.shape)"
      ],
      "metadata": {
        "colab": {
          "base_uri": "https://localhost:8080/"
        },
        "id": "6Nr_qgFOd2le",
        "outputId": "a7c97543-233c-41b5-c5ed-17740122b2f1"
      },
      "execution_count": null,
      "outputs": [
        {
          "output_type": "stream",
          "name": "stdout",
          "text": [
            "(3813, 72)\n",
            "(425, 72)\n"
          ]
        }
      ]
    },
    {
      "cell_type": "code",
      "source": [
        "#Unimos X e Y\n",
        "X2_data=np.concatenate([X2_train,X2_test], axis=0)\n",
        "Y_data=np.concatenate([Y_train,Y_test], axis=0)"
      ],
      "metadata": {
        "id": "c6UNU070dTAs"
      },
      "execution_count": null,
      "outputs": []
    },
    {
      "cell_type": "code",
      "source": [
        "np.savetxt(\"X2_data.csv\",X2_data,fmt='%s',delimiter=\",\", comments=\"\")\n",
        "np.savetxt(\"Y_data.csv\",Y_data,fmt='%s',delimiter=\",\", comments=\"\")"
      ],
      "metadata": {
        "id": "7PRZmLhcder-"
      },
      "execution_count": null,
      "outputs": []
    },
    {
      "cell_type": "code",
      "source": [
        "import matplotlib.pyplot as plt\n",
        "\n",
        "fig = plt.figure(figsize =(10, 7))\n",
        "plt.boxplot(Y_data)\n",
        "ax = fig.add_subplot(111)\n",
        "ax.set_xticklabels(\" \")\n",
        " \n",
        "# Adding title\n",
        "plt.title(\"DNA Abundance\")\n",
        " \n",
        "plt.show()"
      ],
      "metadata": {
        "colab": {
          "base_uri": "https://localhost:8080/",
          "height": 499
        },
        "id": "zj7i7FA20UTV",
        "outputId": "1ab1c576-011a-444a-b43e-3092eaf351ed"
      },
      "execution_count": null,
      "outputs": [
        {
          "output_type": "stream",
          "name": "stderr",
          "text": [
            "/usr/local/lib/python3.7/dist-packages/ipykernel_launcher.py:5: MatplotlibDeprecationWarning: Adding an axes using the same arguments as a previous axes currently reuses the earlier instance.  In a future version, a new instance will always be created and returned.  Meanwhile, this warning can be suppressed, and the future behavior ensured, by passing a unique label to each axes instance.\n",
            "  \"\"\"\n"
          ]
        },
        {
          "output_type": "display_data",
          "data": {
            "text/plain": [
              "<Figure size 720x504 with 1 Axes>"
            ],
            "image/png": "[encoded data removed]"
          },
          "metadata": {
            "needs_background": "light"
          }
        }
      ]
    },
    {
      "cell_type": "markdown",
      "source": [
        "#Random forest (datos no secuenciales)"
      ],
      "metadata": {
        "id": "BJOxdKMTdm8w"
      }
    },
    {
      "cell_type": "code",
      "source": [
        "from sklearn.ensemble import RandomForestRegressor"
      ],
      "metadata": {
        "id": "UwNJDOHJdtMX"
      },
      "execution_count": null,
      "outputs": []
    },
    {
      "cell_type": "code",
      "source": [
        "model = RandomForestRegressor()\n",
        "model.fit(X2_train, Y_train.ravel())"
      ],
      "metadata": {
        "colab": {
          "base_uri": "https://localhost:8080/"
        },
        "id": "rqQ4j-i0d-89",
        "outputId": "2edee5b4-e66b-4cbd-fa60-51b11f579e04"
      },
      "execution_count": null,
      "outputs": [
        {
          "output_type": "execute_result",
          "data": {
            "text/plain": [
              "RandomForestRegressor()"
            ]
          },
          "metadata": {},
          "execution_count": 23
        }
      ]
    },
    {
      "cell_type": "code",
      "source": [
        "model.score(X2_test,Y_test.ravel())"
      ],
      "metadata": {
        "colab": {
          "base_uri": "https://localhost:8080/"
        },
        "id": "NS9vGWjoelbB",
        "outputId": "931a6f48-b5eb-403e-8bc7-53d216445001"
      },
      "execution_count": null,
      "outputs": [
        {
          "output_type": "execute_result",
          "data": {
            "text/plain": [
              "0.7656984068364819"
            ]
          },
          "metadata": {},
          "execution_count": 24
        }
      ]
    },
    {
      "cell_type": "markdown",
      "source": [
        "# Convertir a secuencia de texto"
      ],
      "metadata": {
        "id": "TbYMlI8ff9Np"
      }
    },
    {
      "cell_type": "markdown",
      "source": [
        "Hay un problema hay partes que son todas cero [0, 0, 0, 0]. El paper menciona que son las regiones UTR. Sin embargo, esto no debería ser un problema, dado que cuando se trabaja con textos, los textos no son de igual longitud. Se me ocurre por ahora, extraer sólo la secuencia que no son cero [Otra posibilidad es colocar una letra diferente]"
      ],
      "metadata": {
        "id": "Vkmbdo8YgFZ8"
      }
    },
    {
      "cell_type": "code",
      "source": [
        "letras = np.array(['A', 'C', 'G', 'T'])"
      ],
      "metadata": {
        "id": "_i-dEdoZgJzT"
      },
      "execution_count": null,
      "outputs": []
    },
    {
      "cell_type": "code",
      "source": [
        "def conv_to_text(dataset):\n",
        "  seq_list=[]\n",
        "  for i in range(dataset[0].shape[0]):\n",
        "    secuencia=\"\"\n",
        "    seq_list.append(secuencia.join(letras[np.where(dataset[0][i])[1]]))\n",
        "  seq_list=np.array(seq_list)\n",
        "  return seq_list"
      ],
      "metadata": {
        "id": "_hAei17niD6U"
      },
      "execution_count": null,
      "outputs": []
    },
    {
      "cell_type": "code",
      "source": [
        "X_train_text=conv_to_text(X_train)\n",
        "X_train_text.shape"
      ],
      "metadata": {
        "colab": {
          "base_uri": "https://localhost:8080/"
        },
        "id": "Xc7ymRyi3963",
        "outputId": "ae711b1f-9070-4fea-a4fe-289d874d9671"
      },
      "execution_count": null,
      "outputs": [
        {
          "output_type": "execute_result",
          "data": {
            "text/plain": [
              "(3813,)"
            ]
          },
          "metadata": {},
          "execution_count": 24
        }
      ]
    },
    {
      "cell_type": "code",
      "source": [
        "X_test_text=conv_to_text(X_test)\n",
        "X_test_text.shape"
      ],
      "metadata": {
        "colab": {
          "base_uri": "https://localhost:8080/"
        },
        "id": "59X3veXm4cjG",
        "outputId": "bc36d6db-8394-4689-efd6-3ae60899a1a5"
      },
      "execution_count": null,
      "outputs": [
        {
          "output_type": "execute_result",
          "data": {
            "text/plain": [
              "(425,)"
            ]
          },
          "metadata": {},
          "execution_count": 25
        }
      ]
    },
    {
      "cell_type": "code",
      "source": [
        "X_train_text=X_train_text[:, np.newaxis] #Añadimos una dimensión para poder unir X e Y\n",
        "X_test_text=X_test_text[:, np.newaxis]\n",
        "train=np.concatenate([X_train_text, Y_train], axis=1)\n",
        "test=np.concatenate([X_test_text, Y_test], axis=1)\n",
        "text_data=np.concatenate([train,test], axis=0)"
      ],
      "metadata": {
        "id": "-yx23fr-mUBs"
      },
      "execution_count": null,
      "outputs": []
    },
    {
      "cell_type": "code",
      "source": [
        "np.savetxt(\"text_data.csv\",text_data,fmt='%s',delimiter=\",\", header=\"sequence,target\", comments=\"\")"
      ],
      "metadata": {
        "id": "Y45w_pAPGNzG"
      },
      "execution_count": null,
      "outputs": []
    },
    {
      "cell_type": "code",
      "source": [
        "import pandas as pd\n",
        "text_data = pd.read_csv('text_data.csv')\n",
        "print(len(text_data))"
      ],
      "metadata": {
        "colab": {
          "base_uri": "https://localhost:8080/"
        },
        "id": "BMCvMURlyS_v",
        "outputId": "6028150d-a8c1-46a1-8b66-a502bd646c83"
      },
      "execution_count": null,
      "outputs": [
        {
          "output_type": "stream",
          "name": "stdout",
          "text": [
            "4238\n"
          ]
        }
      ]
    },
    {
      "cell_type": "markdown",
      "source": [
        "# Standarization"
      ],
      "metadata": {
        "id": "3uCzcNO_SXpo"
      }
    },
    {
      "cell_type": "code",
      "source": [
        "from sklearn.preprocessing import StandardScaler\n",
        "scale= StandardScaler()\n",
        "text_data[[\"target\"]]=scale.fit_transform(text_data[[\"target\"]])\n",
        "text_data.to_csv('text_data_norm.csv')\n",
        "text_data.head()"
      ],
      "metadata": {
        "colab": {
          "base_uri": "https://localhost:8080/",
          "height": 206
        },
        "id": "y4kVqu6uHN_6",
        "outputId": "f5f62fb4-f2bc-4d19-f63e-add7bb1c8fa7"
      },
      "execution_count": null,
      "outputs": [
        {
          "output_type": "execute_result",
          "data": {
            "text/plain": [
              "                                            sequence    target\n",
              "0  TGCGGAATCTTAATTGTGCGGATCCTTTTACCTTTTCTCATATTAA...  0.386194\n",
              "1  AGCGCCAAACGAAATATTGCTTTTGTAGAAGGGTTGAAGAAGGTAC... -0.711836\n",
              "2  ATACCAATTACTGTCCGTAGTTCGTCAGATTAGAATCCACTATATT... -0.148928\n",
              "3  AGGGTTACAAGTACAAGATGAGATACGTCTACGCGCATTTCCCAAT...  0.742004\n",
              "4  ACAAATCAGCTCCGATCTTCTCATATGAAAATCAGCAGCCGTGACA...  1.092220"
            ],
            "text/html": [
              "\n",
              "  <div id=\"df-acebb0e0-0e1e-40ef-b3ec-71d9c81f7ffe\">\n",
              "    <div class=\"colab-df-container\">\n",
              "      <div>\n",
              "<style scoped>\n",
              "    .dataframe tbody tr th:only-of-type {\n",
              "        vertical-align: middle;\n",
              "    }\n",
              "\n",
              "    .dataframe tbody tr th {\n",
              "        vertical-align: top;\n",
              "    }\n",
              "\n",
              "    .dataframe thead th {\n",
              "        text-align: right;\n",
              "    }\n",
              "</style>\n",
              "<table border=\"1\" class=\"dataframe\">\n",
              "  <thead>\n",
              "    <tr style=\"text-align: right;\">\n",
              "      <th></th>\n",
              "      <th>sequence</th>\n",
              "      <th>target</th>\n",
              "    </tr>\n",
              "  </thead>\n",
              "  <tbody>\n",
              "    <tr>\n",
              "      <th>0</th>\n",
              "      <td>TGCGGAATCTTAATTGTGCGGATCCTTTTACCTTTTCTCATATTAA...</td>\n",
              "      <td>0.386194</td>\n",
              "    </tr>\n",
              "    <tr>\n",
              "      <th>1</th>\n",
              "      <td>AGCGCCAAACGAAATATTGCTTTTGTAGAAGGGTTGAAGAAGGTAC...</td>\n",
              "      <td>-0.711836</td>\n",
              "    </tr>\n",
              "    <tr>\n",
              "      <th>2</th>\n",
              "      <td>ATACCAATTACTGTCCGTAGTTCGTCAGATTAGAATCCACTATATT...</td>\n",
              "      <td>-0.148928</td>\n",
              "    </tr>\n",
              "    <tr>\n",
              "      <th>3</th>\n",
              "      <td>AGGGTTACAAGTACAAGATGAGATACGTCTACGCGCATTTCCCAAT...</td>\n",
              "      <td>0.742004</td>\n",
              "    </tr>\n",
              "    <tr>\n",
              "      <th>4</th>\n",
              "      <td>ACAAATCAGCTCCGATCTTCTCATATGAAAATCAGCAGCCGTGACA...</td>\n",
              "      <td>1.092220</td>\n",
              "    </tr>\n",
              "  </tbody>\n",
              "</table>\n",
              "</div>\n",
              "      <button class=\"colab-df-convert\" onclick=\"convertToInteractive('df-acebb0e0-0e1e-40ef-b3ec-71d9c81f7ffe')\"\n",
              "              title=\"Convert this dataframe to an interactive table.\"\n",
              "              style=\"display:none;\">\n",
              "        \n",
              "  <svg xmlns=\"http://www.w3.org/2000/svg\" height=\"24px\"viewBox=\"0 0 24 24\"\n",
              "       width=\"24px\">\n",
              "    <path d=\"M0 0h24v24H0V0z\" fill=\"none\"/>\n",
              "    <path d=\"M18.56 5.44l.94 2.06.94-2.06 2.06-.94-2.06-.94-.94-2.06-.94 2.06-2.06.94zm-11 1L8.5 8.5l.94-2.06 2.06-.94-2.06-.94L8.5 2.5l-.94 2.06-2.06.94zm10 10l.94 2.06.94-2.06 2.06-.94-2.06-.94-.94-2.06-.94 2.06-2.06.94z\"/><path d=\"M17.41 7.96l-1.37-1.37c-.4-.4-.92-.59-1.43-.59-.52 0-1.04.2-1.43.59L10.3 9.45l-7.72 7.72c-.78.78-.78 2.05 0 2.83L4 21.41c.39.39.9.59 1.41.59.51 0 1.02-.2 1.41-.59l7.78-7.78 2.81-2.81c.8-.78.8-2.07 0-2.86zM5.41 20L4 18.59l7.72-7.72 1.47 1.35L5.41 20z\"/>\n",
              "  </svg>\n",
              "      </button>\n",
              "      \n",
              "  <style>\n",
              "    .colab-df-container {\n",
              "      display:flex;\n",
              "      flex-wrap:wrap;\n",
              "      gap: 12px;\n",
              "    }\n",
              "\n",
              "    .colab-df-convert {\n",
              "      background-color: #E8F0FE;\n",
              "      border: none;\n",
              "      border-radius: 50%;\n",
              "      cursor: pointer;\n",
              "      display: none;\n",
              "      fill: #1967D2;\n",
              "      height: 32px;\n",
              "      padding: 0 0 0 0;\n",
              "      width: 32px;\n",
              "    }\n",
              "\n",
              "    .colab-df-convert:hover {\n",
              "      background-color: #E2EBFA;\n",
              "      box-shadow: 0px 1px 2px rgba(60, 64, 67, 0.3), 0px 1px 3px 1px rgba(60, 64, 67, 0.15);\n",
              "      fill: #174EA6;\n",
              "    }\n",
              "\n",
              "    [theme=dark] .colab-df-convert {\n",
              "      background-color: #3B4455;\n",
              "      fill: #D2E3FC;\n",
              "    }\n",
              "\n",
              "    [theme=dark] .colab-df-convert:hover {\n",
              "      background-color: #434B5C;\n",
              "      box-shadow: 0px 1px 3px 1px rgba(0, 0, 0, 0.15);\n",
              "      filter: drop-shadow(0px 1px 2px rgba(0, 0, 0, 0.3));\n",
              "      fill: #FFFFFF;\n",
              "    }\n",
              "  </style>\n",
              "\n",
              "      <script>\n",
              "        const buttonEl =\n",
              "          document.querySelector('#df-acebb0e0-0e1e-40ef-b3ec-71d9c81f7ffe button.colab-df-convert');\n",
              "        buttonEl.style.display =\n",
              "          google.colab.kernel.accessAllowed ? 'block' : 'none';\n",
              "\n",
              "        async function convertToInteractive(key) {\n",
              "          const element = document.querySelector('#df-acebb0e0-0e1e-40ef-b3ec-71d9c81f7ffe');\n",
              "          const dataTable =\n",
              "            await google.colab.kernel.invokeFunction('convertToInteractive',\n",
              "                                                     [key], {});\n",
              "          if (!dataTable) return;\n",
              "\n",
              "          const docLinkHtml = 'Like what you see? Visit the ' +\n",
              "            '<a target=\"_blank\" href=https://colab.research.google.com/notebooks/data_table.ipynb>data table notebook</a>'\n",
              "            + ' to learn more about interactive tables.';\n",
              "          element.innerHTML = '';\n",
              "          dataTable['output_type'] = 'display_data';\n",
              "          await google.colab.output.renderOutput(dataTable, element);\n",
              "          const docLink = document.createElement('div');\n",
              "          docLink.innerHTML = docLinkHtml;\n",
              "          element.appendChild(docLink);\n",
              "        }\n",
              "      </script>\n",
              "    </div>\n",
              "  </div>\n",
              "  "
            ]
          },
          "metadata": {},
          "execution_count": 28
        }
      ]
    },
    {
      "cell_type": "markdown",
      "source": [
        "# Pytorch"
      ],
      "metadata": {
        "id": "dNLoj4P5qRZD"
      }
    },
    {
      "cell_type": "code",
      "source": [
        "#!pip3 uninstall numpy\n",
        "#pip install -U numpy"
      ],
      "metadata": {
        "colab": {
          "base_uri": "https://localhost:8080/"
        },
        "id": "29Vs9CD33ZSf",
        "outputId": "79a18377-7fcc-45ea-d322-9eca5d6866d8"
      },
      "execution_count": null,
      "outputs": [
        {
          "output_type": "stream",
          "name": "stdout",
          "text": [
            "Found existing installation: numpy 1.21.5\n",
            "Uninstalling numpy-1.21.5:\n",
            "  Would remove:\n",
            "    /usr/bin/f2py\n",
            "    /usr/local/bin/f2py\n",
            "    /usr/local/bin/f2py3\n",
            "    /usr/local/bin/f2py3.7\n",
            "    /usr/local/lib/python3.7/dist-packages/numpy-1.21.5.dist-info/*\n",
            "    /usr/local/lib/python3.7/dist-packages/numpy.libs/libgfortran-2e0d59d6.so.5.0.0\n",
            "    /usr/local/lib/python3.7/dist-packages/numpy.libs/libopenblasp-r0-2d23e62b.3.17.so\n",
            "    /usr/local/lib/python3.7/dist-packages/numpy.libs/libquadmath-2d0c479f.so.0.0.0\n",
            "    /usr/local/lib/python3.7/dist-packages/numpy/*\n",
            "Proceed (y/n)? y\n",
            "  Successfully uninstalled numpy-1.21.5\n"
          ]
        }
      ]
    },
    {
      "cell_type": "code",
      "source": [
        "import torch\n",
        "import torch.nn.functional as F\n",
        "import torch.nn as nn\n",
        "import torchtext\n",
        "import time\n",
        "import random\n",
        "import pandas as pd\n",
        "from torch.utils.data import Dataset\n",
        "from torch.utils.data.dataset import random_split\n",
        "\n",
        "torch.backends.cudnn.deterministic = True"
      ],
      "metadata": {
        "id": "VNUuILxkrGz2"
      },
      "execution_count": null,
      "outputs": []
    },
    {
      "cell_type": "markdown",
      "source": [
        "## Datos"
      ],
      "metadata": {
        "id": "-NEwsdzRGA01"
      }
    },
    {
      "cell_type": "code",
      "source": [
        "def split(word):\n",
        "    return list(word)"
      ],
      "metadata": {
        "id": "UuW3JzGT2Esc"
      },
      "execution_count": null,
      "outputs": []
    },
    {
      "cell_type": "markdown",
      "source": [
        "Aquí vemos que las secuencias tienen longitudes distintas:"
      ],
      "metadata": {
        "id": "ClH4aQGsJaR-"
      }
    },
    {
      "cell_type": "code",
      "source": [
        "text_data = pd.read_csv('text_data_norm.csv')\n",
        "\n",
        "print(len(split(text_data[\"sequence\"].iloc[0])))\n",
        "print(len(split(text_data[\"sequence\"].iloc[4])))"
      ],
      "metadata": {
        "colab": {
          "base_uri": "https://localhost:8080/"
        },
        "id": "plEobCLRG40U",
        "outputId": "69ef747c-1dd4-4145-de98-4e58c0703299"
      },
      "execution_count": null,
      "outputs": [
        {
          "output_type": "stream",
          "name": "stdout",
          "text": [
            "1566\n",
            "1765\n"
          ]
        }
      ]
    },
    {
      "cell_type": "markdown",
      "source": [
        "### Read data"
      ],
      "metadata": {
        "id": "_jNxkEX1L9-J"
      }
    },
    {
      "cell_type": "code",
      "source": [
        "class TextData(Dataset):\n",
        "    '''\n",
        "    Dataset basico para leer las secuencias\n",
        "    '''\n",
        "    def __init__(self, filename):\n",
        "        super(TextData, self).__init__()\n",
        "        df = pd.read_csv(filename)\n",
        "        self.df = df[[\"sequence\", \"target\"]]\n",
        "        \n",
        "    def __getitem__(self, index):\n",
        "        return self.df.iloc[index,0], self.df.iloc[index,1]\n",
        "    \n",
        "    def __len__(self):\n",
        "        return len(self.df)"
      ],
      "metadata": {
        "id": "qN2u7Nzm3Eej"
      },
      "execution_count": null,
      "outputs": []
    },
    {
      "cell_type": "code",
      "source": [
        "ds = TextData(\"text_data_norm.csv\")"
      ],
      "metadata": {
        "id": "e80qRgAQ4MmW"
      },
      "execution_count": null,
      "outputs": []
    },
    {
      "cell_type": "code",
      "source": [
        "tr_per = 0.85\n",
        "train_dataset, valid_dataset = random_split(ds,\n",
        " [int(len(ds)*tr_per),len(ds) - int(len(ds)*tr_per)], torch.manual_seed(42))"
      ],
      "metadata": {
        "id": "yqaAfZQJ4ZIX"
      },
      "execution_count": null,
      "outputs": []
    },
    {
      "cell_type": "code",
      "source": [
        "text_data.target.min()"
      ],
      "metadata": {
        "colab": {
          "base_uri": "https://localhost:8080/"
        },
        "id": "LhWRa3BLecTP",
        "outputId": "0bec0e57-81c8-46c5-e8b6-cbe514befa44"
      },
      "execution_count": null,
      "outputs": [
        {
          "output_type": "execute_result",
          "data": {
            "text/plain": [
              "-1.934744067668322"
            ]
          },
          "metadata": {},
          "execution_count": 71
        }
      ]
    },
    {
      "cell_type": "markdown",
      "source": [
        "### Tokenización"
      ],
      "metadata": {
        "id": "_CGhQ6sQ5xr_"
      }
    },
    {
      "cell_type": "code",
      "source": [
        "## Paso 2: Encuentre tokens únicos (palabras)\n",
        "import re\n",
        "from collections import Counter, OrderedDict\n",
        "from textwrap import wrap\n",
        "\n",
        "token_counts = Counter()\n",
        "\n",
        "def tokenizer(text):\n",
        "    tokenized = wrap(text,6)\n",
        "    tokenized = [\"<beg>\"] + tokenized + [\"<end>\"] #Añadimos un token de inicio y otro de fin de la secuencia\n",
        "    return tokenized\n",
        "\n",
        "\n",
        "for line, label in train_dataset:\n",
        "    tokens = tokenizer(line)\n",
        "    token_counts.update(tokens)\n",
        " \n",
        "    \n",
        "print('Vocab-size:', len(token_counts))"
      ],
      "metadata": {
        "colab": {
          "base_uri": "https://localhost:8080/"
        },
        "id": "PfFEV_bd4h0k",
        "outputId": "4a7ace57-b81e-4901-a5ef-43622318bded"
      },
      "execution_count": null,
      "outputs": [
        {
          "output_type": "stream",
          "name": "stdout",
          "text": [
            "Vocab-size: 4803\n"
          ]
        }
      ]
    },
    {
      "cell_type": "markdown",
      "source": [
        "\n",
        "\n",
        "### Numericalización\n",
        "\n",
        "\n",
        "\n",
        "\n"
      ],
      "metadata": {
        "id": "Xv__Sj419UhQ"
      }
    },
    {
      "cell_type": "code",
      "source": [
        "## Paso 3: Codificación de cada token único en enteros\n",
        "\n",
        "from torchtext.vocab import vocab\n",
        "\n",
        "sorted_by_freq_tuples = sorted(token_counts.items(), key=lambda x: x[1], reverse=True)\n",
        "ordered_dict = OrderedDict(sorted_by_freq_tuples)\n",
        "\n",
        "vocab = vocab(ordered_dict)\n",
        "\n",
        "vocab.insert_token(\"<pad>\", 0)\n",
        "vocab.insert_token(\"<unk>\", 1)\n",
        "vocab.set_default_index(1)\n",
        "\n",
        "print([vocab[token] for token in [\"A\",\"C\",\"T\",\"G\",\"AA\",\"AC\",\"TG\"]])"
      ],
      "metadata": {
        "colab": {
          "base_uri": "https://localhost:8080/"
        },
        "id": "Xxxtnx2A9aJI",
        "outputId": "0a4750c7-0e1b-4cb0-e8d1-207a281a3902"
      },
      "execution_count": null,
      "outputs": [
        {
          "output_type": "stream",
          "name": "stdout",
          "text": [
            "[2422, 3101, 1905, 3166, 3852, 4111, 4097]\n"
          ]
        }
      ]
    },
    {
      "cell_type": "code",
      "source": [
        "## Paso 3-A: Defina las funciones para la transformación.\n",
        "\n",
        "device = torch.device('cuda:0' if torch.cuda.is_available() else 'cpu')\n",
        "\n",
        "text_pipeline = lambda x: [vocab[token] for token in tokenizer(x)]\n",
        "\n",
        "\n",
        "\n",
        "## Paso 3-B: función de codificación y transformación\n",
        "def collate_batch(batch):\n",
        "    label_list, text_list, lengths = [], [], []\n",
        "    for _text, _label in batch:\n",
        "        label_list.append(_label) #¿Hay que usar label list?\n",
        "        processed_text = torch.tensor(text_pipeline(_text), \n",
        "                                      dtype=torch.int64)\n",
        "        text_list.append(processed_text)\n",
        "        lengths.append(processed_text.size(0))\n",
        "    label_list = torch.tensor(label_list)\n",
        "    lengths = torch.tensor(lengths)\n",
        "    padded_text_list = nn.utils.rnn.pad_sequence(\n",
        "        text_list, batch_first=True)\n",
        "    return padded_text_list.to(device), label_list.to(device), lengths.to(device)"
      ],
      "metadata": {
        "id": "prPhEu3g-qxe"
      },
      "execution_count": null,
      "outputs": []
    },
    {
      "cell_type": "code",
      "source": [
        "## Toma un pequeño batch\n",
        "\n",
        "from torch.utils.data import DataLoader\n",
        "dataloader = DataLoader(train_dataset, batch_size=4, shuffle=False, collate_fn=collate_batch)\n",
        "text_batch, label_batch, length_batch = next(iter(dataloader))\n",
        "print(text_batch)\n",
        "print(label_batch)\n",
        "print(length_batch)\n",
        "print(text_batch.shape)"
      ],
      "metadata": {
        "colab": {
          "base_uri": "https://localhost:8080/"
        },
        "id": "KRUO3LmYOzDO",
        "outputId": "b256794e-dfd2-4efb-944b-5761385d7db7"
      },
      "execution_count": null,
      "outputs": [
        {
          "output_type": "stream",
          "name": "stdout",
          "text": [
            "tensor([[   4, 2328,   39,  ...,    0,    0,    0],\n",
            "        [   4, 1714,  937,  ...,    0,    0,    0],\n",
            "        [   4, 1405, 1870,  ...,  306, 3041,    5],\n",
            "        [   4,  895,  614,  ...,    0,    0,    0]], device='cuda:0')\n",
            "tensor([-0.7410,  0.0267, -1.0391, -0.3489], device='cuda:0',\n",
            "       dtype=torch.float64)\n",
            "tensor([277, 264, 282, 278], device='cuda:0')\n",
            "torch.Size([4, 282])\n"
          ]
        }
      ]
    },
    {
      "cell_type": "code",
      "source": [
        "## Paso 4: batching los datasets\n",
        "\n",
        "batch_size = 64\n",
        "\n",
        "train_dl = DataLoader(train_dataset, batch_size=batch_size,\n",
        "                      shuffle=True, collate_fn=collate_batch)\n",
        "valid_dl = DataLoader(valid_dataset, batch_size=batch_size,\n",
        "                      shuffle=True, collate_fn=collate_batch)"
      ],
      "metadata": {
        "id": "G5GUD4JLRJkb"
      },
      "execution_count": null,
      "outputs": []
    },
    {
      "cell_type": "markdown",
      "source": [
        "## Modelo LSTM"
      ],
      "metadata": {
        "id": "0oYSUw_vXQk6"
      }
    },
    {
      "cell_type": "code",
      "source": [
        "class RNN(nn.Module):\n",
        "    def __init__(self, vocab_size, embed_dim, rnn_hidden_size, fc_hidden_size):\n",
        "        super().__init__()\n",
        "        self.embedding = nn.Embedding(vocab_size, \n",
        "                                      embed_dim, \n",
        "                                      padding_idx=0) \n",
        "        self.rnn = nn.LSTM(embed_dim, rnn_hidden_size,num_layers=2,\n",
        "                           batch_first=True,bidirectional = True, dropout=0.4 )\n",
        "        self.fc1 = nn.Linear(rnn_hidden_size*2, fc_hidden_size)\n",
        "        self.relu = nn.ReLU()\n",
        "        self.fc2 = nn.Linear(fc_hidden_size, 1)\n",
        "\n",
        "    def forward(self, text, lengths):\n",
        "        out = self.embedding(text)\n",
        "        out = nn.utils.rnn.pack_padded_sequence(out, lengths.cpu().numpy(), enforce_sorted=False, batch_first=True)\n",
        "        out, (hidden, cell) = self.rnn(out)\n",
        "        out = torch.cat((hidden[-2, :, :], hidden[-1, :, :]), dim=1)\n",
        "        # out = hidden[-1, :, :]\n",
        "        out = self.fc1(out)\n",
        "        out = self.relu(out)\n",
        "        out = self.fc2(out)\n",
        "        return out"
      ],
      "metadata": {
        "id": "xmIdRwwWlgD_"
      },
      "execution_count": null,
      "outputs": []
    },
    {
      "cell_type": "code",
      "source": [
        "vocab_size = len(vocab)\n",
        "embed_dim = 50\n",
        "rnn_hidden_size = 64\n",
        "fc_hidden_size = 32\n",
        "\n",
        "torch.manual_seed(1)\n",
        "model = RNN(vocab_size, embed_dim, rnn_hidden_size, fc_hidden_size) \n",
        "model = model.to(device)"
      ],
      "metadata": {
        "id": "bZozMkbOlwAo"
      },
      "execution_count": null,
      "outputs": []
    },
    {
      "cell_type": "markdown",
      "source": [
        "#### Entrenamiento"
      ],
      "metadata": {
        "id": "3KlIVo6RXUv3"
      }
    },
    {
      "cell_type": "markdown",
      "source": [
        "##### MSE"
      ],
      "metadata": {
        "id": "eZ8loypsoZgk"
      }
    },
    {
      "cell_type": "code",
      "source": [
        "train_losses=[]\n",
        "val_losses=[]\n",
        "\n",
        "def train(dataloader):\n",
        "    model.train()\n",
        "    total_loss = 0\n",
        "    for text_batch, label_batch, lengths in dataloader:\n",
        "        optimizer.zero_grad()\n",
        "        pred = model(text_batch, lengths)[:, 0]\n",
        "        loss = loss_fn(pred.float(), label_batch.float())\n",
        "        loss.backward()\n",
        "        optimizer.step()\n",
        "        total_loss += loss.item()*label_batch.size(0)\n",
        "        \n",
        "    train_losses.append(total_loss/len(dataloader.dataset))\n",
        "    return total_loss/len(dataloader.dataset)\n",
        " \n",
        "def evaluate(dataloader):\n",
        "    model.eval()\n",
        "    total_loss = 0\n",
        "    with torch.no_grad():\n",
        "        for text_batch, label_batch, lengths in dataloader:\n",
        "            pred = model(text_batch, lengths)[:, 0]\n",
        "            loss = loss_fn(pred.float(), label_batch.float())\n",
        "            total_loss += loss.item()*label_batch.size(0)\n",
        "            \n",
        "    val_losses.append(total_loss/len(dataloader.dataset))       \n",
        "    return total_loss/len(dataloader.dataset)"
      ],
      "metadata": {
        "id": "a9brcwJkwtae"
      },
      "execution_count": null,
      "outputs": []
    },
    {
      "cell_type": "code",
      "source": [
        "loss_fn = nn.MSELoss()\n",
        "optimizer = torch.optim.AdamW(model.parameters(), lr=0.0001)\n",
        "\n",
        "num_epochs = 30\n",
        "\n",
        "torch.manual_seed(1)\n",
        " \n",
        "for epoch in range(num_epochs):\n",
        "\n",
        "    loss_train = train(train_dl)\n",
        "    loss_eval = evaluate(valid_dl)\n",
        "    \n",
        "    print(f'Epoch {epoch} loss train: {loss_train:.4f} loss valid: {loss_eval:.4f}')"
      ],
      "metadata": {
        "colab": {
          "base_uri": "https://localhost:8080/"
        },
        "id": "HmxR5kPMTCsv",
        "outputId": "2ba99a26-5704-41fb-b5ea-27e09abc26d1"
      },
      "execution_count": null,
      "outputs": [
        {
          "output_type": "stream",
          "name": "stdout",
          "text": [
            "Epoch 0 loss train: 1.0177 loss valid: 0.9317\n",
            "Epoch 1 loss train: 1.0130 loss valid: 0.9298\n",
            "Epoch 2 loss train: 1.0122 loss valid: 0.9292\n",
            "Epoch 3 loss train: 1.0114 loss valid: 0.9291\n",
            "Epoch 4 loss train: 1.0110 loss valid: 0.9294\n",
            "Epoch 5 loss train: 1.0102 loss valid: 0.9296\n",
            "Epoch 6 loss train: 1.0097 loss valid: 0.9296\n",
            "Epoch 7 loss train: 1.0077 loss valid: 0.9302\n",
            "Epoch 8 loss train: 1.0058 loss valid: 0.9308\n",
            "Epoch 9 loss train: 1.0025 loss valid: 0.9321\n",
            "Epoch 10 loss train: 0.9970 loss valid: 0.9341\n",
            "Epoch 11 loss train: 0.9889 loss valid: 0.9375\n",
            "Epoch 12 loss train: 0.9752 loss valid: 0.9466\n",
            "Epoch 13 loss train: 0.9526 loss valid: 0.9672\n",
            "Epoch 14 loss train: 0.9373 loss valid: 0.9831\n",
            "Epoch 15 loss train: 0.9058 loss valid: 1.0057\n",
            "Epoch 16 loss train: 0.8850 loss valid: 1.0785\n",
            "Epoch 17 loss train: 0.8768 loss valid: 1.0551\n",
            "Epoch 18 loss train: 0.8367 loss valid: 1.0770\n",
            "Epoch 19 loss train: 0.8108 loss valid: 1.1169\n",
            "Epoch 20 loss train: 0.7762 loss valid: 1.1106\n",
            "Epoch 21 loss train: 0.7478 loss valid: 1.1464\n",
            "Epoch 22 loss train: 0.7286 loss valid: 1.1495\n",
            "Epoch 23 loss train: 0.6911 loss valid: 1.2260\n",
            "Epoch 24 loss train: 0.6519 loss valid: 1.2201\n",
            "Epoch 25 loss train: 0.6285 loss valid: 1.2035\n",
            "Epoch 26 loss train: 0.5873 loss valid: 1.2487\n",
            "Epoch 27 loss train: 0.5693 loss valid: 1.1870\n",
            "Epoch 28 loss train: 0.5409 loss valid: 1.2745\n",
            "Epoch 29 loss train: 0.5131 loss valid: 1.2102\n"
          ]
        }
      ]
    },
    {
      "cell_type": "code",
      "source": [
        "import matplotlib.pyplot as plt\n",
        "plt.plot(train_losses,'-o')\n",
        "plt.plot(val_losses,'-o')\n",
        "plt.xlabel('epoch')\n",
        "plt.ylabel('accuracy')\n",
        "plt.legend(['Train','Valid'])\n",
        "plt.title('Train vs Valid Loss')\n",
        "\n",
        "plt.show()"
      ],
      "metadata": {
        "id": "Anr7El9sNUAf",
        "colab": {
          "base_uri": "https://localhost:8080/",
          "height": 295
        },
        "outputId": "867dc304-5d5e-42db-8028-3719422c16e1"
      },
      "execution_count": null,
      "outputs": [
        {
          "output_type": "display_data",
          "data": {
            "text/plain": [
              "<Figure size 432x288 with 1 Axes>"
            ],
            "image/png": "[encoded data removed]"
          },
          "metadata": {
            "needs_background": "light"
          }
        }
      ]
    },
    {
      "cell_type": "markdown",
      "source": [
        "##### RMSE"
      ],
      "metadata": {
        "id": "apV1g-1roQNT"
      }
    },
    {
      "cell_type": "code",
      "source": [
        "vocab_size = len(vocab)\n",
        "embed_dim = 50\n",
        "rnn_hidden_size = 64\n",
        "fc_hidden_size = 32\n",
        "\n",
        "torch.manual_seed(1)\n",
        "model = RNN(vocab_size, embed_dim, rnn_hidden_size, fc_hidden_size) \n",
        "model = model.to(device)"
      ],
      "metadata": {
        "id": "yDw9XshhCaWe"
      },
      "execution_count": null,
      "outputs": []
    },
    {
      "cell_type": "code",
      "source": [
        "train_losses=[]\n",
        "val_losses=[]\n",
        "eps=1e-6\n",
        "def train(dataloader):\n",
        "    model.train()\n",
        "    total_loss = 0\n",
        "    for text_batch, label_batch, lengths in dataloader:\n",
        "        optimizer.zero_grad()\n",
        "        pred = model(text_batch, lengths)[:, 0]\n",
        "        loss = torch.sqrt(loss_fn(pred.float(), label_batch.float()) +eps)\n",
        "        loss.backward()\n",
        "        optimizer.step()\n",
        "        total_loss += loss.item()*label_batch.size(0)\n",
        "        \n",
        "    train_losses.append(total_loss/len(dataloader.dataset))\n",
        "    return total_loss/len(dataloader.dataset)\n",
        " \n",
        "def evaluate(dataloader):\n",
        "    model.eval()\n",
        "    total_loss = 0\n",
        "    with torch.no_grad():\n",
        "        for text_batch, label_batch, lengths in dataloader:\n",
        "            pred = model(text_batch, lengths)[:, 0]\n",
        "            loss = torch.sqrt(loss_fn(pred.float(), label_batch.float()) +eps)\n",
        "            total_loss += loss.item()*label_batch.size(0)\n",
        "            \n",
        "    val_losses.append(total_loss/len(dataloader.dataset))       \n",
        "    return total_loss/len(dataloader.dataset)"
      ],
      "metadata": {
        "id": "g7T4Dy0qj_Xn"
      },
      "execution_count": null,
      "outputs": []
    },
    {
      "cell_type": "code",
      "source": [
        "loss_fn = nn.MSELoss()\n",
        "optimizer = torch.optim.AdamW(model.parameters(), lr=0.0001)\n",
        "\n",
        "num_epochs = 30\n",
        "\n",
        "torch.manual_seed(1)\n",
        " \n",
        "for epoch in range(num_epochs):\n",
        "\n",
        "    loss_train = train(train_dl)\n",
        "    loss_eval = evaluate(valid_dl)\n",
        "    \n",
        "    print(f'Epoch {epoch} loss train: {loss_train:.4f} loss valid: {loss_eval:.4f}')"
      ],
      "metadata": {
        "colab": {
          "base_uri": "https://localhost:8080/"
        },
        "id": "YWPbrNjKosHJ",
        "outputId": "979d53c3-e76e-4d8f-9001-2d20775dea34"
      },
      "execution_count": null,
      "outputs": [
        {
          "output_type": "stream",
          "name": "stdout",
          "text": [
            "Epoch 0 loss train: 1.1624 loss valid: 0.9613\n",
            "Epoch 1 loss train: 0.9421 loss valid: 1.0128\n",
            "Epoch 2 loss train: 0.8210 loss valid: 1.0590\n",
            "Epoch 3 loss train: 0.6612 loss valid: 1.1264\n",
            "Epoch 4 loss train: 0.5305 loss valid: 1.0848\n",
            "Epoch 5 loss train: 0.4535 loss valid: 1.0949\n",
            "Epoch 6 loss train: 0.4055 loss valid: 1.1007\n",
            "Epoch 7 loss train: 0.3590 loss valid: 1.1295\n",
            "Epoch 8 loss train: 0.3164 loss valid: 1.1285\n",
            "Epoch 9 loss train: 0.2992 loss valid: 1.1212\n",
            "Epoch 10 loss train: 0.2816 loss valid: 1.0818\n",
            "Epoch 11 loss train: 0.2678 loss valid: 1.1110\n",
            "Epoch 12 loss train: 0.2436 loss valid: 1.0945\n",
            "Epoch 13 loss train: 0.2353 loss valid: 1.1049\n",
            "Epoch 14 loss train: 0.2268 loss valid: 1.1026\n",
            "Epoch 15 loss train: 0.2157 loss valid: 1.0707\n",
            "Epoch 16 loss train: 0.2030 loss valid: 1.0873\n",
            "Epoch 17 loss train: 0.2023 loss valid: 1.0888\n",
            "Epoch 18 loss train: 0.1877 loss valid: 1.0705\n",
            "Epoch 19 loss train: 0.1811 loss valid: 1.0940\n",
            "Epoch 20 loss train: 0.1819 loss valid: 1.0837\n",
            "Epoch 21 loss train: 0.1797 loss valid: 1.0998\n",
            "Epoch 22 loss train: 0.1735 loss valid: 1.0617\n",
            "Epoch 23 loss train: 0.1616 loss valid: 1.0507\n",
            "Epoch 24 loss train: 0.1612 loss valid: 1.0753\n",
            "Epoch 25 loss train: 0.1518 loss valid: 1.0714\n",
            "Epoch 26 loss train: 0.1502 loss valid: 1.0701\n",
            "Epoch 27 loss train: 0.1459 loss valid: 1.0733\n",
            "Epoch 28 loss train: 0.1428 loss valid: 1.0646\n",
            "Epoch 29 loss train: 0.1394 loss valid: 1.0490\n"
          ]
        }
      ]
    },
    {
      "cell_type": "code",
      "source": [
        "import matplotlib.pyplot as plt\n",
        "plt.plot(train_losses,'-o')\n",
        "plt.plot(val_losses,'-o')\n",
        "plt.xlabel('epoch')\n",
        "plt.ylabel('accuracy')\n",
        "plt.legend(['Train','Valid'])\n",
        "plt.title('Train vs Valid Loss')\n",
        "\n",
        "plt.show()"
      ],
      "metadata": {
        "colab": {
          "base_uri": "https://localhost:8080/",
          "height": 295
        },
        "id": "_hc6jnNPovZu",
        "outputId": "a6fda0d2-4391-40de-c6c0-af4012e44f18"
      },
      "execution_count": null,
      "outputs": [
        {
          "output_type": "display_data",
          "data": {
            "text/plain": [
              "<Figure size 432x288 with 1 Axes>"
            ],
            "image/png": "[encoded data removed]"
          },
          "metadata": {
            "needs_background": "light"
          }
        }
      ]
    },
    {
      "cell_type": "markdown",
      "source": [
        "##### R2"
      ],
      "metadata": {
        "id": "0HrGI5O1pOH5"
      }
    },
    {
      "cell_type": "code",
      "source": [
        "y=[]\n",
        "y_pred=[]\n",
        "with torch.no_grad():\n",
        "    model.eval()\n",
        "    for text_batch, label_batch, lengths in dataloader:\n",
        "\n",
        "        outputs = model(text_batch, lengths)[:, 0]\n",
        "        y.append(label_batch.cpu().numpy())\n",
        "        y_pred.append(outputs.cpu().numpy())"
      ],
      "metadata": {
        "id": "y9EeLKKopPeD"
      },
      "execution_count": null,
      "outputs": []
    },
    {
      "cell_type": "code",
      "source": [
        "y_pred = [a.squeeze().tolist() for a in y_pred]\n",
        "y = [a.squeeze().tolist() for a in y]\n",
        "y=sum(y,[])\n",
        "y_pred=sum(y_pred,[])"
      ],
      "metadata": {
        "id": "hbiMYBiYpb-k"
      },
      "execution_count": null,
      "outputs": []
    },
    {
      "cell_type": "code",
      "source": [
        "from sklearn.metrics import r2_score\n",
        "r_square = r2_score(y, y_pred)\n",
        "print(r_square)"
      ],
      "metadata": {
        "colab": {
          "base_uri": "https://localhost:8080/"
        },
        "id": "KDHKAw9upfLi",
        "outputId": "b4b19178-e296-4971-fcdb-c7e67a5bc67c"
      },
      "execution_count": null,
      "outputs": [
        {
          "output_type": "stream",
          "name": "stdout",
          "text": [
            "0.9874635314373907\n"
          ]
        }
      ]
    },
    {
      "cell_type": "markdown",
      "source": [
        "## Modelo GRU"
      ],
      "metadata": {
        "id": "Oi8iKT6iErTB"
      }
    },
    {
      "cell_type": "code",
      "source": [
        "class GRU(nn.Module):\n",
        "    def __init__(self, vocab_size, embed_dim, rnn_hidden_size, fc_hidden_size):\n",
        "        super().__init__()\n",
        "        self.embedding = nn.Embedding(vocab_size, \n",
        "                                      embed_dim, \n",
        "                                      padding_idx=0) \n",
        "        self.rnn = nn.GRU(embed_dim, rnn_hidden_size,num_layers=2,\n",
        "                           batch_first=True,bidirectional = True, dropout=0.3 )\n",
        "        self.fc1 = nn.Linear(rnn_hidden_size*2, fc_hidden_size)\n",
        "        self.relu = nn.ReLU()\n",
        "        self.fc2 = nn.Linear(fc_hidden_size, 1)\n",
        "\n",
        "    def forward(self, text, lengths):\n",
        "        out = self.embedding(text)\n",
        "        out = nn.utils.rnn.pack_padded_sequence(out, lengths.cpu().numpy(), enforce_sorted=False, batch_first=True)\n",
        "        out, (hidden) = self.rnn(out)\n",
        "        out = torch.cat((hidden[-2, :, :], hidden[-1, :, :]), dim=1)\n",
        "        # out = hidden[-1, :, :]\n",
        "        out = self.fc1(out)\n",
        "        out = self.relu(out)\n",
        "        out = self.fc2(out)\n",
        "        return out"
      ],
      "metadata": {
        "id": "uyjUaJ40EtxK"
      },
      "execution_count": null,
      "outputs": []
    },
    {
      "cell_type": "code",
      "source": [
        "vocab_size = len(vocab)\n",
        "embed_dim = 50\n",
        "rnn_hidden_size = 64\n",
        "fc_hidden_size = 32\n",
        "\n",
        "torch.manual_seed(1)\n",
        "model = GRU(vocab_size, embed_dim, rnn_hidden_size, fc_hidden_size) \n",
        "model = model.to(device)"
      ],
      "metadata": {
        "id": "y8mt5ZbOORpr"
      },
      "execution_count": null,
      "outputs": []
    },
    {
      "cell_type": "markdown",
      "source": [
        "### Entrenamiento"
      ],
      "metadata": {
        "id": "Xp2i1aAStMPL"
      }
    },
    {
      "cell_type": "markdown",
      "source": [
        "#### MSE"
      ],
      "metadata": {
        "id": "FIPBX91rtPLB"
      }
    },
    {
      "cell_type": "code",
      "source": [
        "train_losses=[]\n",
        "val_losses=[]\n",
        "loss_fn = nn.MSELoss()\n",
        "optimizer = torch.optim.AdamW(model.parameters(), lr=0.01)\n",
        "\n",
        "num_epochs = 30\n",
        "\n",
        "torch.manual_seed(1)\n",
        " \n",
        "for epoch in range(num_epochs):\n",
        "\n",
        "    loss_train = train(train_dl)\n",
        "    loss_eval = evaluate(valid_dl)\n",
        "    \n",
        "    print(f'Epoch {epoch} loss train: {loss_train:.4f} loss valid: {loss_eval:.4f}')\n"
      ],
      "metadata": {
        "colab": {
          "base_uri": "https://localhost:8080/"
        },
        "id": "sRl8tY3YOV6y",
        "outputId": "ba557733-6726-44e6-e6f3-427e4b436743"
      },
      "execution_count": null,
      "outputs": [
        {
          "output_type": "stream",
          "name": "stdout",
          "text": [
            "Epoch 0 loss train: 0.9984 loss valid: 0.9454\n",
            "Epoch 1 loss train: 0.9793 loss valid: 0.9562\n",
            "Epoch 2 loss train: 0.8941 loss valid: 1.1054\n",
            "Epoch 3 loss train: 0.7672 loss valid: 1.0104\n",
            "Epoch 4 loss train: 0.6166 loss valid: 1.0284\n",
            "Epoch 5 loss train: 0.5157 loss valid: 1.0730\n",
            "Epoch 6 loss train: 0.4988 loss valid: 1.0513\n",
            "Epoch 7 loss train: 0.4447 loss valid: 1.0748\n",
            "Epoch 8 loss train: 0.4053 loss valid: 1.1054\n",
            "Epoch 9 loss train: 0.3875 loss valid: 1.0762\n",
            "Epoch 10 loss train: 0.3758 loss valid: 1.1410\n",
            "Epoch 11 loss train: 0.3758 loss valid: 1.0742\n",
            "Epoch 12 loss train: 0.3514 loss valid: 1.1179\n",
            "Epoch 13 loss train: 0.3457 loss valid: 1.0688\n",
            "Epoch 14 loss train: 0.3344 loss valid: 1.1248\n",
            "Epoch 15 loss train: 0.3463 loss valid: 1.1097\n",
            "Epoch 16 loss train: 0.3498 loss valid: 1.1266\n",
            "Epoch 17 loss train: 0.3722 loss valid: 1.2009\n",
            "Epoch 18 loss train: 0.3644 loss valid: 1.1191\n",
            "Epoch 19 loss train: 0.3992 loss valid: 1.1739\n",
            "Epoch 20 loss train: 0.5324 loss valid: 1.1500\n",
            "Epoch 21 loss train: 0.7023 loss valid: 1.0628\n",
            "Epoch 22 loss train: 0.8183 loss valid: 1.1665\n",
            "Epoch 23 loss train: 0.8422 loss valid: 1.0425\n",
            "Epoch 24 loss train: 0.8322 loss valid: 1.0526\n",
            "Epoch 25 loss train: 0.8175 loss valid: 0.9974\n",
            "Epoch 26 loss train: 0.8138 loss valid: 1.1086\n",
            "Epoch 27 loss train: 0.7927 loss valid: 1.0568\n",
            "Epoch 28 loss train: 0.7987 loss valid: 1.0680\n",
            "Epoch 29 loss train: 0.8159 loss valid: 1.1168\n"
          ]
        }
      ]
    },
    {
      "cell_type": "code",
      "source": [
        "import matplotlib.pyplot as plt\n",
        "plt.plot(train_losses,'-o')\n",
        "plt.plot(val_losses,'-o')\n",
        "plt.xlabel('epoch')\n",
        "plt.ylabel('accuracy')\n",
        "plt.legend(['Train','Valid'])\n",
        "plt.title('Train vs Valid Loss')\n",
        "\n",
        "plt.show()"
      ],
      "metadata": {
        "colab": {
          "base_uri": "https://localhost:8080/",
          "height": 295
        },
        "id": "VSy8o77gXYl_",
        "outputId": "3a76bc2d-3579-4d14-a3fe-fca418e2daba"
      },
      "execution_count": null,
      "outputs": [
        {
          "output_type": "display_data",
          "data": {
            "text/plain": [
              "<Figure size 432x288 with 1 Axes>"
            ],
            "image/png": "[encoded data removed]"
          },
          "metadata": {
            "needs_background": "light"
          }
        }
      ]
    },
    {
      "cell_type": "markdown",
      "source": [
        "#### RMSE"
      ],
      "metadata": {
        "id": "ddM1Hx2LtSOZ"
      }
    },
    {
      "cell_type": "code",
      "source": [
        "vocab_size = len(vocab)\n",
        "embed_dim = 50\n",
        "rnn_hidden_size = 64\n",
        "fc_hidden_size = 32\n",
        "\n",
        "torch.manual_seed(1)\n",
        "model = GRU(vocab_size, embed_dim, rnn_hidden_size, fc_hidden_size) \n",
        "model = model.to(device)"
      ],
      "metadata": {
        "id": "_MJbOk78B5OT"
      },
      "execution_count": null,
      "outputs": []
    },
    {
      "cell_type": "code",
      "source": [
        "train_losses=[]\n",
        "val_losses=[]\n",
        "eps=1e-6\n",
        "def train(dataloader):\n",
        "    model.train()\n",
        "    total_loss = 0\n",
        "    for text_batch, label_batch, lengths in dataloader:\n",
        "        optimizer.zero_grad()\n",
        "        pred = model(text_batch, lengths)[:, 0]\n",
        "        loss = torch.sqrt(loss_fn(pred.float(), label_batch.float()) +eps)\n",
        "        loss.backward()\n",
        "        optimizer.step()\n",
        "        total_loss += loss.item()*label_batch.size(0)\n",
        "        \n",
        "    train_losses.append(total_loss/len(dataloader.dataset))\n",
        "    return total_loss/len(dataloader.dataset)\n",
        " \n",
        "def evaluate(dataloader):\n",
        "    model.eval()\n",
        "    total_loss = 0\n",
        "    with torch.no_grad():\n",
        "        for text_batch, label_batch, lengths in dataloader:\n",
        "            pred = model(text_batch, lengths)[:, 0]\n",
        "            loss = torch.sqrt(loss_fn(pred.float(), label_batch.float()) +eps)\n",
        "            total_loss += loss.item()*label_batch.size(0)\n",
        "            \n",
        "    val_losses.append(total_loss/len(dataloader.dataset))       \n",
        "    return total_loss/len(dataloader.dataset)"
      ],
      "metadata": {
        "id": "Cw_g8dx4tTcV"
      },
      "execution_count": null,
      "outputs": []
    },
    {
      "cell_type": "code",
      "source": [
        "loss_fn = nn.MSELoss()\n",
        "optimizer = torch.optim.AdamW(model.parameters(), lr=0.0001)\n",
        "\n",
        "num_epochs = 30\n",
        "\n",
        "torch.manual_seed(1)\n",
        " \n",
        "for epoch in range(num_epochs):\n",
        "\n",
        "    loss_train = train(train_dl)\n",
        "    loss_eval = evaluate(valid_dl)\n",
        "    \n",
        "    print(f'Epoch {epoch} loss train: {loss_train:.4f} loss valid: {loss_eval:.4f}')"
      ],
      "metadata": {
        "colab": {
          "base_uri": "https://localhost:8080/"
        },
        "id": "CLNcP4wPtThO",
        "outputId": "f6c13768-4c4c-4300-be4d-bf03387c7945"
      },
      "execution_count": null,
      "outputs": [
        {
          "output_type": "stream",
          "name": "stdout",
          "text": [
            "Epoch 0 loss train: 0.8041 loss valid: 1.0873\n",
            "Epoch 1 loss train: 0.7937 loss valid: 1.0957\n",
            "Epoch 2 loss train: 0.7928 loss valid: 1.0822\n",
            "Epoch 3 loss train: 0.7891 loss valid: 1.0684\n",
            "Epoch 4 loss train: 0.7749 loss valid: 1.0759\n",
            "Epoch 5 loss train: 0.7872 loss valid: 1.0870\n",
            "Epoch 6 loss train: 0.7814 loss valid: 1.0997\n",
            "Epoch 7 loss train: 0.7903 loss valid: 1.0730\n",
            "Epoch 8 loss train: 0.7862 loss valid: 1.0664\n",
            "Epoch 9 loss train: 0.7877 loss valid: 1.0766\n",
            "Epoch 10 loss train: 0.7761 loss valid: 1.0787\n",
            "Epoch 11 loss train: 0.7720 loss valid: 1.0660\n",
            "Epoch 12 loss train: 0.7888 loss valid: 1.0629\n",
            "Epoch 13 loss train: 0.7906 loss valid: 1.0710\n",
            "Epoch 14 loss train: 0.7787 loss valid: 1.0572\n",
            "Epoch 15 loss train: 0.7832 loss valid: 1.0534\n",
            "Epoch 16 loss train: 0.7735 loss valid: 1.0777\n",
            "Epoch 17 loss train: 0.7820 loss valid: 1.0736\n",
            "Epoch 18 loss train: 0.7840 loss valid: 1.0695\n",
            "Epoch 19 loss train: 0.7905 loss valid: 1.0751\n",
            "Epoch 20 loss train: 0.7836 loss valid: 1.0631\n",
            "Epoch 21 loss train: 0.7853 loss valid: 1.0626\n",
            "Epoch 22 loss train: 0.7854 loss valid: 1.0801\n",
            "Epoch 23 loss train: 0.7770 loss valid: 1.0536\n",
            "Epoch 24 loss train: 0.7817 loss valid: 1.0650\n",
            "Epoch 25 loss train: 0.7933 loss valid: 1.0813\n",
            "Epoch 26 loss train: 0.7831 loss valid: 1.0652\n",
            "Epoch 27 loss train: 0.7927 loss valid: 1.0580\n",
            "Epoch 28 loss train: 0.7866 loss valid: 1.0572\n",
            "Epoch 29 loss train: 0.7762 loss valid: 1.0635\n"
          ]
        }
      ]
    },
    {
      "cell_type": "code",
      "source": [
        "import matplotlib.pyplot as plt\n",
        "plt.plot(train_losses,'-o')\n",
        "plt.plot(val_losses,'-o')\n",
        "plt.xlabel('epoch')\n",
        "plt.ylabel('accuracy')\n",
        "plt.legend(['Train','Valid'])\n",
        "plt.title('Train vs Valid Loss')\n",
        "\n",
        "plt.show()"
      ],
      "metadata": {
        "colab": {
          "base_uri": "https://localhost:8080/",
          "height": 295
        },
        "id": "iRRxzBQstoZh",
        "outputId": "3c87f6cd-40f9-4bec-9a8b-ced4869fe0af"
      },
      "execution_count": null,
      "outputs": [
        {
          "output_type": "display_data",
          "data": {
            "text/plain": [
              "<Figure size 432x288 with 1 Axes>"
            ],
            "image/png": "[encoded data removed]"
          },
          "metadata": {
            "needs_background": "light"
          }
        }
      ]
    },
    {
      "cell_type": "markdown",
      "source": [
        "#### R2"
      ],
      "metadata": {
        "id": "q3cX6wZ3tUTE"
      }
    },
    {
      "cell_type": "code",
      "source": [
        "y=[]\n",
        "y_pred=[]\n",
        "with torch.no_grad():\n",
        "    model.eval()\n",
        "    for text_batch, label_batch, lengths in dataloader:\n",
        "\n",
        "        outputs = model(text_batch, lengths)[:, 0]\n",
        "        y.append(label_batch.cpu().numpy())\n",
        "        y_pred.append(outputs.cpu().numpy())"
      ],
      "metadata": {
        "id": "bTST00gotq61"
      },
      "execution_count": null,
      "outputs": []
    },
    {
      "cell_type": "code",
      "source": [
        "y_pred = [a.squeeze().tolist() for a in y_pred]\n",
        "y = [a.squeeze().tolist() for a in y]\n",
        "y=sum(y,[])\n",
        "y_pred=sum(y_pred,[])"
      ],
      "metadata": {
        "id": "YzAQ3VWPtq_X"
      },
      "execution_count": null,
      "outputs": []
    },
    {
      "cell_type": "code",
      "source": [
        "from sklearn.metrics import r2_score\n",
        "r_square = r2_score(y, y_pred)\n",
        "print(r_square)"
      ],
      "metadata": {
        "colab": {
          "base_uri": "https://localhost:8080/"
        },
        "id": "KSwpGH15trEF",
        "outputId": "6e6d7be1-9807-48e8-b8cd-dfffbbf2906c"
      },
      "execution_count": null,
      "outputs": [
        {
          "output_type": "stream",
          "name": "stdout",
          "text": [
            "0.442686390950082\n"
          ]
        }
      ]
    },
    {
      "cell_type": "markdown",
      "source": [
        "## Transformers"
      ],
      "metadata": {
        "id": "tPatLCIyXDDa"
      }
    },
    {
      "cell_type": "code",
      "source": [
        "!pip install -q condacolab\n",
        "import condacolab\n",
        "condacolab.install()"
      ],
      "metadata": {
        "colab": {
          "base_uri": "https://localhost:8080/"
        },
        "id": "qGpi0JwSPKSY",
        "outputId": "e7d40656-00b7-4b0f-a0d1-73b9a8774117"
      },
      "execution_count": null,
      "outputs": [
        {
          "output_type": "stream",
          "name": "stdout",
          "text": [
            "⏬ Downloading https://github.com/jaimergp/miniforge/releases/latest/download/Mambaforge-colab-Linux-x86_64.sh...\n",
            "📦 Installing...\n",
            "📌 Adjusting configuration...\n",
            "🩹 Patching environment...\n",
            "⏲ Done in 0:00:33\n",
            "🔁 Restarting kernel...\n"
          ]
        }
      ]
    },
    {
      "cell_type": "code",
      "source": [
        "! conda install pytorch torchvision cudatoolkit=10.0 -c pytorch\n",
        "! git clone https://github.com/jerryji1993/DNABERT\n",
        "! cd DNABERT\n",
        "! cd examples\n",
        "!python3 -m pip install -r /content/drive/MyDrive/CarlosD/DNABERT/examples/requirements.txt\n"
      ],
      "metadata": {
        "id": "3lMyoRLfXNHh",
        "colab": {
          "base_uri": "https://localhost:8080/"
        },
        "outputId": "89240c6d-ee66-43de-f4f8-0e4d3236b556"
      },
      "execution_count": null,
      "outputs": [
        {
          "output_type": "stream",
          "name": "stdout",
          "text": [
            "Collecting package metadata (current_repodata.json): - \b\b\\ \b\b| \b\b/ \b\b- \b\b\\ \b\b| \b\b/ \b\b- \b\b\\ \b\b| \b\b/ \b\b- \b\b\\ \b\b| \b\b/ \b\b- \b\b\\ \b\b| \b\b/ \b\b- \b\b\\ \b\b| \b\b/ \b\bdone\n",
            "Solving environment: \\ \b\b| \b\b/ \b\b- \b\b\\ \b\b| \b\b/ \b\b- \b\b\\ \b\b| \b\b/ \b\b- \b\b\\ \b\b| \b\b/ \b\b- \b\b\\ \b\b| \b\b/ \b\b- \b\b\\ \b\b| \b\b/ WARNING conda.core.solve:_add_specs(649): pinned spec cudatoolkit=11.1 conflicts with explicit specs.  Overriding pinned spec.\n",
            "\b\b- \b\b\\ \b\b| \b\b/ \b\b- \b\b\\ \b\b| \b\b/ \b\b- \b\b\\ \b\b| \b\b/ \b\b- \b\b\\ \b\b| \b\b/ \b\b- \b\b\\ \b\b| \b\b/ \b\bdone\n",
            "\n",
            "# All requested packages already installed.\n",
            "\n",
            "Cloning into 'DNABERT'...\n",
            "remote: Enumerating objects: 766, done.\u001b[K\n",
            "remote: Total 766 (delta 0), reused 0 (delta 0), pack-reused 766\u001b[K\n",
            "Receiving objects: 100% (766/766), 11.60 MiB | 9.83 MiB/s, done.\n",
            "Resolving deltas: 100% (403/403), done.\n",
            "Checking out files: 100% (252/252), done.\n",
            "/bin/bash: line 0: cd: examples: No such file or directory\n",
            "Requirement already satisfied: tensorboardX in /usr/local/lib/python3.7/site-packages (from -r /content/drive/MyDrive/CarlosD/DNABERT/examples/requirements.txt (line 1)) (2.5)\n",
            "Requirement already satisfied: tensorboard in /usr/local/lib/python3.7/site-packages (from -r /content/drive/MyDrive/CarlosD/DNABERT/examples/requirements.txt (line 2)) (2.9.0)\n",
            "Requirement already satisfied: scikit-learn>=0.22.2 in /usr/local/lib/python3.7/site-packages (from -r /content/drive/MyDrive/CarlosD/DNABERT/examples/requirements.txt (line 3)) (1.0.2)\n",
            "Requirement already satisfied: seqeval in /usr/local/lib/python3.7/site-packages (from -r /content/drive/MyDrive/CarlosD/DNABERT/examples/requirements.txt (line 4)) (1.2.2)\n",
            "Requirement already satisfied: pyahocorasick in /usr/local/lib/python3.7/site-packages (from -r /content/drive/MyDrive/CarlosD/DNABERT/examples/requirements.txt (line 5)) (1.4.4)\n",
            "Requirement already satisfied: scipy in /usr/local/lib/python3.7/site-packages (from -r /content/drive/MyDrive/CarlosD/DNABERT/examples/requirements.txt (line 6)) (1.7.3)\n",
            "Requirement already satisfied: statsmodels in /usr/local/lib/python3.7/site-packages (from -r /content/drive/MyDrive/CarlosD/DNABERT/examples/requirements.txt (line 7)) (0.13.2)\n",
            "Requirement already satisfied: biopython in /usr/local/lib/python3.7/site-packages (from -r /content/drive/MyDrive/CarlosD/DNABERT/examples/requirements.txt (line 8)) (1.79)\n",
            "Requirement already satisfied: pandas in /usr/local/lib/python3.7/site-packages (from -r /content/drive/MyDrive/CarlosD/DNABERT/examples/requirements.txt (line 9)) (1.3.5)\n",
            "Requirement already satisfied: pybedtools in /usr/local/lib/python3.7/site-packages (from -r /content/drive/MyDrive/CarlosD/DNABERT/examples/requirements.txt (line 10)) (0.9.0)\n",
            "Requirement already satisfied: sentencepiece==0.1.91 in /usr/local/lib/python3.7/site-packages (from -r /content/drive/MyDrive/CarlosD/DNABERT/examples/requirements.txt (line 11)) (0.1.91)\n",
            "Requirement already satisfied: joblib>=0.11 in /usr/local/lib/python3.7/site-packages (from scikit-learn>=0.22.2->-r /content/drive/MyDrive/CarlosD/DNABERT/examples/requirements.txt (line 3)) (1.1.0)\n",
            "Requirement already satisfied: numpy>=1.14.6 in /usr/local/lib/python3.7/site-packages (from scikit-learn>=0.22.2->-r /content/drive/MyDrive/CarlosD/DNABERT/examples/requirements.txt (line 3)) (1.20.3)\n",
            "Requirement already satisfied: threadpoolctl>=2.0.0 in /usr/local/lib/python3.7/site-packages (from scikit-learn>=0.22.2->-r /content/drive/MyDrive/CarlosD/DNABERT/examples/requirements.txt (line 3)) (3.1.0)\n",
            "Requirement already satisfied: python-dateutil>=2.7.3 in /usr/local/lib/python3.7/site-packages (from pandas->-r /content/drive/MyDrive/CarlosD/DNABERT/examples/requirements.txt (line 9)) (2.8.2)\n",
            "Requirement already satisfied: pytz>=2017.3 in /usr/local/lib/python3.7/site-packages (from pandas->-r /content/drive/MyDrive/CarlosD/DNABERT/examples/requirements.txt (line 9)) (2022.1)\n",
            "Requirement already satisfied: six>=1.5 in /usr/local/lib/python3.7/site-packages (from python-dateutil>=2.7.3->pandas->-r /content/drive/MyDrive/CarlosD/DNABERT/examples/requirements.txt (line 9)) (1.15.0)\n",
            "Requirement already satisfied: pysam in /usr/local/lib/python3.7/site-packages (from pybedtools->-r /content/drive/MyDrive/CarlosD/DNABERT/examples/requirements.txt (line 10)) (0.19.0)\n",
            "Requirement already satisfied: patsy>=0.5.2 in /usr/local/lib/python3.7/site-packages (from statsmodels->-r /content/drive/MyDrive/CarlosD/DNABERT/examples/requirements.txt (line 7)) (0.5.2)\n",
            "Requirement already satisfied: packaging>=21.3 in /usr/local/lib/python3.7/site-packages (from statsmodels->-r /content/drive/MyDrive/CarlosD/DNABERT/examples/requirements.txt (line 7)) (21.3)\n",
            "Requirement already satisfied: pyparsing!=3.0.5,>=2.0.2 in /usr/local/lib/python3.7/site-packages (from packaging>=21.3->statsmodels->-r /content/drive/MyDrive/CarlosD/DNABERT/examples/requirements.txt (line 7)) (3.0.9)\n",
            "Requirement already satisfied: google-auth-oauthlib<0.5,>=0.4.1 in /usr/local/lib/python3.7/site-packages (from tensorboard->-r /content/drive/MyDrive/CarlosD/DNABERT/examples/requirements.txt (line 2)) (0.4.6)\n",
            "Requirement already satisfied: protobuf>=3.9.2 in /usr/local/lib/python3.7/site-packages (from tensorboard->-r /content/drive/MyDrive/CarlosD/DNABERT/examples/requirements.txt (line 2)) (3.20.1)\n",
            "Requirement already satisfied: wheel>=0.26 in /usr/local/lib/python3.7/site-packages (from tensorboard->-r /content/drive/MyDrive/CarlosD/DNABERT/examples/requirements.txt (line 2)) (0.36.2)\n",
            "Requirement already satisfied: setuptools>=41.0.0 in /usr/local/lib/python3.7/site-packages (from tensorboard->-r /content/drive/MyDrive/CarlosD/DNABERT/examples/requirements.txt (line 2)) (49.6.0.post20210108)\n",
            "Requirement already satisfied: tensorboard-data-server<0.7.0,>=0.6.0 in /usr/local/lib/python3.7/site-packages (from tensorboard->-r /content/drive/MyDrive/CarlosD/DNABERT/examples/requirements.txt (line 2)) (0.6.1)\n",
            "Requirement already satisfied: tensorboard-plugin-wit>=1.6.0 in /usr/local/lib/python3.7/site-packages (from tensorboard->-r /content/drive/MyDrive/CarlosD/DNABERT/examples/requirements.txt (line 2)) (1.8.1)\n",
            "Requirement already satisfied: google-auth<3,>=1.6.3 in /usr/local/lib/python3.7/site-packages (from tensorboard->-r /content/drive/MyDrive/CarlosD/DNABERT/examples/requirements.txt (line 2)) (2.6.6)\n",
            "Requirement already satisfied: werkzeug>=1.0.1 in /usr/local/lib/python3.7/site-packages (from tensorboard->-r /content/drive/MyDrive/CarlosD/DNABERT/examples/requirements.txt (line 2)) (2.1.2)\n",
            "Requirement already satisfied: requests<3,>=2.21.0 in /usr/local/lib/python3.7/site-packages (from tensorboard->-r /content/drive/MyDrive/CarlosD/DNABERT/examples/requirements.txt (line 2)) (2.25.1)\n",
            "Requirement already satisfied: absl-py>=0.4 in /usr/local/lib/python3.7/site-packages (from tensorboard->-r /content/drive/MyDrive/CarlosD/DNABERT/examples/requirements.txt (line 2)) (1.0.0)\n",
            "Requirement already satisfied: grpcio>=1.24.3 in /usr/local/lib/python3.7/site-packages (from tensorboard->-r /content/drive/MyDrive/CarlosD/DNABERT/examples/requirements.txt (line 2)) (1.46.1)\n",
            "Requirement already satisfied: markdown>=2.6.8 in /usr/local/lib/python3.7/site-packages (from tensorboard->-r /content/drive/MyDrive/CarlosD/DNABERT/examples/requirements.txt (line 2)) (3.3.7)\n",
            "Requirement already satisfied: pyasn1-modules>=0.2.1 in /usr/local/lib/python3.7/site-packages (from google-auth<3,>=1.6.3->tensorboard->-r /content/drive/MyDrive/CarlosD/DNABERT/examples/requirements.txt (line 2)) (0.2.8)\n",
            "Requirement already satisfied: cachetools<6.0,>=2.0.0 in /usr/local/lib/python3.7/site-packages (from google-auth<3,>=1.6.3->tensorboard->-r /content/drive/MyDrive/CarlosD/DNABERT/examples/requirements.txt (line 2)) (5.0.0)\n",
            "Requirement already satisfied: rsa<5,>=3.1.4 in /usr/local/lib/python3.7/site-packages (from google-auth<3,>=1.6.3->tensorboard->-r /content/drive/MyDrive/CarlosD/DNABERT/examples/requirements.txt (line 2)) (4.8)\n",
            "Requirement already satisfied: requests-oauthlib>=0.7.0 in /usr/local/lib/python3.7/site-packages (from google-auth-oauthlib<0.5,>=0.4.1->tensorboard->-r /content/drive/MyDrive/CarlosD/DNABERT/examples/requirements.txt (line 2)) (1.3.1)\n",
            "Requirement already satisfied: importlib-metadata>=4.4 in /usr/local/lib/python3.7/site-packages (from markdown>=2.6.8->tensorboard->-r /content/drive/MyDrive/CarlosD/DNABERT/examples/requirements.txt (line 2)) (4.11.3)\n",
            "Requirement already satisfied: typing-extensions>=3.6.4 in /usr/local/lib/python3.7/site-packages (from importlib-metadata>=4.4->markdown>=2.6.8->tensorboard->-r /content/drive/MyDrive/CarlosD/DNABERT/examples/requirements.txt (line 2)) (4.2.0)\n",
            "Requirement already satisfied: zipp>=0.5 in /usr/local/lib/python3.7/site-packages (from importlib-metadata>=4.4->markdown>=2.6.8->tensorboard->-r /content/drive/MyDrive/CarlosD/DNABERT/examples/requirements.txt (line 2)) (3.8.0)\n",
            "Requirement already satisfied: pyasn1<0.5.0,>=0.4.6 in /usr/local/lib/python3.7/site-packages (from pyasn1-modules>=0.2.1->google-auth<3,>=1.6.3->tensorboard->-r /content/drive/MyDrive/CarlosD/DNABERT/examples/requirements.txt (line 2)) (0.4.8)\n",
            "Requirement already satisfied: chardet<5,>=3.0.2 in /usr/local/lib/python3.7/site-packages (from requests<3,>=2.21.0->tensorboard->-r /content/drive/MyDrive/CarlosD/DNABERT/examples/requirements.txt (line 2)) (4.0.0)\n",
            "Requirement already satisfied: idna<3,>=2.5 in /usr/local/lib/python3.7/site-packages (from requests<3,>=2.21.0->tensorboard->-r /content/drive/MyDrive/CarlosD/DNABERT/examples/requirements.txt (line 2)) (2.10)\n",
            "Requirement already satisfied: certifi>=2017.4.17 in /usr/local/lib/python3.7/site-packages (from requests<3,>=2.21.0->tensorboard->-r /content/drive/MyDrive/CarlosD/DNABERT/examples/requirements.txt (line 2)) (2021.10.8)\n",
            "Requirement already satisfied: urllib3<1.27,>=1.21.1 in /usr/local/lib/python3.7/site-packages (from requests<3,>=2.21.0->tensorboard->-r /content/drive/MyDrive/CarlosD/DNABERT/examples/requirements.txt (line 2)) (1.26.3)\n",
            "Requirement already satisfied: oauthlib>=3.0.0 in /usr/local/lib/python3.7/site-packages (from requests-oauthlib>=0.7.0->google-auth-oauthlib<0.5,>=0.4.1->tensorboard->-r /content/drive/MyDrive/CarlosD/DNABERT/examples/requirements.txt (line 2)) (3.2.0)\n"
          ]
        }
      ]
    },
    {
      "cell_type": "markdown",
      "source": [
        "### Data processing"
      ],
      "metadata": {
        "id": "gLe43TTDhGE4"
      }
    },
    {
      "cell_type": "code",
      "source": [
        "import os\n",
        "import pandas as pd\n",
        "import numpy as np"
      ],
      "metadata": {
        "id": "iUvRvC7TjByz"
      },
      "execution_count": null,
      "outputs": []
    },
    {
      "cell_type": "code",
      "source": [
        "text_data = pd.read_csv('text_data_norm.csv')"
      ],
      "metadata": {
        "id": "04jjr0B6qeSj"
      },
      "execution_count": null,
      "outputs": []
    },
    {
      "cell_type": "code",
      "source": [
        "def seq2kmer(seq, k):\n",
        "    \"\"\"\n",
        "    Convert original sequence to kmers\n",
        "    \n",
        "    Arguments:\n",
        "    seq -- str, original sequence.\n",
        "    k -- int, kmer of length k specified.\n",
        "    \n",
        "    Returns:\n",
        "    kmers -- str, kmers separated by space\n",
        "    \"\"\"\n",
        "    kmer = [seq[x:x+k] for x in range(len(seq)+1-k)]\n",
        "    kmers = \" \".join(kmer)\n",
        "    return kmers"
      ],
      "metadata": {
        "id": "e0YIqFAxLDDC"
      },
      "execution_count": null,
      "outputs": []
    },
    {
      "cell_type": "code",
      "source": [
        "sequences_kmer=[]\n",
        "targets_kmer=[]\n",
        "for line in text_data.sequence:\n",
        "    sequences_kmer.append(seq2kmer(line,6))\n",
        "\n",
        "for line in text_data.target:\n",
        "    targets_kmer.append(line)\n",
        "\n",
        "\n",
        "data_kmer=np.column_stack([sequences_kmer, targets_kmer])\n"
      ],
      "metadata": {
        "id": "ZxJFNLUDi_uG"
      },
      "execution_count": null,
      "outputs": []
    },
    {
      "cell_type": "code",
      "source": [
        "np.savetxt(\"sequences_kmer.tsv\",text_data,fmt='%s',delimiter=\",\", comments=\"\")"
      ],
      "metadata": {
        "id": "IPreVhcauTva"
      },
      "execution_count": null,
      "outputs": []
    },
    {
      "cell_type": "code",
      "source": [
        "cd {\"/content/drive/MyDrive/CarlosD/DNABERT\"}"
      ],
      "metadata": {
        "colab": {
          "base_uri": "https://localhost:8080/"
        },
        "id": "T48wOVSDUzSG",
        "outputId": "de7823d0-2848-41ce-9c2d-fe005938e1ba"
      },
      "execution_count": null,
      "outputs": [
        {
          "output_type": "stream",
          "name": "stdout",
          "text": [
            "/content/drive/MyDrive/CarlosD/DNABERT\n"
          ]
        }
      ]
    },
    {
      "cell_type": "code",
      "source": [
        "!!unzip 6-new-12w-0.zip"
      ],
      "metadata": {
        "colab": {
          "base_uri": "https://localhost:8080/"
        },
        "id": "wOkggtDlU_kz",
        "outputId": "24c2c83f-3927-4b6f-db01-afd1ba794247"
      },
      "execution_count": null,
      "outputs": [
        {
          "output_type": "stream",
          "name": "stdout",
          "text": [
            "Archive:  6-new-12w-0.zip\n",
            "   creating: 6-new-12w-0/\n",
            "  inflating: 6-new-12w-0/vocab.txt   \n",
            "  inflating: 6-new-12w-0/pytorch_model.bin  \n",
            " extracting: 6-new-12w-0/tokenizer_config.json  \n",
            "  inflating: 6-new-12w-0/special_tokens_map.json  \n",
            "  inflating: 6-new-12w-0/config.json  \n"
          ]
        }
      ]
    },
    {
      "cell_type": "code",
      "source": [
        "!pip install git+https://github.com/huggingface/transformers/\n",
        "! python3 -m pip install --editable /content/drive/MyDrive/CarlosD/DNABERT"
      ],
      "metadata": {
        "colab": {
          "base_uri": "https://localhost:8080/"
        },
        "id": "6pGn_OSSaqyC",
        "outputId": "39b3b3f1-e7ef-497d-d58d-2ee398710616"
      },
      "execution_count": null,
      "outputs": [
        {
          "output_type": "stream",
          "name": "stdout",
          "text": [
            "Collecting git+https://github.com/huggingface/transformers/\n",
            "  Cloning https://github.com/huggingface/transformers/ to /tmp/pip-req-build-k8y3ja2e\n",
            "  Running command git clone -q https://github.com/huggingface/transformers/ /tmp/pip-req-build-k8y3ja2e\n",
            "  Installing build dependencies ... \u001b[?25l\u001b[?25hdone\n",
            "  Getting requirements to build wheel ... \u001b[?25l\u001b[?25hdone\n",
            "    Preparing wheel metadata ... \u001b[?25l\u001b[?25hdone\n",
            "Requirement already satisfied: pyyaml>=5.1 in /usr/local/lib/python3.7/site-packages (from transformers==4.20.0.dev0) (6.0)\n",
            "Requirement already satisfied: tqdm>=4.27 in /usr/local/lib/python3.7/site-packages (from transformers==4.20.0.dev0) (4.59.0)\n",
            "Collecting tokenizers!=0.11.3,<0.13,>=0.11.1\n",
            "  Using cached tokenizers-0.12.1-cp37-cp37m-manylinux_2_12_x86_64.manylinux2010_x86_64.whl (6.6 MB)\n",
            "Requirement already satisfied: requests in /usr/local/lib/python3.7/site-packages (from transformers==4.20.0.dev0) (2.25.1)\n",
            "Requirement already satisfied: huggingface-hub<1.0,>=0.1.0 in /usr/local/lib/python3.7/site-packages (from transformers==4.20.0.dev0) (0.6.0)\n",
            "Requirement already satisfied: importlib-metadata in /usr/local/lib/python3.7/site-packages (from transformers==4.20.0.dev0) (4.11.3)\n",
            "Requirement already satisfied: packaging>=20.0 in /usr/local/lib/python3.7/site-packages (from transformers==4.20.0.dev0) (21.3)\n",
            "Requirement already satisfied: regex!=2019.12.17 in /usr/local/lib/python3.7/site-packages (from transformers==4.20.0.dev0) (2022.4.24)\n",
            "Requirement already satisfied: filelock in /usr/local/lib/python3.7/site-packages (from transformers==4.20.0.dev0) (3.6.0)\n",
            "Requirement already satisfied: numpy>=1.17 in /usr/local/lib/python3.7/site-packages (from transformers==4.20.0.dev0) (1.20.3)\n",
            "Requirement already satisfied: typing-extensions>=3.7.4.3 in /usr/local/lib/python3.7/site-packages (from huggingface-hub<1.0,>=0.1.0->transformers==4.20.0.dev0) (4.2.0)\n",
            "Requirement already satisfied: pyparsing!=3.0.5,>=2.0.2 in /usr/local/lib/python3.7/site-packages (from packaging>=20.0->transformers==4.20.0.dev0) (3.0.9)\n",
            "Requirement already satisfied: zipp>=0.5 in /usr/local/lib/python3.7/site-packages (from importlib-metadata->transformers==4.20.0.dev0) (3.8.0)\n",
            "Requirement already satisfied: certifi>=2017.4.17 in /usr/local/lib/python3.7/site-packages (from requests->transformers==4.20.0.dev0) (2021.10.8)\n",
            "Requirement already satisfied: urllib3<1.27,>=1.21.1 in /usr/local/lib/python3.7/site-packages (from requests->transformers==4.20.0.dev0) (1.26.3)\n",
            "Requirement already satisfied: idna<3,>=2.5 in /usr/local/lib/python3.7/site-packages (from requests->transformers==4.20.0.dev0) (2.10)\n",
            "Requirement already satisfied: chardet<5,>=3.0.2 in /usr/local/lib/python3.7/site-packages (from requests->transformers==4.20.0.dev0) (4.0.0)\n",
            "Building wheels for collected packages: transformers\n",
            "  Building wheel for transformers (PEP 517) ... \u001b[?25l\u001b[?25hdone\n",
            "  Created wheel for transformers: filename=transformers-4.20.0.dev0-py3-none-any.whl size=4166659 sha256=44d3950d6ee8c2555c920e2a4f91ad0761402dda8cdcedb9b65cb773c43f501d\n",
            "  Stored in directory: /tmp/pip-ephem-wheel-cache-u8dgcndi/wheels/fb/1b/91/0fcf504c386d427d65bbaf663eadf8e18cbf9795394ed7050d\n",
            "Successfully built transformers\n",
            "Installing collected packages: tokenizers, transformers\n",
            "  Attempting uninstall: tokenizers\n",
            "    Found existing installation: tokenizers 0.5.0\n",
            "    Uninstalling tokenizers-0.5.0:\n",
            "      Successfully uninstalled tokenizers-0.5.0\n",
            "  Attempting uninstall: transformers\n",
            "    Found existing installation: transformers 2.5.0\n",
            "    Uninstalling transformers-2.5.0:\n",
            "      Successfully uninstalled transformers-2.5.0\n",
            "Successfully installed tokenizers-0.12.1 transformers-4.20.0.dev0\n",
            "Obtaining file:///content/drive/MyDrive/CarlosD/DNABERT\n",
            "Requirement already satisfied: numpy in /usr/local/lib/python3.7/site-packages (from transformers==2.5.0) (1.20.3)\n",
            "Collecting tokenizers==0.5.0\n",
            "  Using cached tokenizers-0.5.0-cp37-cp37m-manylinux1_x86_64.whl (5.7 MB)\n",
            "Requirement already satisfied: boto3 in /usr/local/lib/python3.7/site-packages (from transformers==2.5.0) (1.22.12)\n",
            "Requirement already satisfied: filelock in /usr/local/lib/python3.7/site-packages (from transformers==2.5.0) (3.6.0)\n",
            "Requirement already satisfied: requests in /usr/local/lib/python3.7/site-packages (from transformers==2.5.0) (2.25.1)\n",
            "Requirement already satisfied: tqdm>=4.27 in /usr/local/lib/python3.7/site-packages (from transformers==2.5.0) (4.59.0)\n",
            "Requirement already satisfied: regex!=2019.12.17 in /usr/local/lib/python3.7/site-packages (from transformers==2.5.0) (2022.4.24)\n",
            "Requirement already satisfied: sentencepiece in /usr/local/lib/python3.7/site-packages (from transformers==2.5.0) (0.1.91)\n",
            "Requirement already satisfied: sacremoses in /usr/local/lib/python3.7/site-packages (from transformers==2.5.0) (0.0.53)\n",
            "Requirement already satisfied: jmespath<2.0.0,>=0.7.1 in /usr/local/lib/python3.7/site-packages (from boto3->transformers==2.5.0) (1.0.0)\n",
            "Requirement already satisfied: s3transfer<0.6.0,>=0.5.0 in /usr/local/lib/python3.7/site-packages (from boto3->transformers==2.5.0) (0.5.2)\n",
            "Requirement already satisfied: botocore<1.26.0,>=1.25.12 in /usr/local/lib/python3.7/site-packages (from boto3->transformers==2.5.0) (1.25.12)\n",
            "Requirement already satisfied: urllib3<1.27,>=1.25.4 in /usr/local/lib/python3.7/site-packages (from botocore<1.26.0,>=1.25.12->boto3->transformers==2.5.0) (1.26.3)\n",
            "Requirement already satisfied: python-dateutil<3.0.0,>=2.1 in /usr/local/lib/python3.7/site-packages (from botocore<1.26.0,>=1.25.12->boto3->transformers==2.5.0) (2.8.2)\n",
            "Requirement already satisfied: six>=1.5 in /usr/local/lib/python3.7/site-packages (from python-dateutil<3.0.0,>=2.1->botocore<1.26.0,>=1.25.12->boto3->transformers==2.5.0) (1.15.0)\n",
            "Requirement already satisfied: idna<3,>=2.5 in /usr/local/lib/python3.7/site-packages (from requests->transformers==2.5.0) (2.10)\n",
            "Requirement already satisfied: certifi>=2017.4.17 in /usr/local/lib/python3.7/site-packages (from requests->transformers==2.5.0) (2021.10.8)\n",
            "Requirement already satisfied: chardet<5,>=3.0.2 in /usr/local/lib/python3.7/site-packages (from requests->transformers==2.5.0) (4.0.0)\n",
            "Requirement already satisfied: click in /usr/local/lib/python3.7/site-packages (from sacremoses->transformers==2.5.0) (8.1.3)\n",
            "Requirement already satisfied: joblib in /usr/local/lib/python3.7/site-packages (from sacremoses->transformers==2.5.0) (1.1.0)\n",
            "Requirement already satisfied: importlib-metadata in /usr/local/lib/python3.7/site-packages (from click->sacremoses->transformers==2.5.0) (4.11.3)\n",
            "Requirement already satisfied: zipp>=0.5 in /usr/local/lib/python3.7/site-packages (from importlib-metadata->click->sacremoses->transformers==2.5.0) (3.8.0)\n",
            "Requirement already satisfied: typing-extensions>=3.6.4 in /usr/local/lib/python3.7/site-packages (from importlib-metadata->click->sacremoses->transformers==2.5.0) (4.2.0)\n",
            "Installing collected packages: tokenizers, transformers\n",
            "  Attempting uninstall: tokenizers\n",
            "    Found existing installation: tokenizers 0.12.1\n",
            "    Uninstalling tokenizers-0.12.1:\n",
            "      Successfully uninstalled tokenizers-0.12.1\n",
            "  Attempting uninstall: transformers\n",
            "    Found existing installation: transformers 4.20.0.dev0\n",
            "    Uninstalling transformers-4.20.0.dev0:\n",
            "      Successfully uninstalled transformers-4.20.0.dev0\n",
            "  Running setup.py develop for transformers\n",
            "Successfully installed tokenizers-0.5.0 transformers\n"
          ]
        }
      ]
    },
    {
      "cell_type": "markdown",
      "source": [
        "### Fine tuning (with pretrained model)"
      ],
      "metadata": {
        "id": "eqIBzOMsXZ-F"
      }
    },
    {
      "cell_type": "code",
      "source": [
        "ls"
      ],
      "metadata": {
        "colab": {
          "base_uri": "https://localhost:8080/"
        },
        "id": "SdvpPHiAnbNk",
        "outputId": "db0d09c3-c08b-4e61-c58c-afabb370f200"
      },
      "execution_count": null,
      "outputs": [
        {
          "output_type": "stream",
          "name": "stdout",
          "text": [
            "\u001b[0m\u001b[01;34mdrive\u001b[0m/  \u001b[01;34msample_data\u001b[0m/\n"
          ]
        }
      ]
    },
    {
      "cell_type": "code",
      "source": [
        "!export KMER=6\n",
        "!export MODEL_PATH=/content/drive/MyDrive/CarlosD/DNABERT/modelo\n",
        "!export DATA_PATH=/content/drive/MyDrive/CarlosD/DNABERT/examples/sample_data/ft/6\n",
        "!export OUTPUT_PATH=/content/drive/MyDrive/CarlosD/DNABERT/examples/ft/6\n",
        "\n",
        "!python3 \"/content/drive/MyDrive/CarlosD/DNABERT/examples/run_finetune.py\" \\\n",
        "    --model_type dna \\\n",
        "    --tokenizer_name dna6 \\\n",
        "    --model_name_or_path /content/drive/MyDrive/CarlosD/DNABERT/modelo \\\n",
        "    --task_name dnaprom \\\n",
        "    --do_train \\\n",
        "    --do_eval \\\n",
        "    --data_dir /content/drive/MyDrive/CarlosD/DNABERT/examples/sample_data/ft/6 \\\n",
        "    --max_seq_length 100 \\\n",
        "    --per_gpu_eval_batch_size=3   \\\n",
        "    --per_gpu_train_batch_size=3   \\\n",
        "    --learning_rate 2e-4 \\\n",
        "    --num_train_epochs 3.0 \\\n",
        "    --output_dir /content/drive/MyDrive/CarlosD/DNABERT/examples/ft/6 \\\n",
        "    --evaluate_during_training \\\n",
        "    --logging_steps 100 \\\n",
        "    --save_steps 4000 \\\n",
        "    --warmup_percent 0.1 \\\n",
        "    --hidden_dropout_prob 0.1 \\\n",
        "    --overwrite_output \\\n",
        "    --weight_decay 0.01 \\\n",
        "    --n_process 1"
      ],
      "metadata": {
        "colab": {
          "base_uri": "https://localhost:8080/"
        },
        "id": "rTkHDcQkV6ZG",
        "outputId": "15d257d5-1833-4794-ada7-c7e85358b349"
      },
      "execution_count": null,
      "outputs": [
        {
          "output_type": "stream",
          "name": "stdout",
          "text": [
            "05/12/2022 18:48:59 - WARNING - __main__ -   Process rank: -1, device: cpu, n_gpu: 0, distributed training: False, 16-bits training: False\n",
            "Traceback (most recent call last):\n",
            "  File \"/content/drive/MyDrive/CarlosD/DNABERT/examples/run_finetune.py\", line 1284, in <module>\n",
            "    main()\n",
            "  File \"/content/drive/MyDrive/CarlosD/DNABERT/examples/run_finetune.py\", line 1045, in main\n",
            "    raise ValueError(\"Task not found: %s\" % (args.task_name))\n",
            "ValueError: Task not found: logistic_regression\n"
          ]
        }
      ]
    },
    {
      "cell_type": "markdown",
      "source": [
        "## RNN con frecuencias de nucleótidos"
      ],
      "metadata": {
        "id": "TigRY1CIkmlm"
      }
    },
    {
      "cell_type": "code",
      "source": [
        "import torch\n",
        "import numpy as np\n",
        "from torch import nn\n",
        "from torch.utils.data import DataLoader\n",
        "from sklearn.preprocessing import StandardScaler"
      ],
      "metadata": {
        "id": "R34Kxzag-pbS"
      },
      "execution_count": null,
      "outputs": []
    },
    {
      "cell_type": "code",
      "source": [
        "X2_data=np.loadtxt('X2_data.csv', delimiter=',')\n",
        "Y_data=np.loadtxt('Y_data.csv', delimiter=',')"
      ],
      "metadata": {
        "id": "7uv07q0lawQv"
      },
      "execution_count": null,
      "outputs": []
    },
    {
      "cell_type": "code",
      "source": [
        "X2_data.shape"
      ],
      "metadata": {
        "colab": {
          "base_uri": "https://localhost:8080/"
        },
        "id": "HP-EKxd18TiR",
        "outputId": "93a0a94c-0ab0-4c57-9aef-ca08c02e71d2"
      },
      "execution_count": null,
      "outputs": [
        {
          "output_type": "execute_result",
          "data": {
            "text/plain": [
              "(4238, 72)"
            ]
          },
          "metadata": {},
          "execution_count": 100
        }
      ]
    },
    {
      "cell_type": "code",
      "source": [
        "Y_data.shape"
      ],
      "metadata": {
        "colab": {
          "base_uri": "https://localhost:8080/"
        },
        "id": "XS_vq45nYOPb",
        "outputId": "06e9c3d2-29d9-43c4-9832-f5a6ae413612"
      },
      "execution_count": null,
      "outputs": [
        {
          "output_type": "execute_result",
          "data": {
            "text/plain": [
              "(4238,)"
            ]
          },
          "metadata": {},
          "execution_count": 101
        }
      ]
    },
    {
      "cell_type": "code",
      "source": [
        "class PrepareDataset(torch.utils.data.Dataset):\n",
        "\n",
        "  def __init__(self, X, y, scale_data=True):\n",
        "    if not torch.is_tensor(X) and not torch.is_tensor(y):\n",
        "      # Apply scaling if necessary\n",
        "      if scale_data:\n",
        "          X = StandardScaler().fit_transform(X)\n",
        "      self.X = torch.from_numpy(X)\n",
        "      self.y = torch.from_numpy(y)\n",
        "\n",
        "  def __len__(self):\n",
        "      return len(self.X)\n",
        "\n",
        "  def __getitem__(self, i):\n",
        "      return self.X[i], self.y[i]"
      ],
      "metadata": {
        "id": "rEZWsiWC-tWy"
      },
      "execution_count": null,
      "outputs": []
    },
    {
      "cell_type": "code",
      "source": [
        "from torch.utils.data.dataset import random_split\n",
        "dataset = PrepareDataset(X2_data, Y_data)\n",
        "tr_per = 0.7\n",
        "train2_dataset, valid2_dataset = random_split(dataset,\n",
        " [int(len(dataset)*tr_per),len(dataset) - int(len(dataset)*tr_per)], torch.manual_seed(42))\n",
        "\n",
        "train_dataloader = DataLoader(train2_dataset, batch_size=10, shuffle=True, num_workers=1)\n",
        "valid_dataloader = DataLoader(valid2_dataset, batch_size=10, shuffle=True, num_workers=1)"
      ],
      "metadata": {
        "id": "uI6ixF----aI"
      },
      "execution_count": null,
      "outputs": []
    },
    {
      "cell_type": "markdown",
      "source": [
        "### Modelo MLP"
      ],
      "metadata": {
        "id": "i6qvft12e8UB"
      }
    },
    {
      "cell_type": "code",
      "source": [
        "class MLP(nn.Module):\n",
        "  '''\n",
        "    Multilayer Perceptron for regression.\n",
        "  '''\n",
        "  def __init__(self):\n",
        "    super().__init__()\n",
        "    self.layers = nn.Sequential(\n",
        "      nn.Linear(72, 64),\n",
        "      nn.Dropout(p=0.1),\n",
        "      nn.ReLU(),\n",
        "      nn.Linear(64, 32),\n",
        "      nn.Dropout(p=0.1),\n",
        "      nn.ReLU(),\n",
        "      nn.Linear(32, 1)\n",
        "    )\n",
        "\n",
        "\n",
        "  def forward(self, x):\n",
        "    '''\n",
        "      Forward pass\n",
        "    '''\n",
        "    return self.layers(x)"
      ],
      "metadata": {
        "id": "lFvF2Ppxexw6"
      },
      "execution_count": null,
      "outputs": []
    },
    {
      "cell_type": "markdown",
      "source": [
        "### MSE"
      ],
      "metadata": {
        "id": "e7wZdQtyK_lc"
      }
    },
    {
      "cell_type": "code",
      "source": [
        " # Run the training loop\n",
        "train_losses=[]\n",
        "val_losses=[]\n",
        "\n",
        "def train(dataloader):\n",
        "  model.train()\n",
        "  total_loss = 0.0\n",
        "    \n",
        "  # Iterate over the DataLoader for training data\n",
        "  for i, data in enumerate(dataloader, 0):\n",
        "      \n",
        "      # Get and prepare inputs\n",
        "    inputs, targets = data\n",
        "    inputs, targets = inputs.float(), targets.float()\n",
        "    targets = targets.reshape((targets.shape[0], 1))\n",
        "      \n",
        "      # Zero the gradients\n",
        "    optimizer.zero_grad()\n",
        "      \n",
        "      # Perform forward pass\n",
        "    outputs = model(inputs)\n",
        "      \n",
        "      # Compute loss\n",
        "    loss = loss_fn(outputs, targets)\n",
        "      \n",
        "      # Perform backward pass\n",
        "    loss.backward()\n",
        "      \n",
        "      # Perform optimization\n",
        "    optimizer.step()\n",
        "      \n",
        "      # Print statistics\n",
        "    total_loss += loss.item()*inputs.size(0)\n",
        "    \n",
        "  train_losses.append(total_loss/len(dataloader.dataset))\n",
        "  return(total_loss/len(dataloader.dataset))\n",
        "\n",
        "def evaluate(dataloader):\n",
        "    model.eval()\n",
        "    total_loss = 0\n",
        "    with torch.no_grad():\n",
        "        for i, data in enumerate(dataloader, 0):\n",
        "# Get and prepare inputs\n",
        "          inputs, targets = data\n",
        "          inputs, targets = inputs.float(), targets.float()\n",
        "          targets = targets.reshape((targets.shape[0], 1))\n",
        "# Perform forward pass\n",
        "          outputs = model(inputs)\n",
        "# Compute loss\n",
        "          loss = loss_fn(outputs, targets)\n",
        "          total_loss += loss.item()*inputs.size(0)\n",
        "    val_losses.append(total_loss/len(dataloader.dataset))\n",
        "    return total_loss/len(dataloader.dataset)"
      ],
      "metadata": {
        "id": "GQ1S2hpEgSFu"
      },
      "execution_count": null,
      "outputs": []
    },
    {
      "cell_type": "code",
      "source": [
        "model=MLP()\n",
        "loss_fn = nn.MSELoss()\n",
        "optimizer = torch.optim.AdamW(model.parameters(), lr=0.0001)\n",
        "\n",
        "num_epochs = 30\n",
        "\n",
        "torch.manual_seed(1)\n",
        " \n",
        "for epoch in range(num_epochs):\n",
        "\n",
        "    loss_train = train(train_dataloader)\n",
        "    loss_eval = evaluate(valid_dataloader)\n",
        "    \n",
        "    if epoch % 10 == 0:\n",
        "      print(f'Epoch {epoch} loss train: {loss_train:.4f} loss valid: {loss_eval:.4f}')"
      ],
      "metadata": {
        "colab": {
          "base_uri": "https://localhost:8080/"
        },
        "id": "Oes5C43BwyDT",
        "outputId": "b301dbe0-1679-40c1-8ab0-b99a9812e23d"
      },
      "execution_count": null,
      "outputs": [
        {
          "output_type": "stream",
          "name": "stdout",
          "text": [
            "Epoch 0 loss train: 54.6596 loss valid: 32.7896\n",
            "Epoch 10 loss train: 4.4577 loss valid: 3.7572\n",
            "Epoch 20 loss train: 3.6285 loss valid: 3.1305\n"
          ]
        }
      ]
    },
    {
      "cell_type": "code",
      "source": [
        "import matplotlib.pyplot as plt\n",
        "plt.plot(train_losses,'-o')\n",
        "plt.plot(val_losses,'-o')\n",
        "plt.xlabel('epoch')\n",
        "plt.ylabel('accuracy')\n",
        "plt.legend(['Train','Valid'])\n",
        "plt.title('Train vs Valid Loss (MSE)')\n",
        "\n",
        "plt.show()"
      ],
      "metadata": {
        "colab": {
          "base_uri": "https://localhost:8080/",
          "height": 295
        },
        "id": "IBEh-e-jhAiq",
        "outputId": "18e39c9e-66f3-495b-80f2-0cb98a901b73"
      },
      "execution_count": null,
      "outputs": [
        {
          "output_type": "display_data",
          "data": {
            "text/plain": [
              "<Figure size 432x288 with 1 Axes>"
            ],
            "image/png": "[encoded data removed]"
          },
          "metadata": {
            "needs_background": "light"
          }
        }
      ]
    },
    {
      "cell_type": "markdown",
      "source": [
        "### RMSE"
      ],
      "metadata": {
        "id": "kbKcdZfJJnpC"
      }
    },
    {
      "cell_type": "code",
      "source": [
        " # Run the training loop\n",
        "train_losses=[]\n",
        "val_losses=[]\n",
        "eps=1e-6\n",
        "def train(dataloader):\n",
        "  model.train()\n",
        "  total_loss = 0.0\n",
        "    \n",
        "  # Iterate over the DataLoader for training data\n",
        "  for i, data in enumerate(dataloader, 0):\n",
        "      \n",
        "      # Get and prepare inputs\n",
        "    inputs, targets = data\n",
        "    inputs, targets = inputs.float(), targets.float()\n",
        "    targets = targets.reshape((targets.shape[0], 1))\n",
        "      \n",
        "      # Zero the gradients\n",
        "    optimizer.zero_grad()\n",
        "      \n",
        "      # Perform forward pass\n",
        "    outputs = model(inputs)\n",
        "      \n",
        "      # Compute loss\n",
        "    loss = torch.sqrt(loss_fn(outputs, targets) + eps)\n",
        "      \n",
        "      # Perform backward pass\n",
        "    loss.backward()\n",
        "      \n",
        "      # Perform optimization\n",
        "    optimizer.step()\n",
        "      \n",
        "      # Print statistics\n",
        "    total_loss += loss.item()*inputs.size(0)\n",
        "    \n",
        "  train_losses.append(total_loss/len(dataloader.dataset))\n",
        "  return(total_loss/len(dataloader.dataset))\n",
        "\n",
        "def evaluate(dataloader):\n",
        "    model.eval()\n",
        "    total_loss = 0\n",
        "    with torch.no_grad():\n",
        "        for i, data in enumerate(dataloader, 0):\n",
        "# Get and prepare inputs\n",
        "          inputs, targets = data\n",
        "          inputs, targets = inputs.float(), targets.float()\n",
        "          targets = targets.reshape((targets.shape[0], 1))\n",
        "# Perform forward pass\n",
        "          outputs = model(inputs)\n",
        "# Compute loss\n",
        "          loss = torch.sqrt(loss_fn(outputs, targets) + eps)\n",
        "          total_loss += loss.item()*inputs.size(0)\n",
        "    val_losses.append(total_loss/len(dataloader.dataset))\n",
        "    return total_loss/len(dataloader.dataset)"
      ],
      "metadata": {
        "id": "sbZax8W8JylZ"
      },
      "execution_count": null,
      "outputs": []
    },
    {
      "cell_type": "code",
      "source": [
        "model=MLP()\n",
        "loss_fn = nn.MSELoss()\n",
        "optimizer = torch.optim.AdamW(model.parameters(), lr=0.0001)\n",
        "\n",
        "num_epochs = 400\n",
        "\n",
        "torch.manual_seed(1)\n",
        " \n",
        "for epoch in range(num_epochs):\n",
        "\n",
        "    loss_train = train(train_dataloader)\n",
        "    loss_eval = evaluate(valid_dataloader)\n",
        "    \n",
        "    if epoch % 10 == 0:\n",
        "      print(f'Epoch {epoch} loss train: {loss_train:.4f} loss valid: {loss_eval:.4f}')"
      ],
      "metadata": {
        "colab": {
          "base_uri": "https://localhost:8080/"
        },
        "id": "q_xXNzSwKf8V",
        "outputId": "dc75f4e1-4472-47aa-9f4c-e0909b568e39"
      },
      "execution_count": null,
      "outputs": [
        {
          "output_type": "stream",
          "name": "stdout",
          "text": [
            "Epoch 0 loss train: 6.7307 loss valid: 4.7578\n",
            "Epoch 10 loss train: 1.8740 loss valid: 1.7047\n",
            "Epoch 20 loss train: 1.7767 loss valid: 1.6334\n",
            "Epoch 30 loss train: 1.7128 loss valid: 1.5908\n",
            "Epoch 40 loss train: 1.6485 loss valid: 1.5527\n",
            "Epoch 50 loss train: 1.6465 loss valid: 1.5280\n",
            "Epoch 60 loss train: 1.5558 loss valid: 1.5025\n",
            "Epoch 70 loss train: 1.5028 loss valid: 1.4445\n",
            "Epoch 80 loss train: 1.4645 loss valid: 1.4056\n",
            "Epoch 90 loss train: 1.4449 loss valid: 1.3867\n",
            "Epoch 100 loss train: 1.4253 loss valid: 1.3940\n",
            "Epoch 110 loss train: 1.4160 loss valid: 1.3794\n",
            "Epoch 120 loss train: 1.3721 loss valid: 1.3720\n",
            "Epoch 130 loss train: 1.3998 loss valid: 1.3839\n",
            "Epoch 140 loss train: 1.3660 loss valid: 1.3868\n",
            "Epoch 150 loss train: 1.3407 loss valid: 1.3823\n",
            "Epoch 160 loss train: 1.3320 loss valid: 1.3854\n",
            "Epoch 170 loss train: 1.3238 loss valid: 1.3717\n",
            "Epoch 180 loss train: 1.3068 loss valid: 1.3823\n",
            "Epoch 190 loss train: 1.2883 loss valid: 1.3840\n",
            "Epoch 200 loss train: 1.3058 loss valid: 1.3645\n",
            "Epoch 210 loss train: 1.2760 loss valid: 1.3637\n",
            "Epoch 220 loss train: 1.2869 loss valid: 1.3706\n",
            "Epoch 230 loss train: 1.2662 loss valid: 1.3642\n",
            "Epoch 240 loss train: 1.2867 loss valid: 1.3712\n",
            "Epoch 250 loss train: 1.2642 loss valid: 1.3722\n",
            "Epoch 260 loss train: 1.2634 loss valid: 1.3773\n",
            "Epoch 270 loss train: 1.2281 loss valid: 1.3818\n",
            "Epoch 280 loss train: 1.2262 loss valid: 1.3767\n",
            "Epoch 290 loss train: 1.2362 loss valid: 1.3771\n",
            "Epoch 300 loss train: 1.2004 loss valid: 1.3764\n",
            "Epoch 310 loss train: 1.2283 loss valid: 1.3656\n",
            "Epoch 320 loss train: 1.2198 loss valid: 1.3762\n",
            "Epoch 330 loss train: 1.1874 loss valid: 1.4021\n",
            "Epoch 340 loss train: 1.2048 loss valid: 1.3779\n",
            "Epoch 350 loss train: 1.2135 loss valid: 1.3882\n",
            "Epoch 360 loss train: 1.1793 loss valid: 1.3863\n",
            "Epoch 370 loss train: 1.1816 loss valid: 1.3821\n",
            "Epoch 380 loss train: 1.1786 loss valid: 1.3876\n",
            "Epoch 390 loss train: 1.1872 loss valid: 1.3946\n"
          ]
        }
      ]
    },
    {
      "cell_type": "code",
      "source": [
        "import matplotlib.pyplot as plt\n",
        "plt.plot(train_losses,'-o')\n",
        "plt.plot(val_losses,'-o')\n",
        "plt.xlabel('epoch')\n",
        "plt.ylabel('accuracy')\n",
        "plt.legend(['Train','Valid'])\n",
        "plt.title('Train vs Valid Loss (RMSE)')\n",
        "\n",
        "plt.show()"
      ],
      "metadata": {
        "colab": {
          "base_uri": "https://localhost:8080/",
          "height": 295
        },
        "id": "MuGuWMTkKnte",
        "outputId": "7a154f13-1918-4072-e12a-5fc34bf9268f"
      },
      "execution_count": null,
      "outputs": [
        {
          "output_type": "display_data",
          "data": {
            "text/plain": [
              "<Figure size 432x288 with 1 Axes>"
            ],
            "image/png": "[encoded data removed]"
          },
          "metadata": {
            "needs_background": "light"
          }
        }
      ]
    },
    {
      "cell_type": "markdown",
      "source": [
        "### R2"
      ],
      "metadata": {
        "id": "Zrrq1AByISA3"
      }
    },
    {
      "cell_type": "code",
      "source": [
        "y=[]\n",
        "y_pred=[]\n",
        "with torch.no_grad():\n",
        "    model.eval()\n",
        "    for i, data in enumerate(valid_dataloader, 0):\n",
        "\n",
        "        inputs, targets = data\n",
        "        inputs, targets = inputs.float(), targets.float()\n",
        "        targets = targets.reshape((targets.shape[0], 1))\n",
        "\n",
        "        outputs = model(inputs)\n",
        "        y.append(targets.numpy())\n",
        "        y_pred.append(outputs.numpy())\n",
        "        "
      ],
      "metadata": {
        "id": "y0iw9Dn6IYfs"
      },
      "execution_count": null,
      "outputs": []
    },
    {
      "cell_type": "code",
      "source": [
        "y_pred = [a.squeeze().tolist() for a in y_pred]\n",
        "y = [a.squeeze().tolist() for a in y]\n",
        "y=sum(y,[])\n",
        "y_pred=sum(y_pred,[])"
      ],
      "metadata": {
        "id": "_aWYqqLNKsih"
      },
      "execution_count": null,
      "outputs": []
    },
    {
      "cell_type": "code",
      "source": [
        "from sklearn.metrics import r2_score\n",
        "r_square = r2_score(y, y_pred)\n",
        "print(r_square)"
      ],
      "metadata": {
        "colab": {
          "base_uri": "https://localhost:8080/"
        },
        "id": "VSZP77SxL37G",
        "outputId": "f9eade14-2e7f-4c4d-f14a-2439f5bf9247"
      },
      "execution_count": null,
      "outputs": [
        {
          "output_type": "stream",
          "name": "stdout",
          "text": [
            "0.7559565777314647\n"
          ]
        }
      ]
    },
    {
      "cell_type": "markdown",
      "source": [
        "### GRADIO"
      ],
      "metadata": {
        "id": "an7mLUBOj9_6"
      }
    },
    {
      "cell_type": "code",
      "source": [
        "!pip install gradio"
      ],
      "metadata": {
        "colab": {
          "base_uri": "https://localhost:8080/"
        },
        "id": "2IV0176vZ1kS",
        "outputId": "ffee2be6-6860-4023-bd1d-c9965304b62c"
      },
      "execution_count": null,
      "outputs": [
        {
          "output_type": "stream",
          "name": "stdout",
          "text": [
            "Collecting gradio\n",
            "  Downloading gradio-2.9.4-py3-none-any.whl (2.9 MB)\n",
            "\u001b[K     |████████████████████████████████| 2.9 MB 33.0 MB/s \n",
            "\u001b[?25hCollecting pycryptodome\n",
            "  Downloading pycryptodome-3.14.1-cp35-abi3-manylinux2010_x86_64.whl (2.0 MB)\n",
            "\u001b[K     |████████████████████████████████| 2.0 MB 60.0 MB/s \n",
            "\u001b[?25hCollecting paramiko\n",
            "  Downloading paramiko-2.10.4-py2.py3-none-any.whl (212 kB)\n",
            "\u001b[K     |████████████████████████████████| 212 kB 75.3 MB/s \n",
            "\u001b[?25hRequirement already satisfied: requests in /usr/local/lib/python3.7/dist-packages (from gradio) (2.23.0)\n",
            "Collecting analytics-python\n",
            "  Downloading analytics_python-1.4.0-py2.py3-none-any.whl (15 kB)\n",
            "Collecting fastapi\n",
            "  Downloading fastapi-0.78.0-py3-none-any.whl (54 kB)\n",
            "\u001b[K     |████████████████████████████████| 54 kB 3.2 MB/s \n",
            "\u001b[?25hCollecting python-multipart\n",
            "  Downloading python-multipart-0.0.5.tar.gz (32 kB)\n",
            "Requirement already satisfied: Jinja2 in /usr/local/lib/python3.7/dist-packages (from gradio) (2.11.3)\n",
            "Collecting uvicorn\n",
            "  Downloading uvicorn-0.17.6-py3-none-any.whl (53 kB)\n",
            "\u001b[K     |████████████████████████████████| 53 kB 2.6 MB/s \n",
            "\u001b[?25hCollecting ffmpy\n",
            "  Downloading ffmpy-0.3.0.tar.gz (4.8 kB)\n",
            "Collecting aiohttp\n",
            "  Downloading aiohttp-3.8.1-cp37-cp37m-manylinux_2_5_x86_64.manylinux1_x86_64.manylinux_2_12_x86_64.manylinux2010_x86_64.whl (1.1 MB)\n",
            "\u001b[K     |████████████████████████████████| 1.1 MB 61.0 MB/s \n",
            "\u001b[?25hRequirement already satisfied: numpy in /usr/local/lib/python3.7/dist-packages (from gradio) (1.21.6)\n",
            "Collecting orjson\n",
            "  Downloading orjson-3.6.8-cp37-cp37m-manylinux_2_24_x86_64.whl (253 kB)\n",
            "\u001b[K     |████████████████████████████████| 253 kB 77.8 MB/s \n",
            "\u001b[?25hCollecting pydub\n",
            "  Downloading pydub-0.25.1-py2.py3-none-any.whl (32 kB)\n",
            "Requirement already satisfied: pillow in /usr/local/lib/python3.7/dist-packages (from gradio) (7.1.2)\n",
            "Requirement already satisfied: pandas in /usr/local/lib/python3.7/dist-packages (from gradio) (1.3.5)\n",
            "Collecting markdown-it-py[linkify,plugins]\n",
            "  Downloading markdown_it_py-2.1.0-py3-none-any.whl (84 kB)\n",
            "\u001b[K     |████████████████████████████████| 84 kB 3.9 MB/s \n",
            "\u001b[?25hRequirement already satisfied: matplotlib in /usr/local/lib/python3.7/dist-packages (from gradio) (3.2.2)\n",
            "Collecting yarl<2.0,>=1.0\n",
            "  Downloading yarl-1.7.2-cp37-cp37m-manylinux_2_5_x86_64.manylinux1_x86_64.manylinux_2_12_x86_64.manylinux2010_x86_64.whl (271 kB)\n",
            "\u001b[K     |████████████████████████████████| 271 kB 76.5 MB/s \n",
            "\u001b[?25hCollecting aiosignal>=1.1.2\n",
            "  Downloading aiosignal-1.2.0-py3-none-any.whl (8.2 kB)\n",
            "Collecting async-timeout<5.0,>=4.0.0a3\n",
            "  Downloading async_timeout-4.0.2-py3-none-any.whl (5.8 kB)\n",
            "Collecting frozenlist>=1.1.1\n",
            "  Downloading frozenlist-1.3.0-cp37-cp37m-manylinux_2_5_x86_64.manylinux1_x86_64.manylinux_2_17_x86_64.manylinux2014_x86_64.whl (144 kB)\n",
            "\u001b[K     |████████████████████████████████| 144 kB 70.8 MB/s \n",
            "\u001b[?25hCollecting asynctest==0.13.0\n",
            "  Downloading asynctest-0.13.0-py3-none-any.whl (26 kB)\n",
            "Requirement already satisfied: typing-extensions>=3.7.4 in /usr/local/lib/python3.7/dist-packages (from aiohttp->gradio) (4.2.0)\n",
            "Requirement already satisfied: attrs>=17.3.0 in /usr/local/lib/python3.7/dist-packages (from aiohttp->gradio) (21.4.0)\n",
            "Collecting multidict<7.0,>=4.5\n",
            "  Downloading multidict-6.0.2-cp37-cp37m-manylinux_2_17_x86_64.manylinux2014_x86_64.whl (94 kB)\n",
            "\u001b[K     |████████████████████████████████| 94 kB 4.3 MB/s \n",
            "\u001b[?25hRequirement already satisfied: charset-normalizer<3.0,>=2.0 in /usr/local/lib/python3.7/dist-packages (from aiohttp->gradio) (2.0.12)\n",
            "Requirement already satisfied: idna>=2.0 in /usr/local/lib/python3.7/dist-packages (from yarl<2.0,>=1.0->aiohttp->gradio) (2.10)\n",
            "Collecting monotonic>=1.5\n",
            "  Downloading monotonic-1.6-py2.py3-none-any.whl (8.2 kB)\n",
            "Requirement already satisfied: six>=1.5 in /usr/local/lib/python3.7/dist-packages (from analytics-python->gradio) (1.15.0)\n",
            "Collecting backoff==1.10.0\n",
            "  Downloading backoff-1.10.0-py2.py3-none-any.whl (31 kB)\n",
            "Requirement already satisfied: python-dateutil>2.1 in /usr/local/lib/python3.7/dist-packages (from analytics-python->gradio) (2.8.2)\n",
            "Requirement already satisfied: chardet<4,>=3.0.2 in /usr/local/lib/python3.7/dist-packages (from requests->gradio) (3.0.4)\n",
            "Requirement already satisfied: urllib3!=1.25.0,!=1.25.1,<1.26,>=1.21.1 in /usr/local/lib/python3.7/dist-packages (from requests->gradio) (1.24.3)\n",
            "Requirement already satisfied: certifi>=2017.4.17 in /usr/local/lib/python3.7/dist-packages (from requests->gradio) (2021.10.8)\n",
            "Collecting pydantic!=1.7,!=1.7.1,!=1.7.2,!=1.7.3,!=1.8,!=1.8.1,<2.0.0,>=1.6.2\n",
            "  Downloading pydantic-1.9.0-cp37-cp37m-manylinux_2_17_x86_64.manylinux2014_x86_64.whl (10.9 MB)\n",
            "\u001b[K     |████████████████████████████████| 10.9 MB 62.4 MB/s \n",
            "\u001b[?25hCollecting starlette==0.19.1\n",
            "  Downloading starlette-0.19.1-py3-none-any.whl (63 kB)\n",
            "\u001b[K     |████████████████████████████████| 63 kB 1.9 MB/s \n",
            "\u001b[?25hCollecting anyio<5,>=3.4.0\n",
            "  Downloading anyio-3.6.1-py3-none-any.whl (80 kB)\n",
            "\u001b[K     |████████████████████████████████| 80 kB 11.5 MB/s \n",
            "\u001b[?25hCollecting sniffio>=1.1\n",
            "  Downloading sniffio-1.2.0-py3-none-any.whl (10 kB)\n",
            "Requirement already satisfied: MarkupSafe>=0.23 in /usr/local/lib/python3.7/dist-packages (from Jinja2->gradio) (2.0.1)\n",
            "Collecting mdurl~=0.1\n",
            "  Downloading mdurl-0.1.1-py3-none-any.whl (10 kB)\n",
            "Collecting mdit-py-plugins\n",
            "  Downloading mdit_py_plugins-0.3.0-py3-none-any.whl (43 kB)\n",
            "\u001b[K     |████████████████████████████████| 43 kB 2.6 MB/s \n",
            "\u001b[?25hCollecting linkify-it-py~=1.0\n",
            "  Downloading linkify_it_py-1.0.3-py3-none-any.whl (19 kB)\n",
            "Collecting uc-micro-py\n",
            "  Downloading uc_micro_py-1.0.1-py3-none-any.whl (6.2 kB)\n",
            "Requirement already satisfied: kiwisolver>=1.0.1 in /usr/local/lib/python3.7/dist-packages (from matplotlib->gradio) (1.4.2)\n",
            "Requirement already satisfied: pyparsing!=2.0.4,!=2.1.2,!=2.1.6,>=2.0.1 in /usr/local/lib/python3.7/dist-packages (from matplotlib->gradio) (3.0.8)\n",
            "Requirement already satisfied: cycler>=0.10 in /usr/local/lib/python3.7/dist-packages (from matplotlib->gradio) (0.11.0)\n",
            "Requirement already satisfied: pytz>=2017.3 in /usr/local/lib/python3.7/dist-packages (from pandas->gradio) (2022.1)\n",
            "Collecting cryptography>=2.5\n",
            "  Downloading cryptography-37.0.2-cp36-abi3-manylinux_2_24_x86_64.whl (4.0 MB)\n",
            "\u001b[K     |████████████████████████████████| 4.0 MB 61.1 MB/s \n",
            "\u001b[?25hCollecting bcrypt>=3.1.3\n",
            "  Downloading bcrypt-3.2.2-cp36-abi3-manylinux_2_17_x86_64.manylinux2014_x86_64.manylinux_2_24_x86_64.whl (62 kB)\n",
            "\u001b[K     |████████████████████████████████| 62 kB 1.2 MB/s \n",
            "\u001b[?25hCollecting pynacl>=1.0.1\n",
            "  Downloading PyNaCl-1.5.0-cp36-abi3-manylinux_2_17_x86_64.manylinux2014_x86_64.manylinux_2_24_x86_64.whl (856 kB)\n",
            "\u001b[K     |████████████████████████████████| 856 kB 70.7 MB/s \n",
            "\u001b[?25hRequirement already satisfied: cffi>=1.1 in /usr/local/lib/python3.7/dist-packages (from bcrypt>=3.1.3->paramiko->gradio) (1.15.0)\n",
            "Requirement already satisfied: pycparser in /usr/local/lib/python3.7/dist-packages (from cffi>=1.1->bcrypt>=3.1.3->paramiko->gradio) (2.21)\n",
            "Requirement already satisfied: click>=7.0 in /usr/local/lib/python3.7/dist-packages (from uvicorn->gradio) (7.1.2)\n",
            "Collecting h11>=0.8\n",
            "  Downloading h11-0.13.0-py3-none-any.whl (58 kB)\n",
            "\u001b[K     |████████████████████████████████| 58 kB 7.6 MB/s \n",
            "\u001b[?25hCollecting asgiref>=3.4.0\n",
            "  Downloading asgiref-3.5.1-py3-none-any.whl (22 kB)\n",
            "Building wheels for collected packages: ffmpy, python-multipart\n",
            "  Building wheel for ffmpy (setup.py) ... \u001b[?25l\u001b[?25hdone\n",
            "  Created wheel for ffmpy: filename=ffmpy-0.3.0-py3-none-any.whl size=4712 sha256=fbd9895cb29890bdd38f1dcb0c649199a293715b9c550684cc6500a96a9e41f7\n",
            "  Stored in directory: /root/.cache/pip/wheels/13/e4/6c/e8059816e86796a597c6e6b0d4c880630f51a1fcfa0befd5e6\n",
            "  Building wheel for python-multipart (setup.py) ... \u001b[?25l\u001b[?25hdone\n",
            "  Created wheel for python-multipart: filename=python_multipart-0.0.5-py3-none-any.whl size=31678 sha256=f1929ca26488e1f57e7edefc1caab16de7ef6e1e77b939958dc715abd3ed0d81\n",
            "  Stored in directory: /root/.cache/pip/wheels/2c/41/7c/bfd1c180534ffdcc0972f78c5758f89881602175d48a8bcd2c\n",
            "Successfully built ffmpy python-multipart\n",
            "Installing collected packages: sniffio, mdurl, uc-micro-py, multidict, markdown-it-py, frozenlist, anyio, yarl, starlette, pynacl, pydantic, monotonic, mdit-py-plugins, linkify-it-py, h11, cryptography, bcrypt, backoff, asynctest, async-timeout, asgiref, aiosignal, uvicorn, python-multipart, pydub, pycryptodome, paramiko, orjson, ffmpy, fastapi, analytics-python, aiohttp, gradio\n",
            "Successfully installed aiohttp-3.8.1 aiosignal-1.2.0 analytics-python-1.4.0 anyio-3.6.1 asgiref-3.5.1 async-timeout-4.0.2 asynctest-0.13.0 backoff-1.10.0 bcrypt-3.2.2 cryptography-37.0.2 fastapi-0.78.0 ffmpy-0.3.0 frozenlist-1.3.0 gradio-2.9.4 h11-0.13.0 linkify-it-py-1.0.3 markdown-it-py-2.1.0 mdit-py-plugins-0.3.0 mdurl-0.1.1 monotonic-1.6 multidict-6.0.2 orjson-3.6.8 paramiko-2.10.4 pycryptodome-3.14.1 pydantic-1.9.0 pydub-0.25.1 pynacl-1.5.0 python-multipart-0.0.5 sniffio-1.2.0 starlette-0.19.1 uc-micro-py-1.0.1 uvicorn-0.17.6 yarl-1.7.2\n"
          ]
        }
      ]
    },
    {
      "cell_type": "code",
      "source": [
        "import gradio as gr\n",
        "\n",
        "\n",
        "def RNA_PRED(file):\n",
        "\n",
        "  import torch\n",
        "  import numpy as np\n",
        "  from torch import nn\n",
        "  from torch.utils.data import DataLoader\n",
        "  from sklearn.preprocessing import StandardScaler\n",
        "\n",
        "  X2_data=np.loadtxt(file.name, delimiter=',')\n",
        "\n",
        "\n",
        "  class PrepareDataset(torch.utils.data.Dataset):\n",
        "\n",
        "    def __init__(self, X, scale_data=True):\n",
        "      if not torch.is_tensor(X):\n",
        "      # Apply scaling if necessary\n",
        "        if scale_data:\n",
        "          X = StandardScaler().fit_transform(X)\n",
        "        self.X = torch.from_numpy(X)\n",
        "        \n",
        "\n",
        "    def __len__(self):\n",
        "        return len(self.X)\n",
        "\n",
        "    def __getitem__(self, i):\n",
        "        return self.X[i]\n",
        "\n",
        "  dataset = PrepareDataset(X2_data)\n",
        "\n",
        "  pred_dataloader = DataLoader(dataset, batch_size=10, shuffle=False, num_workers=1)\n",
        "\n",
        "\n",
        "  def evaluate(dataloader):\n",
        "    model.eval()\n",
        "    predictions = []\n",
        "    with torch.no_grad():\n",
        "        for i, data in enumerate(dataloader, 0):\n",
        "          inputs = data\n",
        "          inputs= inputs.float()\n",
        "          outputs = model(inputs)\n",
        "          predictions.append(outputs.numpy())\n",
        "    return np.concatenate(predictions, axis=0)\n",
        "\n",
        "  np.savetxt(\"user_predictions.csv\",evaluate(pred_dataloader),fmt='%s',delimiter=\",\", comments=\"\") \n",
        "  return \"user_predictions.csv\"\n",
        "\n",
        "iface = gr.Interface(\n",
        "    RNA_PRED,\n",
        "    [\"file\"],\n",
        "    \"file\",\n",
        "    description=\"Introduce dataframe con de ADN de la región no codificante de S. cerevisiae\")\n",
        "\n",
        "iface.test_launch()\n",
        "\n",
        "iface.launch()"
      ],
      "metadata": {
        "colab": {
          "base_uri": "https://localhost:8080/",
          "height": 695
        },
        "id": "0qWwpvb1kEoC",
        "outputId": "73ce9b16-6370-471f-a2c3-ea9970a485e1"
      },
      "execution_count": null,
      "outputs": [
        {
          "output_type": "stream",
          "name": "stderr",
          "text": [
            "/usr/local/lib/python3.7/dist-packages/paramiko/transport.py:236: CryptographyDeprecationWarning: Blowfish has been deprecated\n",
            "  \"class\": algorithms.Blowfish,\n"
          ]
        },
        {
          "output_type": "stream",
          "name": "stdout",
          "text": [
            "Test launch: RNA_PRED()... SKIPPED\n",
            "Colab notebook detected. To show errors in colab notebook, set `debug=True` in `launch()`\n",
            "Running on public URL: https://14222.gradio.app\n",
            "\n",
            "This share link expires in 72 hours. For free permanent hosting, check out Spaces (https://huggingface.co/spaces)\n"
          ]
        },
        {
          "output_type": "display_data",
          "data": {
            "text/plain": [
              "<IPython.lib.display.IFrame at 0x7f75580b2710>"
            ],
            "text/html": [
              "\n",
              "        <iframe\n",
              "            width=\"900\"\n",
              "            height=\"500\"\n",
              "            src=\"https://14222.gradio.app\"\n",
              "            frameborder=\"0\"\n",
              "            allowfullscreen\n",
              "        ></iframe>\n",
              "        "
            ]
          },
          "metadata": {}
        },
        {
          "output_type": "execute_result",
          "data": {
            "text/plain": [
              "(<fastapi.applications.FastAPI at 0x7f7559f8b8d0>,\n",
              " 'http://127.0.0.1:7860/',\n",
              " 'https://14222.gradio.app')"
            ]
          },
          "metadata": {},
          "execution_count": 115
        }
      ]
    },
    {
      "cell_type": "code",
      "source": [
        "def RNA_PRED(file):\n",
        "\n",
        "  import torch\n",
        "  import numpy as np\n",
        "  from torch import nn\n",
        "  from torch.utils.data import DataLoader\n",
        "  from sklearn.preprocessing import StandardScaler\n",
        "\n",
        "  X2_data=np.loadtxt(file, delimiter=',')\n",
        "\n",
        "\n",
        "  class PrepareDataset(torch.utils.data.Dataset):\n",
        "\n",
        "    def __init__(self, X, scale_data=True):\n",
        "      if not torch.is_tensor(X):\n",
        "      # Apply scaling if necessary\n",
        "        if scale_data:\n",
        "          X = StandardScaler().fit_transform(X)\n",
        "        self.X = torch.from_numpy(X)\n",
        "        \n",
        "\n",
        "    def __len__(self):\n",
        "        return len(self.X)\n",
        "\n",
        "    def __getitem__(self, i):\n",
        "        return self.X[i]\n",
        "\n",
        "  dataset = PrepareDataset(X2_data)\n",
        "\n",
        "  pred_dataloader = DataLoader(dataset, batch_size=10, shuffle=False, num_workers=1)\n",
        "\n",
        "\n",
        "  def evaluate(dataloader):\n",
        "    model.eval()\n",
        "    predictions = []\n",
        "    with torch.no_grad():\n",
        "        for i, data in enumerate(dataloader, 0):\n",
        "          inputs = data\n",
        "          inputs= inputs.float()\n",
        "          outputs = model(inputs)\n",
        "          predictions.append(outputs.numpy())\n",
        "    return np.concatenate(predictions, axis=0)\n",
        "\n",
        "  \n",
        "  return evaluate(pred_dataloader)\n",
        "\n",
        "print(RNA_PRED(\"X2_data.csv\"))"
      ],
      "metadata": {
        "colab": {
          "base_uri": "https://localhost:8080/"
        },
        "id": "AdDsMW_vd6sF",
        "outputId": "362adc62-d513-4ffb-cd00-1ee20170841a"
      },
      "execution_count": null,
      "outputs": [
        {
          "output_type": "stream",
          "name": "stdout",
          "text": [
            "[[8.249711 ]\n",
            " [6.5403576]\n",
            " [7.4936876]\n",
            " ...\n",
            " [5.47408  ]\n",
            " [4.954178 ]\n",
            " [7.479663 ]]\n"
          ]
        }
      ]
    },
    {
      "cell_type": "markdown",
      "source": [
        "## Modelo combinado"
      ],
      "metadata": {
        "id": "2TZnJP5UFsKa"
      }
    },
    {
      "cell_type": "code",
      "source": [
        "from sklearn.preprocessing import StandardScaler\n",
        "import numpy as np\n",
        "\n",
        "class TextData(Dataset):\n",
        "    '''\n",
        "    Dataset basico para leer las secuencias\n",
        "    '''\n",
        "    def __init__(self, text_file, tabular_file, scale_data=True):\n",
        "      self.text_file = text_file\n",
        "      self.df= pd.read_csv(text_file)\n",
        "      if not torch.is_tensor(tabular_file):\n",
        "        if scale_data:\n",
        "          tabular_file = StandardScaler().fit_transform(tabular_file)\n",
        "        self.tabular_file=tabular_file\n",
        "\n",
        "    def __getitem__(self, index):\n",
        "        tabular_file=self.tabular_file.tolist()\n",
        "        return self.df.iloc[index,2], self.df.iloc[index,1], self.tabular_file[index]\n",
        "\n",
        "    def __len__(self):\n",
        "        return len(self.df)   \n",
        "    "
      ],
      "metadata": {
        "id": "asq4_Y8_NiJM"
      },
      "execution_count": null,
      "outputs": []
    },
    {
      "cell_type": "code",
      "source": [
        "X2_data=np.loadtxt('X2_data.csv', delimiter=',')"
      ],
      "metadata": {
        "id": "N8USJzInQZFF"
      },
      "execution_count": null,
      "outputs": []
    },
    {
      "cell_type": "code",
      "source": [
        "ds = TextData(\"text_data_norm.csv\",X2_data)"
      ],
      "metadata": {
        "id": "CoAtv7Z6bFfm"
      },
      "execution_count": null,
      "outputs": []
    },
    {
      "cell_type": "code",
      "source": [
        "print(ds[2])"
      ],
      "metadata": {
        "colab": {
          "base_uri": "https://localhost:8080/"
        },
        "id": "igdIgGYnAmoz",
        "outputId": "3ee5c50e-a753-467e-bf62-9a88f213ab5d"
      },
      "execution_count": null,
      "outputs": [
        {
          "output_type": "stream",
          "name": "stdout",
          "text": [
            "(-0.1489275507571887, 'ATACCAATTACTGTCCGTAGTTCGTCAGATTAGAATCCACTATATTTTCTTTGATTGGGAGTTAACGCTGCATACTTGTCTTGGGTACTGCGTTAACCATAAATCACATAAGCGTCATTCATTATCGTACCTCTGGGTAAGTGTTTTTCAGGAGTTTTTATATATAATATGCTGGCCCCCAAGGCGGATGAGGACTGTATACGGTTTTGACGTTAAAGTGTTATATGAATCGCAGTCGCATACACTAGTGGACCCCTAGTTCCGCGATACGTAGTTGACCCTCAGTACAGAGATTCCCACGATTAACGGGTGTACTGCTCCTGACTAATGTAATTTTGAGTTCACCTGTTGATGTGGTGCTGATACTGGCACCAGTACTAATGTTTGGAAGAACTCCGTAGCATTAAGTGGAGAGATTAATCCGATACTGAGCTGAATAGTTGGTTTCACTCCCGCAAAAAGATATCAATACAGTTTGCTAACAACTTGGGAAACCCTGATGAGAAGAATTAGCGGTCATCCTGAGAAATAGGTGACCATTTAAATGGTCACTTGAATTCGATTTTCCAGTAAGGGAAGTGTCATTCGGAATCCAGAATATACCAGAAATAAGCAATTTTGCATGATAGTGCTGTTATCCTTTCTTGTGTTTTATACGATATCATACATCACCCCATTACGTTATTTATCTTGCATTTCAGTTTTTACTGGGTTTACCCTTTTCGCGATTTATATCATATTATCACCGCACATAATATACTAGTAACATTACTATTCGTCGACAAACAATAGCTTGTTTTGATTCCAGTTCTCATAACATTTGTGTACCTATTCTTTTGCCGTTCCTTCGCTATTTGGTATTGTCATCTAAGTTCGTCTATTAAATTTCCTTTTTAGGAAAAGCGCCTAATAGGCCTTTCTTGAAGCTTTTTTTTTTTCTTTCTTTAATCTACAATAATAACAAAATATTTCATTCTTAAGTGATTTACAGCGAGTATCTTTACACTTCGCCACCGGTGGATAGGAAAAATAGACTTACCAAAGGTTAAAACTGGTTTTTTTCAAATTCAGTGCACTCTTGCGGATTTTCATATTTCGTTTCAAGTATCGTTCACGTTGTAAATTCCTATCGTGTGCATTTCTCTTTGTGGGAGAAAAATATCTTACATAACTTGGCTCTCAAATCAAGTTATAATTGTTGTATAAAGTTGTACTCTTAATGAAAAAACAAAATATTATATTTTGGCTTCCACTTGCAGTCTTTTACAAAAAGAAAAAATACTTCGAAATTTAAGCAATACAAAAATACGTACGTCCTTTTTTCACCTTATATATATTCTTCCAACGTATTTACCTCCTCTATTTGGAAATACCAAATTCTTCGTATAAAGTATCACCTAATCTCTTCAGACCTTCAGTCAGTTTCTCAGGAGAGACAGCTGCATAGGTACCTCTGAAGAAAATTATGTTTGGATTACTGACTTCTTTAGATTCAGCGGGTTGAGGAGGTTCCGTCTCACCCTCACTCTTGAACCAAGAACCGGGAACCACTAAAACACCACGTTCAACCACTTTGTGGTAAAGACTCTGTTCTAGCTGGTAAGGGTCTGAGTTGTATTTTGTTTTAAACTCAGGGTGGACAGATGCGTCAATGTTCACGGTGAAAAACATACCTGCAATTGGAGGATTGATCACGAAAGCATCAGATTGTGGTAGATACTTGTAAAGGGCATCGATGGCACAGTCACGTTTCAAAGTGTATTCATGACGCAGGCCAAGCAACCAGTCCAAGTAACCCTTTTGACCCCACCTGGATAGCGTAGCGTTGACCAAAACTTGTGTAAAACCTGCTGGGGC', array([-0.31020916,  1.42098069,  0.93407038,  0.28611607,  0.12415113,\n",
            "        0.74163733,  0.94967454, -1.36173371,  0.02354582,  0.60827218,\n",
            "        0.84896083,  0.72256848,  1.89261987, -0.00469036,  1.50662064,\n",
            "        1.20804146,  3.08473069,  0.99935689,  1.55056385,  2.62564151,\n",
            "        0.48594371,  0.82874452,  1.69006314,  1.49717048,  1.05878263,\n",
            "        0.66864421,  0.91146235,  0.64685857,  1.84107868, -0.76312232,\n",
            "        1.7849362 ,  0.49642798,  0.20465381, -0.18676573, -0.7058519 ,\n",
            "        3.32324537,  0.649643  , -0.25976137, -0.11491636,  0.47001936,\n",
            "        1.94532048,  0.32843212,  0.76357522,  2.36243046,  1.38593771,\n",
            "        1.41233965,  1.29007791,  2.48316642,  1.24278259,  0.01505729,\n",
            "        1.40363887,  2.52869831,  1.67011498,  1.20577471,  1.23496953,\n",
            "        1.95789688,  1.03116009,  0.34296654, -0.52839676,  1.01663418,\n",
            "        1.16371527,  1.60846696,  1.04260646,  0.6805702 , -0.65009618,\n",
            "        1.07040726, -0.23175422,  0.81324   ,  1.11002648,  0.14466111,\n",
            "        0.46425431,  1.08160872]))\n"
          ]
        }
      ]
    },
    {
      "cell_type": "code",
      "source": [
        "def collate_batch(batch):\n",
        "    label_list, text_list, lengths, tabular_list = [], [], [], []\n",
        "    for _label, _text, _tabular in batch:\n",
        "        label_list.append(_label)\n",
        "        tabular_list.append(_tabular)\n",
        "        processed_text = torch.tensor(text_pipeline(_text))\n",
        "        text_list.append(processed_text)\n",
        "        lengths.append(processed_text.size(0))\n",
        "    label_list = torch.tensor(label_list)\n",
        "    tabular_list = torch.tensor(tabular_list)\n",
        "    lengths = torch.tensor(lengths)\n",
        "    padded_text_list = nn.utils.rnn.pad_sequence(\n",
        "        text_list, batch_first=True)\n",
        "    return padded_text_list.to(device), label_list.to(device), lengths.to(device), tabular_list.to(device)"
      ],
      "metadata": {
        "id": "QUMmvH50YoCp"
      },
      "execution_count": null,
      "outputs": []
    },
    {
      "cell_type": "code",
      "source": [
        "tr_per = 0.85\n",
        "train_dataset, valid_dataset = random_split(ds,\n",
        " [int(len(ds)*tr_per),len(ds) - int(len(ds)*tr_per)], torch.manual_seed(42))"
      ],
      "metadata": {
        "id": "zsDVmvtGas-X"
      },
      "execution_count": null,
      "outputs": []
    },
    {
      "cell_type": "code",
      "source": [
        "## Toma un pequeño batch\n",
        "\n",
        "from torch.utils.data import DataLoader\n",
        "dataloader = DataLoader(train_dataset, batch_size=1, shuffle=False, collate_fn=collate_batch)\n",
        "text_batch, label_batch, length_batch,tabular_batch = next(iter(dataloader))\n",
        "print(text_batch)\n",
        "print(label_batch)\n",
        "print(length_batch)\n",
        "print(text_batch.shape)\n",
        "print(tabular_batch)"
      ],
      "metadata": {
        "colab": {
          "base_uri": "https://localhost:8080/"
        },
        "id": "uMo-0iSg9f9Q",
        "outputId": "9cf424d2-6e4a-4ad5-beca-4f3a8c9ad171"
      },
      "execution_count": null,
      "outputs": [
        {
          "output_type": "stream",
          "name": "stdout",
          "text": [
            "tensor([[   4, 2328,   39, 1796,   77, 2250, 1068,  264, 1000, 3174, 1901,   41,\n",
            "         3583, 1283, 1342,  404,  323, 1880, 2416, 1048, 1256,  585, 3039, 1902,\n",
            "         1840,  204, 3648, 2329,  274, 3419, 1705, 1026, 1085, 1609,  281, 1663,\n",
            "          951, 1343,   20, 1540,  257, 1386, 1685, 1514,   69,  356, 2523,  299,\n",
            "         1049,  508,  258, 3040,  340,  288,   20, 2976, 2958, 2776, 2129, 1104,\n",
            "         2534, 1155,  750, 1073,  842, 1295, 1441, 3394,   70, 1063,   54, 2129,\n",
            "         1979, 3249, 3073, 2297,  329,  306,  693,    6, 2257, 3686,  943,  103,\n",
            "         2049, 3564, 2601,    2,  491, 1760,  944, 1257,  960,  485,  920,  819,\n",
            "         1050,  442,  681,   96, 2189,    9, 3106, 3226, 1686,  682,  350, 2221,\n",
            "          280, 2925,   25, 1020,  468, 2406,  565,  379,   86,  334,   30, 2926,\n",
            "         1570, 2583, 3298, 2883, 1515, 1199, 1503, 3074, 3565, 2667, 1318,  707,\n",
            "          123, 1821, 1220,  266, 2077, 1583, 1319, 2711,  512, 2641,  358,  123,\n",
            "          359,  245,  895,  343, 3250, 3123, 1676,  335, 3251, 2180,  265, 1291,\n",
            "          665,  689,  134, 1571,   95, 1200,  644, 1797,  539,  763,  351, 3057,\n",
            "         1734, 3514,  146,  961, 1694, 2351,  234, 1278,  820,   24,    9, 1735,\n",
            "           74,  230, 1284,  182,  448, 3075, 1162, 1442,  647, 1443, 1695, 2001,\n",
            "          139,  219, 2115,  158,  188,  115, 1889,  394, 1131, 2656, 1643, 2023,\n",
            "          118, 2130, 2535, 1760, 3217,  764,  104,  673, 1001, 1193, 2190,  786,\n",
            "            2,  227, 2619,  877, 1526,  292,   12,  921,  267, 1002,  485,   62,\n",
            "         1393,  116, 1687, 2500,   42,   96, 1027,  926,  639,  935, 1352, 1890,\n",
            "          718,  648,  461, 1353,  640, 1415,   65, 2380,  195,  936, 1416, 1541,\n",
            "           39,  575,   78,    9,  585,  878, 1589,  877,  304,  589,    8,    2,\n",
            "          344, 2002,  121, 2430, 2459, 2058,   23,   75,  577,  458,  368, 2330,\n",
            "            5]], device='cuda:0')\n",
            "tensor([-0.7410], device='cuda:0', dtype=torch.float64)\n",
            "tensor([277], device='cuda:0')\n",
            "torch.Size([1, 277])\n",
            "tensor([[-0.4709,  0.3289, -0.3027,  1.5426,  0.0250, -0.6906, -0.8578,  0.7680,\n",
            "          0.1303,  0.7055,  1.2828, -0.0790,  0.7494, -0.0047,  0.2098, -0.2370,\n",
            "         -0.1339,  0.1742,  0.2106, -0.5093,  0.8205,  0.2230,  0.6849,  0.3521,\n",
            "          1.0588,  0.3630,  0.0796, -0.0095, -0.2615,  0.7535, -0.9468,  0.4964,\n",
            "          0.7167,  1.7548,  2.4118,  0.8697, -0.1691,  0.4560,  1.1645,  0.3005,\n",
            "          0.0748,  0.1988,  0.7636, -0.0246, -0.0420, -0.4092,  0.9521, -0.1159,\n",
            "         -0.1425, -0.4934, -0.0496, -0.2213,  0.9093, -0.5570, -0.1300, -0.3159,\n",
            "          1.0312,  0.7051, -0.5284,  0.1703,  0.1266,  0.1487,  0.8140, -0.2672,\n",
            "         -0.6501,  0.6761,  0.8194,  0.0358,  0.2424,  2.1034,  0.2809,  0.2266]],\n",
            "       device='cuda:0', dtype=torch.float64)\n"
          ]
        },
        {
          "output_type": "stream",
          "name": "stderr",
          "text": [
            "/usr/local/lib/python3.7/dist-packages/ipykernel_launcher.py:10: UserWarning: Creating a tensor from a list of numpy.ndarrays is extremely slow. Please consider converting the list to a single numpy.ndarray with numpy.array() before converting to a tensor. (Triggered internally at  ../torch/csrc/utils/tensor_new.cpp:210.)\n",
            "  # Remove the CWD from sys.path while we load stuff.\n"
          ]
        }
      ]
    },
    {
      "cell_type": "code",
      "source": [
        "## Paso 4: batching los datasets\n",
        "\n",
        "batch_size = 64\n",
        "\n",
        "train_dl = DataLoader(train_dataset, batch_size=batch_size,\n",
        "                      shuffle=True, collate_fn=collate_batch)\n",
        "valid_dl = DataLoader(valid_dataset, batch_size=batch_size,\n",
        "                      shuffle=True, collate_fn=collate_batch)"
      ],
      "metadata": {
        "id": "rGdY66yAakBz"
      },
      "execution_count": null,
      "outputs": []
    },
    {
      "cell_type": "markdown",
      "source": [
        "### Modelo"
      ],
      "metadata": {
        "id": "bUfPQ71GeYag"
      }
    },
    {
      "cell_type": "code",
      "source": [
        "class RNN(nn.Module):\n",
        "    def __init__(self, vocab_size, embed_dim, rnn_hidden_size, fc_hidden_size):\n",
        "        super().__init__()\n",
        "        self.embedding = nn.Embedding(vocab_size, \n",
        "                                      embed_dim, \n",
        "                                      padding_idx=0) \n",
        "        self.rnn = nn.LSTM(embed_dim, rnn_hidden_size,num_layers=2,\n",
        "                           batch_first=True,bidirectional = True, dropout=0.7 )\n",
        "        self.fc1 = nn.Linear(rnn_hidden_size*2, fc_hidden_size)\n",
        "        self.relu = nn.ReLU()\n",
        "        self.fc2 = nn.Linear(fc_hidden_size, 1)\n",
        "        \n",
        "     \n",
        "        \n",
        "        self.layers = nn.Sequential(\n",
        "          nn.Linear(72, 64),\n",
        "          nn.Dropout(p=0.1),\n",
        "          nn.ReLU(),\n",
        "          nn.Linear(64, 32),\n",
        "          nn.Dropout(p=0.1),\n",
        "          nn.ReLU(),\n",
        "          nn.Linear(32, 1),\n",
        "        )\n",
        "\n",
        "        self.fc3 = nn.Linear(2, 1) \n",
        "\n",
        "\n",
        "    def forward(self, text, lengths, tab):\n",
        "        out = self.embedding(text)\n",
        "        out = nn.utils.rnn.pack_padded_sequence(out, lengths.cpu().numpy(), enforce_sorted=False, batch_first=True)\n",
        "        out, (hidden, cell) = self.rnn(out)\n",
        "        out = torch.cat((hidden[-2, :, :], hidden[-1, :, :]), dim=1)\n",
        "        # out = hidden[-1, :, :]\n",
        "        out = self.fc1(out)\n",
        "        out = self.relu(out)\n",
        "        out = self.fc2(out)\n",
        "        out = self.relu(out)        \n",
        "        \n",
        "        tab=self.layers(tab.float())\n",
        "        x = torch.cat((out, tab), dim=1)\n",
        "        x = self.relu(x)\n",
        "        return self.fc3(x)"
      ],
      "metadata": {
        "id": "RUuUp2JweX00"
      },
      "execution_count": null,
      "outputs": []
    },
    {
      "cell_type": "code",
      "source": [
        "vocab_size = len(vocab)\n",
        "embed_dim = 50\n",
        "rnn_hidden_size = 32\n",
        "fc_hidden_size = 16\n",
        "\n",
        "torch.manual_seed(1)\n",
        "model = RNN(vocab_size, embed_dim, rnn_hidden_size, fc_hidden_size) \n",
        "model = model.to(device)"
      ],
      "metadata": {
        "id": "qaKXFEIsopwr"
      },
      "execution_count": null,
      "outputs": []
    },
    {
      "cell_type": "markdown",
      "source": [
        "### Entrenamiento"
      ],
      "metadata": {
        "id": "Zi5Di_EuuZP_"
      }
    },
    {
      "cell_type": "markdown",
      "source": [
        "#### MSE"
      ],
      "metadata": {
        "id": "ZB9ziQ1hubqR"
      }
    },
    {
      "cell_type": "code",
      "source": [
        "train_losses=[]\n",
        "val_losses=[]\n",
        "\n",
        "def train(dataloader):\n",
        "    model.train()\n",
        "    total_loss = 0\n",
        "    for text_batch, label_batch, lengths, tabular in dataloader:\n",
        "        optimizer.zero_grad()\n",
        "        pred = model(text_batch, lengths, tabular.float())\n",
        "        label_batch = label_batch.unsqueeze(1)\n",
        "        loss = loss_fn(pred.float(), label_batch.float())\n",
        "        loss.backward()\n",
        "        optimizer.step()\n",
        "        total_loss += loss.item()*label_batch.size(0)\n",
        "        \n",
        "    train_losses.append(total_loss/len(dataloader.dataset))\n",
        "    return total_loss/len(dataloader.dataset)\n",
        " \n",
        "def evaluate(dataloader):\n",
        "    model.eval()\n",
        "    total_loss = 0\n",
        "    with torch.no_grad():\n",
        "        for text_batch, label_batch, lengths, tabular in dataloader:\n",
        "            pred = model(text_batch, lengths,tabular.float())\n",
        "            label_batch = label_batch.unsqueeze(1)\n",
        "            loss = loss_fn(pred.float(), label_batch.float())\n",
        "            total_loss += loss.item()*label_batch.size(0)\n",
        "            \n",
        "    val_losses.append(total_loss/len(dataloader.dataset))       \n",
        "    return total_loss/len(dataloader.dataset)"
      ],
      "metadata": {
        "id": "AFkoRgFtfv_P"
      },
      "execution_count": null,
      "outputs": []
    },
    {
      "cell_type": "code",
      "source": [
        "loss_fn = nn.MSELoss()\n",
        "optimizer = torch.optim.AdamW(model.parameters(), lr=0.001)\n",
        "\n",
        "num_epochs = 30\n",
        "\n",
        "torch.manual_seed(1)\n",
        " \n",
        "for epoch in range(num_epochs):\n",
        "\n",
        "    loss_train = train(train_dl)\n",
        "    loss_eval = evaluate(valid_dl)\n",
        "    \n",
        "    print(f'Epoch {epoch} loss train: {loss_train:.4f} loss valid: {loss_eval:.4f}')"
      ],
      "metadata": {
        "colab": {
          "base_uri": "https://localhost:8080/"
        },
        "id": "WYk1bXaRowyK",
        "outputId": "53520eaf-1259-4476-f899-ca736dbf13b1"
      },
      "execution_count": null,
      "outputs": [
        {
          "output_type": "stream",
          "name": "stdout",
          "text": [
            "Epoch 0 loss train: 1.0124 loss valid: 0.9291\n",
            "Epoch 1 loss train: 1.0109 loss valid: 0.9300\n",
            "Epoch 2 loss train: 0.9972 loss valid: 0.8922\n",
            "Epoch 3 loss train: 0.6577 loss valid: 0.5006\n",
            "Epoch 4 loss train: 0.4644 loss valid: 0.4521\n",
            "Epoch 5 loss train: 0.3798 loss valid: 0.4120\n",
            "Epoch 6 loss train: 0.3353 loss valid: 0.4074\n",
            "Epoch 7 loss train: 0.2955 loss valid: 0.4088\n",
            "Epoch 8 loss train: 0.2539 loss valid: 0.4230\n",
            "Epoch 9 loss train: 0.2081 loss valid: 0.4348\n",
            "Epoch 10 loss train: 0.1729 loss valid: 0.4754\n",
            "Epoch 11 loss train: 0.1491 loss valid: 0.4532\n",
            "Epoch 12 loss train: 0.1172 loss valid: 0.4580\n",
            "Epoch 13 loss train: 0.1157 loss valid: 0.4640\n",
            "Epoch 14 loss train: 0.1036 loss valid: 0.4895\n",
            "Epoch 15 loss train: 0.0969 loss valid: 0.4988\n",
            "Epoch 16 loss train: 0.0850 loss valid: 0.5244\n",
            "Epoch 17 loss train: 0.0787 loss valid: 0.5138\n",
            "Epoch 18 loss train: 0.0746 loss valid: 0.5287\n",
            "Epoch 19 loss train: 0.0703 loss valid: 0.5181\n",
            "Epoch 20 loss train: 0.0674 loss valid: 0.5268\n",
            "Epoch 21 loss train: 0.0628 loss valid: 0.5188\n",
            "Epoch 22 loss train: 0.0614 loss valid: 0.5601\n",
            "Epoch 23 loss train: 0.0621 loss valid: 0.5687\n",
            "Epoch 24 loss train: 0.0568 loss valid: 0.5513\n",
            "Epoch 25 loss train: 0.0519 loss valid: 0.5690\n",
            "Epoch 26 loss train: 0.0497 loss valid: 0.5812\n",
            "Epoch 27 loss train: 0.0509 loss valid: 0.5683\n",
            "Epoch 28 loss train: 0.0488 loss valid: 0.5708\n",
            "Epoch 29 loss train: 0.0465 loss valid: 0.5810\n"
          ]
        }
      ]
    },
    {
      "cell_type": "code",
      "source": [
        "import matplotlib.pyplot as plt\n",
        "plt.plot(train_losses,'-o')\n",
        "plt.plot(val_losses,'-o')\n",
        "plt.xlabel('epoch')\n",
        "plt.ylabel('accuracy')\n",
        "plt.legend(['Train','Valid'])\n",
        "plt.title('Train vs Valid Loss (MSE)')\n",
        "\n",
        "plt.show()"
      ],
      "metadata": {
        "colab": {
          "base_uri": "https://localhost:8080/",
          "height": 295
        },
        "id": "bXwxOBESO1dJ",
        "outputId": "5a163079-d727-4179-bddb-b3da3e5e3e28"
      },
      "execution_count": null,
      "outputs": [
        {
          "output_type": "display_data",
          "data": {
            "text/plain": [
              "<Figure size 432x288 with 1 Axes>"
            ],
            "image/png": "[encoded data removed]"
          },
          "metadata": {
            "needs_background": "light"
          }
        }
      ]
    },
    {
      "cell_type": "markdown",
      "source": [
        "#### RMSE"
      ],
      "metadata": {
        "id": "yfRK5EnrYqLc"
      }
    },
    {
      "cell_type": "code",
      "source": [
        "vocab_size = len(vocab)\n",
        "embed_dim = 50\n",
        "rnn_hidden_size = 32\n",
        "fc_hidden_size = 16\n",
        "\n",
        "torch.manual_seed(1)\n",
        "model = RNN(vocab_size, embed_dim, rnn_hidden_size, fc_hidden_size) \n",
        "model = model.to(device)"
      ],
      "metadata": {
        "id": "-4Ye5HZPCvWY"
      },
      "execution_count": null,
      "outputs": []
    },
    {
      "cell_type": "code",
      "source": [
        "train_losses=[]\n",
        "val_losses=[]\n",
        "eps=1e-6\n",
        "\n",
        "def train(dataloader):\n",
        "    model.train()\n",
        "    total_loss = 0\n",
        "    for text_batch, label_batch, lengths, tabular in dataloader:\n",
        "        optimizer.zero_grad()\n",
        "        pred = model(text_batch, lengths, tabular.float())\n",
        "        label_batch = label_batch.unsqueeze(1)\n",
        "        loss = torch.sqrt(loss_fn(pred.float(), label_batch.float())+eps)\n",
        "        loss.backward()\n",
        "        optimizer.step()\n",
        "        total_loss += loss.item()*label_batch.size(0)\n",
        "        \n",
        "    train_losses.append(total_loss/len(dataloader.dataset))\n",
        "    return total_loss/len(dataloader.dataset)\n",
        " \n",
        "def evaluate(dataloader):\n",
        "    model.eval()\n",
        "    total_loss = 0\n",
        "    with torch.no_grad():\n",
        "        for text_batch, label_batch, lengths, tabular in dataloader:\n",
        "            pred = model(text_batch, lengths,tabular.float())\n",
        "            label_batch = label_batch.unsqueeze(1)\n",
        "            loss = torch.sqrt(loss_fn(pred.float(), label_batch.float())+eps)\n",
        "            total_loss += loss.item()*label_batch.size(0)\n",
        "            \n",
        "    val_losses.append(total_loss/len(dataloader.dataset))       \n",
        "    return total_loss/len(dataloader.dataset)"
      ],
      "metadata": {
        "id": "qzBoqx9XYCvp"
      },
      "execution_count": null,
      "outputs": []
    },
    {
      "cell_type": "code",
      "source": [
        "loss_fn = nn.MSELoss()\n",
        "optimizer = torch.optim.AdamW(model.parameters(), lr=0.001)\n",
        "\n",
        "num_epochs = 30\n",
        "\n",
        "torch.manual_seed(1)\n",
        " \n",
        "for epoch in range(num_epochs):\n",
        "\n",
        "    loss_train = train(train_dl)\n",
        "    loss_eval = evaluate(valid_dl)\n",
        "    \n",
        "    print(f'Epoch {epoch} loss train: {loss_train:.4f} loss valid: {loss_eval:.4f}')"
      ],
      "metadata": {
        "colab": {
          "base_uri": "https://localhost:8080/"
        },
        "id": "lk6aeh5hZEk9",
        "outputId": "d372bf64-1de5-48b3-dad4-57334e3173c1"
      },
      "execution_count": null,
      "outputs": [
        {
          "output_type": "stream",
          "name": "stdout",
          "text": [
            "Epoch 0 loss train: 0.9792 loss valid: 0.8775\n",
            "Epoch 1 loss train: 0.8000 loss valid: 0.6861\n",
            "Epoch 2 loss train: 0.6900 loss valid: 0.6212\n",
            "Epoch 3 loss train: 0.6444 loss valid: 0.5828\n",
            "Epoch 4 loss train: 0.6125 loss valid: 0.5576\n",
            "Epoch 5 loss train: 0.5688 loss valid: 0.5689\n",
            "Epoch 6 loss train: 0.5580 loss valid: 0.5507\n",
            "Epoch 7 loss train: 0.5333 loss valid: 0.5624\n",
            "Epoch 8 loss train: 0.5106 loss valid: 0.5584\n",
            "Epoch 9 loss train: 0.4757 loss valid: 0.5669\n",
            "Epoch 10 loss train: 0.4610 loss valid: 0.5646\n",
            "Epoch 11 loss train: 0.4337 loss valid: 0.5765\n",
            "Epoch 12 loss train: 0.3995 loss valid: 0.5992\n",
            "Epoch 13 loss train: 0.3809 loss valid: 0.5827\n",
            "Epoch 14 loss train: 0.3623 loss valid: 0.6006\n",
            "Epoch 15 loss train: 0.3571 loss valid: 0.6151\n",
            "Epoch 16 loss train: 0.3215 loss valid: 0.6163\n",
            "Epoch 17 loss train: 0.3008 loss valid: 0.6077\n",
            "Epoch 18 loss train: 0.2962 loss valid: 0.6172\n",
            "Epoch 19 loss train: 0.2809 loss valid: 0.6232\n",
            "Epoch 20 loss train: 0.2738 loss valid: 0.6234\n",
            "Epoch 21 loss train: 0.2651 loss valid: 0.6216\n",
            "Epoch 22 loss train: 0.2571 loss valid: 0.6235\n",
            "Epoch 23 loss train: 0.2515 loss valid: 0.6282\n",
            "Epoch 24 loss train: 0.2516 loss valid: 0.6479\n",
            "Epoch 25 loss train: 0.2383 loss valid: 0.6315\n",
            "Epoch 26 loss train: 0.2301 loss valid: 0.6408\n",
            "Epoch 27 loss train: 0.2340 loss valid: 0.6275\n",
            "Epoch 28 loss train: 0.2180 loss valid: 0.6429\n",
            "Epoch 29 loss train: 0.2187 loss valid: 0.6366\n"
          ]
        }
      ]
    },
    {
      "cell_type": "code",
      "source": [
        "plt.plot(train_losses,'-o')\n",
        "plt.plot(val_losses,'-o')\n",
        "plt.xlabel('epoch')\n",
        "plt.ylabel('accuracy')\n",
        "plt.legend(['Train','Valid'])\n",
        "plt.title('Train vs Valid Loss (RMSE)')\n",
        "\n",
        "plt.show()"
      ],
      "metadata": {
        "colab": {
          "base_uri": "https://localhost:8080/",
          "height": 295
        },
        "id": "FkRZpHc03Ap-",
        "outputId": "d7356256-e82f-4303-9d16-a25f2170d46f"
      },
      "execution_count": null,
      "outputs": [
        {
          "output_type": "display_data",
          "data": {
            "text/plain": [
              "<Figure size 432x288 with 1 Axes>"
            ],
            "image/png": "[encoded data removed]"
          },
          "metadata": {
            "needs_background": "light"
          }
        }
      ]
    },
    {
      "cell_type": "markdown",
      "source": [
        "#### R2"
      ],
      "metadata": {
        "id": "CknE66G2uj9h"
      }
    },
    {
      "cell_type": "code",
      "source": [
        "y=[]\n",
        "y_pred=[]\n",
        "with torch.no_grad():\n",
        "    model.eval()\n",
        "    for text_batch, label_batch, lengths, tabular in dataloader:\n",
        "\n",
        "        outputs = model(text_batch, lengths,tabular.float())\n",
        "        label_batch = label_batch.unsqueeze(1)\n",
        "        y.append(label_batch.cpu().numpy())\n",
        "        y_pred.append(outputs.cpu().numpy())"
      ],
      "metadata": {
        "id": "GIhFolMFul1M"
      },
      "execution_count": null,
      "outputs": []
    },
    {
      "cell_type": "code",
      "source": [
        "y_pred = [a.squeeze().tolist() for a in y_pred]\n",
        "y = [a.squeeze().tolist() for a in y]\n"
      ],
      "metadata": {
        "id": "_owRhhFWul8R"
      },
      "execution_count": null,
      "outputs": []
    },
    {
      "cell_type": "code",
      "source": [
        "r_square = r2_score(y, y_pred)\n",
        "print(r_square)"
      ],
      "metadata": {
        "colab": {
          "base_uri": "https://localhost:8080/"
        },
        "id": "oebjEvK1umAe",
        "outputId": "08a547ce-91d3-4d16-84cb-97d683e4de35"
      },
      "execution_count": null,
      "outputs": [
        {
          "output_type": "stream",
          "name": "stdout",
          "text": [
            "0.987972670119807\n"
          ]
        }
      ]
    }
  ]
}
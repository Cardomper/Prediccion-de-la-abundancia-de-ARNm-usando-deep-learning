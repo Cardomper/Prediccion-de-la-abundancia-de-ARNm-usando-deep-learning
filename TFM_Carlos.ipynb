{
  "cells": [
    {
      "cell_type": "markdown",
      "metadata": {
        "id": "view-in-github",
        "colab_type": "text"
      },
      "source": [
        "<a href=\"https://colab.research.google.com/github/Cardomper/TFM/blob/main/TFM_Carlos.ipynb\" target=\"_parent\"><img src=\"https://colab.research.google.com/assets/colab-badge.svg\" alt=\"Open In Colab\"/></a>"
      ]
    },
    {
      "cell_type": "markdown",
      "metadata": {
        "id": "CcCgxCr5x2CV"
      },
      "source": [
        "# Datos"
      ]
    },
    {
      "cell_type": "code",
      "execution_count": null,
      "metadata": {
        "colab": {
          "base_uri": "https://localhost:8080/"
        },
        "id": "AG20A8QGxHtN",
        "outputId": "adbab44d-3e73-4fd7-ee1a-3774b8ce3e22"
      },
      "outputs": [
        {
          "output_type": "stream",
          "name": "stdout",
          "text": [
            "Mounted at /content/drive\n"
          ]
        }
      ],
      "source": [
        "from google.colab import drive\n",
        "drive.mount('/content/drive')"
      ]
    },
    {
      "cell_type": "code",
      "execution_count": null,
      "metadata": {
        "id": "n76yIas52i59"
      },
      "outputs": [],
      "source": [
        "DIRECTORIO = \"/content/drive/MyDrive/CarlosD\"\n",
        "#DIRECTORIO = \"/content/drive/MyDrive/UOC2021-2022-2/Carlos_Dominguez\""
      ]
    },
    {
      "cell_type": "code",
      "execution_count": null,
      "metadata": {
        "colab": {
          "base_uri": "https://localhost:8080/"
        },
        "id": "buK49eGu2pIL",
        "outputId": "5d378cd2-2064-4abe-8cb7-ddf35d3dff15"
      },
      "outputs": [
        {
          "output_type": "stream",
          "name": "stdout",
          "text": [
            "/content/drive/MyDrive/CarlosD\n"
          ]
        }
      ],
      "source": [
        "cd {DIRECTORIO}"
      ]
    },
    {
      "cell_type": "code",
      "execution_count": null,
      "metadata": {
        "colab": {
          "base_uri": "https://localhost:8080/"
        },
        "id": "zyljaHc72vMU",
        "outputId": "5d6e6852-81ad-4df7-961a-88f9220354cf"
      },
      "outputs": [
        {
          "name": "stdout",
          "output_type": "stream",
          "text": [
            "'Copy of leyendoDatos de Santiago.ipynb'   \u001b[0m\u001b[01;34mnotebooks_Ejemplo\u001b[0m/   text_data.csv\n",
            " \u001b[01;34mdataset\u001b[0m/                                  \u001b[01;34mPECs\u001b[0m/\n",
            " \u001b[01;34mDocumentos_plantillas_UOC\u001b[0m/                \u001b[01;34mtest\u001b[0m/\n"
          ]
        }
      ],
      "source": [
        "ls"
      ]
    },
    {
      "cell_type": "code",
      "execution_count": null,
      "metadata": {
        "id": "AYyZKNil3hs_"
      },
      "outputs": [],
      "source": [
        "import os"
      ]
    },
    {
      "cell_type": "code",
      "execution_count": null,
      "metadata": {
        "colab": {
          "base_uri": "https://localhost:8080/"
        },
        "id": "ragFQDHb3mpi",
        "outputId": "636bdf9e-8753-4f5a-bb79-9738812a6c90"
      },
      "outputs": [
        {
          "name": "stdout",
          "output_type": "stream",
          "text": [
            "/content/drive/MyDrive/UOC2021-2022-2/Carlos_Dominguez/dataset/scerevisiae.rsd1.lmbda_22.npz\n"
          ]
        }
      ],
      "source": [
        "folder = os.path.join(DIRECTORIO,\"dataset\")\n",
        "# print(folder)\n",
        "\n",
        "fname_data1 = os.path.join(folder,'scerevisiae.rsd1.lmbda_22.npz')\n",
        "\n",
        "print(fname_data1)"
      ]
    },
    {
      "cell_type": "code",
      "execution_count": null,
      "metadata": {
        "id": "SWjwQ5u94AaY"
      },
      "outputs": [],
      "source": [
        "import numpy as np\n",
        "\n",
        "def load_data(fname):\n",
        "    # X is multi-variable array\n",
        "    # Y contains single variable - fix shape for Keras\n",
        "\n",
        "    npzfile = np.load(fname)\n",
        "    Xh_train = npzfile['arr_0']\n",
        "    Xh_test = npzfile['arr_1']\n",
        "    Xv_train = npzfile['arr_2']\n",
        "    Xv_test = npzfile['arr_3']\n",
        "    Y_train = npzfile['arr_4']\n",
        "    Y_test = npzfile['arr_5']\n",
        "\n",
        "    X_train = list()\n",
        "    X_train.append(Xh_train)\n",
        "    X_train.append(Xv_train)\n",
        "    X_test = list()\n",
        "    X_test.append(Xh_test)\n",
        "    X_test.append(Xv_test)\n",
        "\n",
        "    Y_train = Y_train.astype(np.float32).reshape((-1,1))\n",
        "    Y_test = Y_test.astype(np.float32).reshape((-1,1))\n",
        "\n",
        "    return X_train, X_test, Y_train, Y_test"
      ]
    },
    {
      "cell_type": "code",
      "execution_count": null,
      "metadata": {
        "colab": {
          "base_uri": "https://localhost:8080/"
        },
        "id": "l_8QuG1nlNHx",
        "outputId": "b3d97a55-1ac1-4b10-97b5-8a1f5eea1c0e"
      },
      "outputs": [
        {
          "name": "stdout",
          "output_type": "stream",
          "text": [
            "2\n",
            "425\n"
          ]
        }
      ],
      "source": [
        "X_train, X_test, Y_train, Y_test = load_data(fname_data1) \n",
        "print(len(X_test))\n",
        "print(len(Y_test))"
      ]
    },
    {
      "cell_type": "code",
      "execution_count": null,
      "metadata": {
        "colab": {
          "base_uri": "https://localhost:8080/"
        },
        "id": "gWfEcGML3wUd",
        "outputId": "0ce4abab-e0c0-43d5-8c35-c2e93154da63"
      },
      "outputs": [
        {
          "data": {
            "text/plain": [
              "(3813, 72)"
            ]
          },
          "execution_count": 12,
          "metadata": {},
          "output_type": "execute_result"
        }
      ],
      "source": [
        "X_train[-1].shape"
      ]
    },
    {
      "cell_type": "code",
      "execution_count": null,
      "metadata": {
        "colab": {
          "base_uri": "https://localhost:8080/"
        },
        "id": "oK-Wv5mwAcaF",
        "outputId": "34ea39c3-1535-4255-80a3-dd705b5dec98"
      },
      "outputs": [
        {
          "data": {
            "text/plain": [
              "(3813, 2150, 4)"
            ]
          },
          "execution_count": 13,
          "metadata": {},
          "output_type": "execute_result"
        }
      ],
      "source": [
        "X_train[0].shape"
      ]
    },
    {
      "cell_type": "code",
      "execution_count": null,
      "metadata": {
        "colab": {
          "base_uri": "https://localhost:8080/"
        },
        "id": "di3VcNMZnfUQ",
        "outputId": "e759cd1f-0ce9-4d1b-ec7e-98263d230611"
      },
      "outputs": [
        {
          "data": {
            "text/plain": [
              "(425, 2150, 4)"
            ]
          },
          "execution_count": 14,
          "metadata": {},
          "output_type": "execute_result"
        }
      ],
      "source": [
        "X_test[0].shape"
      ]
    },
    {
      "cell_type": "code",
      "execution_count": null,
      "metadata": {
        "colab": {
          "base_uri": "https://localhost:8080/"
        },
        "id": "nOol6IrdAejI",
        "outputId": "9896e51f-896e-47aa-a827-1472d679ac56"
      },
      "outputs": [
        {
          "data": {
            "text/plain": [
              "(3813, 72)"
            ]
          },
          "execution_count": 15,
          "metadata": {},
          "output_type": "execute_result"
        }
      ],
      "source": [
        "X_train[1].shape"
      ]
    },
    {
      "cell_type": "code",
      "execution_count": null,
      "metadata": {
        "id": "myAKJExKAmO4"
      },
      "outputs": [],
      "source": [
        "input_shapes = [sl.shape[1:] for sl in X_train]"
      ]
    },
    {
      "cell_type": "code",
      "execution_count": null,
      "metadata": {
        "colab": {
          "base_uri": "https://localhost:8080/"
        },
        "id": "xNXpfznAArYg",
        "outputId": "995f7963-0e03-4084-9c5a-9c9872ac301d"
      },
      "outputs": [
        {
          "data": {
            "text/plain": [
              "[(2150, 4), (72,)]"
            ]
          },
          "execution_count": 17,
          "metadata": {},
          "output_type": "execute_result"
        }
      ],
      "source": [
        "input_shapes"
      ]
    },
    {
      "cell_type": "code",
      "execution_count": null,
      "metadata": {
        "colab": {
          "base_uri": "https://localhost:8080/"
        },
        "id": "0j_kAkO9Ag4L",
        "outputId": "7a203693-2772-49bf-9b24-e597a90e0fb6"
      },
      "outputs": [
        {
          "data": {
            "text/plain": [
              "(3813, 1)"
            ]
          },
          "execution_count": 18,
          "metadata": {},
          "output_type": "execute_result"
        }
      ],
      "source": [
        "Y_train.shape"
      ]
    },
    {
      "cell_type": "code",
      "execution_count": null,
      "metadata": {
        "colab": {
          "base_uri": "https://localhost:8080/"
        },
        "id": "_IjDde_sA1-f",
        "outputId": "d3e480f3-e0f9-4cf4-8597-6b0d635aad68"
      },
      "outputs": [
        {
          "data": {
            "text/plain": [
              "array([[0, 0, 0, 1],\n",
              "       [0, 0, 1, 0],\n",
              "       [0, 1, 0, 0],\n",
              "       ...,\n",
              "       [0, 1, 0, 0],\n",
              "       [0, 1, 0, 0],\n",
              "       [1, 0, 0, 0]], dtype=int8)"
            ]
          },
          "execution_count": 19,
          "metadata": {},
          "output_type": "execute_result"
        }
      ],
      "source": [
        "X_train[0][0,:,:]"
      ]
    },
    {
      "cell_type": "code",
      "execution_count": null,
      "metadata": {
        "colab": {
          "base_uri": "https://localhost:8080/"
        },
        "id": "KSZfNoFfBdUE",
        "outputId": "88fc845e-4afe-467b-db7e-0d76f680748a"
      },
      "outputs": [
        {
          "data": {
            "text/plain": [
              "223"
            ]
          },
          "execution_count": 20,
          "metadata": {},
          "output_type": "execute_result"
        }
      ],
      "source": [
        "X_train[1][:,9:].max()"
      ]
    },
    {
      "cell_type": "code",
      "execution_count": null,
      "metadata": {
        "id": "YlfqptkWCIZl"
      },
      "outputs": [],
      "source": [
        "X_train_desp = X_train[0].reshape((3813,2150*4))"
      ]
    },
    {
      "cell_type": "code",
      "execution_count": null,
      "metadata": {
        "colab": {
          "base_uri": "https://localhost:8080/"
        },
        "id": "6Nr_qgFOd2le",
        "outputId": "648bd3af-7c1c-4f2e-9bca-4268b0a1c885"
      },
      "outputs": [
        {
          "name": "stdout",
          "output_type": "stream",
          "text": [
            "(3813, 72)\n",
            "(425, 72)\n"
          ]
        }
      ],
      "source": [
        "X2_train = X_train[1]\n",
        "X2_test = X_test[1]\n",
        "print(X2_train.shape)\n",
        "print(X2_test.shape)"
      ]
    },
    {
      "cell_type": "code",
      "execution_count": null,
      "metadata": {
        "id": "c6UNU070dTAs"
      },
      "outputs": [],
      "source": [
        "#Unimos X e Y\n",
        "X2_data=np.concatenate([X2_train,X2_test], axis=0)\n",
        "Y_data=np.concatenate([Y_train,Y_test], axis=0)"
      ]
    },
    {
      "cell_type": "code",
      "execution_count": null,
      "metadata": {
        "id": "7PRZmLhcder-"
      },
      "outputs": [],
      "source": [
        "np.savetxt(\"X2_data.csv\",X2_data,fmt='%s',delimiter=\",\", comments=\"\")\n",
        "np.savetxt(\"Y_data.csv\",Y_data,fmt='%s',delimiter=\",\", comments=\"\")"
      ]
    },
    {
      "cell_type": "code",
      "execution_count": null,
      "metadata": {
        "colab": {
          "base_uri": "https://localhost:8080/",
          "height": 499
        },
        "id": "zj7i7FA20UTV",
        "outputId": "e2eaeed5-e188-4009-c7e5-563f4bec0d0e"
      },
      "outputs": [
        {
          "name": "stderr",
          "output_type": "stream",
          "text": [
            "/usr/local/lib/python3.7/dist-packages/ipykernel_launcher.py:5: MatplotlibDeprecationWarning: Adding an axes using the same arguments as a previous axes currently reuses the earlier instance.  In a future version, a new instance will always be created and returned.  Meanwhile, this warning can be suppressed, and the future behavior ensured, by passing a unique label to each axes instance.\n",
            "  \"\"\"\n"
          ]
        },
        {
          "data": {
            "image/png": "[encoded data removed]",
            "text/plain": [
              "<Figure size 720x504 with 1 Axes>"
            ]
          },
          "metadata": {},
          "output_type": "display_data"
        }
      ],
      "source": [
        "import matplotlib.pyplot as plt\n",
        "\n",
        "fig = plt.figure(figsize =(10, 7))\n",
        "plt.boxplot(Y_data)\n",
        "ax = fig.add_subplot(111)\n",
        "ax.set_xticklabels(\" \")\n",
        " \n",
        "# Adding title\n",
        "plt.title(\"DNA Abundance\")\n",
        " \n",
        "plt.show()"
      ]
    },
    {
      "cell_type": "code",
      "execution_count": null,
      "metadata": {
        "colab": {
          "base_uri": "https://localhost:8080/"
        },
        "id": "3elggsejs_MH",
        "outputId": "866c3e16-ada5-4998-fa9f-c7f45b72d77e"
      },
      "outputs": [
        {
          "data": {
            "text/plain": [
              "(4238,)"
            ]
          },
          "execution_count": 50,
          "metadata": {},
          "output_type": "execute_result"
        }
      ],
      "source": [
        "Y_data[:,0].shape"
      ]
    },
    {
      "cell_type": "code",
      "execution_count": null,
      "metadata": {
        "colab": {
          "base_uri": "https://localhost:8080/",
          "height": 282
        },
        "id": "54fSLmh3vRcr",
        "outputId": "f0b8b7f9-f629-49e3-ee29-9ce3a6d8dc53"
      },
      "outputs": [
        {
          "data": {
            "text/plain": [
              "<matplotlib.axes._subplots.AxesSubplot at 0x7f37d725e490>"
            ]
          },
          "execution_count": 53,
          "metadata": {},
          "output_type": "execute_result"
        },
        {
          "data": {
            "image/png": "[encoded data removed]",
            "text/plain": [
              "<Figure size 432x288 with 1 Axes>"
            ]
          },
          "metadata": {},
          "output_type": "display_data"
        }
      ],
      "source": [
        "import seaborn as sns\n",
        "\n",
        "sns.kdeplot(Y_data[:,0])"
      ]
    },
    {
      "cell_type": "code",
      "execution_count": null,
      "metadata": {
        "colab": {
          "base_uri": "https://localhost:8080/",
          "height": 282
        },
        "id": "a3Qi-gjtv-zk",
        "outputId": "465c4c61-383e-484c-95b3-f605c4c81c4c"
      },
      "outputs": [
        {
          "data": {
            "text/plain": [
              "<matplotlib.axes._subplots.AxesSubplot at 0x7f37d45eb390>"
            ]
          },
          "execution_count": 54,
          "metadata": {},
          "output_type": "execute_result"
        },
        {
          "data": {
            "image/png": "[encoded data removed]",
            "text/plain": [
              "<Figure size 432x288 with 1 Axes>"
            ]
          },
          "metadata": {},
          "output_type": "display_data"
        }
      ],
      "source": [
        "import seaborn as sns\n",
        "\n",
        "sns.kdeplot(np.log(Y_data[:,0]))"
      ]
    },
    {
      "cell_type": "code",
      "execution_count": null,
      "metadata": {
        "colab": {
          "base_uri": "https://localhost:8080/"
        },
        "id": "OW4DmojR56ZG",
        "outputId": "c1b96445-af8f-4687-9a37-3d9acbd40276"
      },
      "outputs": [
        {
          "data": {
            "text/plain": [
              "0.3653597"
            ]
          },
          "execution_count": 125,
          "metadata": {},
          "output_type": "execute_result"
        }
      ],
      "source": [
        "np.log(Y_data[:,0]).std()"
      ]
    },
    {
      "cell_type": "markdown",
      "metadata": {
        "id": "BJOxdKMTdm8w"
      },
      "source": [
        "#Random forest (datos no secuenciales)"
      ]
    },
    {
      "cell_type": "code",
      "execution_count": null,
      "metadata": {
        "id": "UwNJDOHJdtMX"
      },
      "outputs": [],
      "source": [
        "from sklearn.ensemble import RandomForestRegressor"
      ]
    },
    {
      "cell_type": "code",
      "execution_count": null,
      "metadata": {
        "colab": {
          "base_uri": "https://localhost:8080/"
        },
        "id": "rqQ4j-i0d-89",
        "outputId": "2edee5b4-e66b-4cbd-fa60-51b11f579e04"
      },
      "outputs": [
        {
          "data": {
            "text/plain": [
              "RandomForestRegressor()"
            ]
          },
          "execution_count": 23,
          "metadata": {},
          "output_type": "execute_result"
        }
      ],
      "source": [
        "model = RandomForestRegressor()\n",
        "model.fit(X2_train, Y_train.ravel())"
      ]
    },
    {
      "cell_type": "code",
      "execution_count": null,
      "metadata": {
        "colab": {
          "base_uri": "https://localhost:8080/"
        },
        "id": "NS9vGWjoelbB",
        "outputId": "931a6f48-b5eb-403e-8bc7-53d216445001"
      },
      "outputs": [
        {
          "data": {
            "text/plain": [
              "0.7656984068364819"
            ]
          },
          "execution_count": 24,
          "metadata": {},
          "output_type": "execute_result"
        }
      ],
      "source": [
        "model.score(X2_test,Y_test.ravel())"
      ]
    },
    {
      "cell_type": "markdown",
      "metadata": {
        "id": "TbYMlI8ff9Np"
      },
      "source": [
        "# Convertir a secuencia de texto"
      ]
    },
    {
      "cell_type": "markdown",
      "metadata": {
        "id": "Vkmbdo8YgFZ8"
      },
      "source": [
        "Hay un problema hay partes que son todas cero [0, 0, 0, 0] debido al padding. El paper menciona que las regiones UTR. Sin embargo, esto no debería ser un problema, dado que cuando se trabaja con textos, los textos no son de igual longitud. Por lo que se extrae sólo la parte de las secuencia que no son ceros"
      ]
    },
    {
      "cell_type": "code",
      "execution_count": null,
      "metadata": {
        "id": "_i-dEdoZgJzT"
      },
      "outputs": [],
      "source": [
        "letras = np.array(['A', 'C', 'G', 'T'])"
      ]
    },
    {
      "cell_type": "code",
      "execution_count": null,
      "metadata": {
        "id": "_hAei17niD6U"
      },
      "outputs": [],
      "source": [
        "def conv_to_text(dataset):\n",
        "  seq_list=[]\n",
        "  for i in range(dataset[0].shape[0]):\n",
        "    secuencia=\"\"\n",
        "    seq_list.append(secuencia.join(letras[np.where(dataset[0][i])[1]]))\n",
        "  seq_list=np.array(seq_list)\n",
        "  return seq_list"
      ]
    },
    {
      "cell_type": "code",
      "execution_count": null,
      "metadata": {
        "colab": {
          "base_uri": "https://localhost:8080/"
        },
        "id": "Xc7ymRyi3963",
        "outputId": "fa7d1d9c-1d6a-44e2-dfdc-1eec786a602b"
      },
      "outputs": [
        {
          "data": {
            "text/plain": [
              "(3813,)"
            ]
          },
          "execution_count": 29,
          "metadata": {},
          "output_type": "execute_result"
        }
      ],
      "source": [
        "X_train_text=conv_to_text(X_train)\n",
        "X_train_text.shape"
      ]
    },
    {
      "cell_type": "code",
      "execution_count": null,
      "metadata": {
        "colab": {
          "base_uri": "https://localhost:8080/"
        },
        "id": "59X3veXm4cjG",
        "outputId": "a84ec3a2-98ef-47d1-c905-6fa440d241aa"
      },
      "outputs": [
        {
          "data": {
            "text/plain": [
              "(425,)"
            ]
          },
          "execution_count": 30,
          "metadata": {},
          "output_type": "execute_result"
        }
      ],
      "source": [
        "X_test_text=conv_to_text(X_test)\n",
        "X_test_text.shape"
      ]
    },
    {
      "cell_type": "code",
      "execution_count": null,
      "metadata": {
        "id": "-yx23fr-mUBs"
      },
      "outputs": [],
      "source": [
        "X_train_text=X_train_text[:, np.newaxis] #Añadimos una dimensión para poder unir X e Y\n",
        "X_test_text=X_test_text[:, np.newaxis]\n",
        "train=np.concatenate([X_train_text, Y_train], axis=1)\n",
        "test=np.concatenate([X_test_text, Y_test], axis=1)\n",
        "text_data=np.concatenate([train,test], axis=0)"
      ]
    },
    {
      "cell_type": "code",
      "execution_count": null,
      "metadata": {
        "id": "Y45w_pAPGNzG"
      },
      "outputs": [],
      "source": [
        "np.savetxt(\"text_data.csv\",text_data,fmt='%s',delimiter=\",\", header=\"sequence,target\", comments=\"\")"
      ]
    },
    {
      "cell_type": "code",
      "execution_count": null,
      "metadata": {
        "colab": {
          "base_uri": "https://localhost:8080/"
        },
        "id": "BMCvMURlyS_v",
        "outputId": "b374db14-efc5-41e7-9399-e55867590662"
      },
      "outputs": [
        {
          "name": "stdout",
          "output_type": "stream",
          "text": [
            "4238\n"
          ]
        }
      ],
      "source": [
        "import pandas as pd\n",
        "text_data = pd.read_csv('text_data.csv')\n",
        "print(len(text_data))"
      ]
    },
    {
      "cell_type": "markdown",
      "metadata": {
        "id": "3uCzcNO_SXpo"
      },
      "source": [
        "# Standarization"
      ]
    },
    {
      "cell_type": "code",
      "execution_count": null,
      "metadata": {
        "colab": {
          "base_uri": "https://localhost:8080/",
          "height": 206
        },
        "id": "y4kVqu6uHN_6",
        "outputId": "e90acfd7-779e-43d0-bb42-8c3ec85cae58"
      },
      "outputs": [
        {
          "data": {
            "text/html": [
              "\n",
              "  <div id=\"df-de46ab9e-1746-455d-a26f-ad89b1818735\">\n",
              "    <div class=\"colab-df-container\">\n",
              "      <div>\n",
              "<style scoped>\n",
              "    .dataframe tbody tr th:only-of-type {\n",
              "        vertical-align: middle;\n",
              "    }\n",
              "\n",
              "    .dataframe tbody tr th {\n",
              "        vertical-align: top;\n",
              "    }\n",
              "\n",
              "    .dataframe thead th {\n",
              "        text-align: right;\n",
              "    }\n",
              "</style>\n",
              "<table border=\"1\" class=\"dataframe\">\n",
              "  <thead>\n",
              "    <tr style=\"text-align: right;\">\n",
              "      <th></th>\n",
              "      <th>sequence</th>\n",
              "      <th>target</th>\n",
              "    </tr>\n",
              "  </thead>\n",
              "  <tbody>\n",
              "    <tr>\n",
              "      <th>0</th>\n",
              "      <td>TGCGGAATCTTAATTGTGCGGATCCTTTTACCTTTTCTCATATTAA...</td>\n",
              "      <td>0.386194</td>\n",
              "    </tr>\n",
              "    <tr>\n",
              "      <th>1</th>\n",
              "      <td>AGCGCCAAACGAAATATTGCTTTTGTAGAAGGGTTGAAGAAGGTAC...</td>\n",
              "      <td>-0.711836</td>\n",
              "    </tr>\n",
              "    <tr>\n",
              "      <th>2</th>\n",
              "      <td>ATACCAATTACTGTCCGTAGTTCGTCAGATTAGAATCCACTATATT...</td>\n",
              "      <td>-0.148928</td>\n",
              "    </tr>\n",
              "    <tr>\n",
              "      <th>3</th>\n",
              "      <td>AGGGTTACAAGTACAAGATGAGATACGTCTACGCGCATTTCCCAAT...</td>\n",
              "      <td>0.742004</td>\n",
              "    </tr>\n",
              "    <tr>\n",
              "      <th>4</th>\n",
              "      <td>ACAAATCAGCTCCGATCTTCTCATATGAAAATCAGCAGCCGTGACA...</td>\n",
              "      <td>1.092220</td>\n",
              "    </tr>\n",
              "  </tbody>\n",
              "</table>\n",
              "</div>\n",
              "      <button class=\"colab-df-convert\" onclick=\"convertToInteractive('df-de46ab9e-1746-455d-a26f-ad89b1818735')\"\n",
              "              title=\"Convert this dataframe to an interactive table.\"\n",
              "              style=\"display:none;\">\n",
              "        \n",
              "  <svg xmlns=\"http://www.w3.org/2000/svg\" height=\"24px\"viewBox=\"0 0 24 24\"\n",
              "       width=\"24px\">\n",
              "    <path d=\"M0 0h24v24H0V0z\" fill=\"none\"/>\n",
              "    <path d=\"M18.56 5.44l.94 2.06.94-2.06 2.06-.94-2.06-.94-.94-2.06-.94 2.06-2.06.94zm-11 1L8.5 8.5l.94-2.06 2.06-.94-2.06-.94L8.5 2.5l-.94 2.06-2.06.94zm10 10l.94 2.06.94-2.06 2.06-.94-2.06-.94-.94-2.06-.94 2.06-2.06.94z\"/><path d=\"M17.41 7.96l-1.37-1.37c-.4-.4-.92-.59-1.43-.59-.52 0-1.04.2-1.43.59L10.3 9.45l-7.72 7.72c-.78.78-.78 2.05 0 2.83L4 21.41c.39.39.9.59 1.41.59.51 0 1.02-.2 1.41-.59l7.78-7.78 2.81-2.81c.8-.78.8-2.07 0-2.86zM5.41 20L4 18.59l7.72-7.72 1.47 1.35L5.41 20z\"/>\n",
              "  </svg>\n",
              "      </button>\n",
              "      \n",
              "  <style>\n",
              "    .colab-df-container {\n",
              "      display:flex;\n",
              "      flex-wrap:wrap;\n",
              "      gap: 12px;\n",
              "    }\n",
              "\n",
              "    .colab-df-convert {\n",
              "      background-color: #E8F0FE;\n",
              "      border: none;\n",
              "      border-radius: 50%;\n",
              "      cursor: pointer;\n",
              "      display: none;\n",
              "      fill: #1967D2;\n",
              "      height: 32px;\n",
              "      padding: 0 0 0 0;\n",
              "      width: 32px;\n",
              "    }\n",
              "\n",
              "    .colab-df-convert:hover {\n",
              "      background-color: #E2EBFA;\n",
              "      box-shadow: 0px 1px 2px rgba(60, 64, 67, 0.3), 0px 1px 3px 1px rgba(60, 64, 67, 0.15);\n",
              "      fill: #174EA6;\n",
              "    }\n",
              "\n",
              "    [theme=dark] .colab-df-convert {\n",
              "      background-color: #3B4455;\n",
              "      fill: #D2E3FC;\n",
              "    }\n",
              "\n",
              "    [theme=dark] .colab-df-convert:hover {\n",
              "      background-color: #434B5C;\n",
              "      box-shadow: 0px 1px 3px 1px rgba(0, 0, 0, 0.15);\n",
              "      filter: drop-shadow(0px 1px 2px rgba(0, 0, 0, 0.3));\n",
              "      fill: #FFFFFF;\n",
              "    }\n",
              "  </style>\n",
              "\n",
              "      <script>\n",
              "        const buttonEl =\n",
              "          document.querySelector('#df-de46ab9e-1746-455d-a26f-ad89b1818735 button.colab-df-convert');\n",
              "        buttonEl.style.display =\n",
              "          google.colab.kernel.accessAllowed ? 'block' : 'none';\n",
              "\n",
              "        async function convertToInteractive(key) {\n",
              "          const element = document.querySelector('#df-de46ab9e-1746-455d-a26f-ad89b1818735');\n",
              "          const dataTable =\n",
              "            await google.colab.kernel.invokeFunction('convertToInteractive',\n",
              "                                                     [key], {});\n",
              "          if (!dataTable) return;\n",
              "\n",
              "          const docLinkHtml = 'Like what you see? Visit the ' +\n",
              "            '<a target=\"_blank\" href=https://colab.research.google.com/notebooks/data_table.ipynb>data table notebook</a>'\n",
              "            + ' to learn more about interactive tables.';\n",
              "          element.innerHTML = '';\n",
              "          dataTable['output_type'] = 'display_data';\n",
              "          await google.colab.output.renderOutput(dataTable, element);\n",
              "          const docLink = document.createElement('div');\n",
              "          docLink.innerHTML = docLinkHtml;\n",
              "          element.appendChild(docLink);\n",
              "        }\n",
              "      </script>\n",
              "    </div>\n",
              "  </div>\n",
              "  "
            ],
            "text/plain": [
              "                                            sequence    target\n",
              "0  TGCGGAATCTTAATTGTGCGGATCCTTTTACCTTTTCTCATATTAA...  0.386194\n",
              "1  AGCGCCAAACGAAATATTGCTTTTGTAGAAGGGTTGAAGAAGGTAC... -0.711836\n",
              "2  ATACCAATTACTGTCCGTAGTTCGTCAGATTAGAATCCACTATATT... -0.148928\n",
              "3  AGGGTTACAAGTACAAGATGAGATACGTCTACGCGCATTTCCCAAT...  0.742004\n",
              "4  ACAAATCAGCTCCGATCTTCTCATATGAAAATCAGCAGCCGTGACA...  1.092220"
            ]
          },
          "execution_count": 34,
          "metadata": {},
          "output_type": "execute_result"
        }
      ],
      "source": [
        "from sklearn.preprocessing import StandardScaler\n",
        "scale= StandardScaler()\n",
        "text_data[[\"target\"]]=scale.fit_transform(text_data[[\"target\"]])\n",
        "text_data.to_csv('text_data_norm.csv')\n",
        "text_data.head()"
      ]
    },
    {
      "cell_type": "code",
      "execution_count": null,
      "metadata": {
        "colab": {
          "base_uri": "https://localhost:8080/"
        },
        "id": "DD6-wCyVtUaN",
        "outputId": "0fe1c114-7a19-41ff-bccc-b004dd4a0564"
      },
      "outputs": [
        {
          "data": {
            "text/plain": [
              "1124"
            ]
          },
          "execution_count": 90,
          "metadata": {},
          "output_type": "execute_result"
        }
      ],
      "source": [
        "(text_data.sequence.apply(len)>1800).sum()"
      ]
    },
    {
      "cell_type": "markdown",
      "metadata": {
        "id": "dNLoj4P5qRZD"
      },
      "source": [
        "# Pytorch"
      ]
    },
    {
      "cell_type": "code",
      "execution_count": null,
      "metadata": {
        "colab": {
          "base_uri": "https://localhost:8080/"
        },
        "id": "29Vs9CD33ZSf",
        "outputId": "79a18377-7fcc-45ea-d322-9eca5d6866d8"
      },
      "outputs": [
        {
          "name": "stdout",
          "output_type": "stream",
          "text": [
            "Found existing installation: numpy 1.21.5\n",
            "Uninstalling numpy-1.21.5:\n",
            "  Would remove:\n",
            "    /usr/bin/f2py\n",
            "    /usr/local/bin/f2py\n",
            "    /usr/local/bin/f2py3\n",
            "    /usr/local/bin/f2py3.7\n",
            "    /usr/local/lib/python3.7/dist-packages/numpy-1.21.5.dist-info/*\n",
            "    /usr/local/lib/python3.7/dist-packages/numpy.libs/libgfortran-2e0d59d6.so.5.0.0\n",
            "    /usr/local/lib/python3.7/dist-packages/numpy.libs/libopenblasp-r0-2d23e62b.3.17.so\n",
            "    /usr/local/lib/python3.7/dist-packages/numpy.libs/libquadmath-2d0c479f.so.0.0.0\n",
            "    /usr/local/lib/python3.7/dist-packages/numpy/*\n",
            "Proceed (y/n)? y\n",
            "  Successfully uninstalled numpy-1.21.5\n"
          ]
        }
      ],
      "source": [
        "#!pip3 uninstall numpy\n",
        "#pip install -U numpy"
      ]
    },
    {
      "cell_type": "code",
      "execution_count": null,
      "metadata": {
        "id": "VNUuILxkrGz2"
      },
      "outputs": [],
      "source": [
        "import torch\n",
        "import torch.nn.functional as F\n",
        "import torch.nn as nn\n",
        "import torchtext\n",
        "import time\n",
        "import random\n",
        "import pandas as pd\n",
        "from torch.utils.data import Dataset\n",
        "from torch.utils.data.dataset import random_split\n",
        "\n",
        "torch.backends.cudnn.deterministic = True"
      ]
    },
    {
      "cell_type": "markdown",
      "metadata": {
        "id": "-NEwsdzRGA01"
      },
      "source": [
        "## Datos"
      ]
    },
    {
      "cell_type": "code",
      "execution_count": null,
      "metadata": {
        "id": "UuW3JzGT2Esc"
      },
      "outputs": [],
      "source": [
        "def split(word):\n",
        "    return list(word)"
      ]
    },
    {
      "cell_type": "markdown",
      "metadata": {
        "id": "ClH4aQGsJaR-"
      },
      "source": [
        "Aquí vemos que las secuencias tienen longitudes distintas:"
      ]
    },
    {
      "cell_type": "code",
      "execution_count": null,
      "metadata": {
        "colab": {
          "base_uri": "https://localhost:8080/"
        },
        "id": "plEobCLRG40U",
        "outputId": "ae687873-83f8-435e-afc2-49fae0cc462f"
      },
      "outputs": [
        {
          "output_type": "stream",
          "name": "stdout",
          "text": [
            "1566\n",
            "1765\n"
          ]
        }
      ],
      "source": [
        "text_data = pd.read_csv('text_data_norm.csv')\n",
        "\n",
        "print(len(split(text_data[\"sequence\"].iloc[0])))\n",
        "print(len(split(text_data[\"sequence\"].iloc[4])))"
      ]
    },
    {
      "cell_type": "markdown",
      "metadata": {
        "id": "_jNxkEX1L9-J"
      },
      "source": [
        "### Read data"
      ]
    },
    {
      "cell_type": "code",
      "execution_count": null,
      "metadata": {
        "id": "qN2u7Nzm3Eej"
      },
      "outputs": [],
      "source": [
        "class TextData(Dataset):\n",
        "    '''\n",
        "    Dataset basico para leer las secuencias\n",
        "    '''\n",
        "    def __init__(self, filename):\n",
        "        super(TextData, self).__init__()\n",
        "        df = pd.read_csv(filename)\n",
        "        self.df = df[[\"sequence\", \"target\"]]\n",
        "        \n",
        "    def __getitem__(self, index):\n",
        "        return self.df.iloc[index,0], np.log(self.df.iloc[index,1])\n",
        "    \n",
        "    def __len__(self):\n",
        "        return len(self.df)"
      ]
    },
    {
      "cell_type": "code",
      "execution_count": null,
      "metadata": {
        "id": "e80qRgAQ4MmW"
      },
      "outputs": [],
      "source": [
        "ds = TextData(\"text_data.csv\")"
      ]
    },
    {
      "cell_type": "code",
      "execution_count": null,
      "metadata": {
        "id": "yqaAfZQJ4ZIX"
      },
      "outputs": [],
      "source": [
        "tr_per = 0.8\n",
        "train_dataset, valid_dataset = random_split(ds,\n",
        " [int(len(ds)*tr_per),len(ds) - int(len(ds)*tr_per)], torch.manual_seed(42))"
      ]
    },
    {
      "cell_type": "code",
      "execution_count": null,
      "metadata": {
        "colab": {
          "base_uri": "https://localhost:8080/"
        },
        "id": "LhWRa3BLecTP",
        "outputId": "acca3c91-46ea-4e83-f643-eef285e24886"
      },
      "outputs": [
        {
          "output_type": "execute_result",
          "data": {
            "text/plain": [
              "-1.934744067668322"
            ]
          },
          "metadata": {},
          "execution_count": 47
        }
      ],
      "source": [
        "text_data.target.min()"
      ]
    },
    {
      "cell_type": "markdown",
      "metadata": {
        "id": "_CGhQ6sQ5xr_"
      },
      "source": [
        "### Tokenización"
      ]
    },
    {
      "cell_type": "code",
      "execution_count": null,
      "metadata": {
        "colab": {
          "base_uri": "https://localhost:8080/"
        },
        "id": "PfFEV_bd4h0k",
        "outputId": "97b2fdf8-283f-4ab2-c2e2-90e38df750a4"
      },
      "outputs": [
        {
          "output_type": "stream",
          "name": "stdout",
          "text": [
            "Vocab-size: 4783\n"
          ]
        }
      ],
      "source": [
        "## Paso 2: Encuentre tokens únicos (palabras)\n",
        "import re\n",
        "import numpy as np\n",
        "from collections import Counter, OrderedDict\n",
        "from textwrap import wrap\n",
        "\n",
        "\n",
        "token_counts = Counter()\n",
        "\n",
        "def tokenizer(text):\n",
        "    tokenized = wrap(text,6)\n",
        "    tokenized = [\"<beg>\"] + tokenized + [\"<end>\"] #Añadimos un token de inicio y otro de fin de la secuencia\n",
        "    return tokenized\n",
        "\n",
        "\n",
        "for line, label in train_dataset:\n",
        "    tokens = tokenizer(line)\n",
        "    token_counts.update(tokens)\n",
        " \n",
        "    \n",
        "print('Vocab-size:', len(token_counts))"
      ]
    },
    {
      "cell_type": "markdown",
      "metadata": {
        "id": "Xv__Sj419UhQ"
      },
      "source": [
        "\n",
        "\n",
        "### Numericalización\n",
        "\n",
        "\n",
        "\n",
        "\n"
      ]
    },
    {
      "cell_type": "code",
      "execution_count": null,
      "metadata": {
        "colab": {
          "base_uri": "https://localhost:8080/"
        },
        "id": "Xxxtnx2A9aJI",
        "outputId": "508eb6f5-533b-4128-cd28-ae61da97cdf2"
      },
      "outputs": [
        {
          "output_type": "stream",
          "name": "stdout",
          "text": [
            "[2435, 3148, 1878, 3125, 3866, 4114, 4097]\n"
          ]
        }
      ],
      "source": [
        "## Paso 3: Codificación de cada token único en enteros\n",
        "\n",
        "from torchtext.vocab import vocab\n",
        "\n",
        "sorted_by_freq_tuples = sorted(token_counts.items(), key=lambda x: x[1], reverse=True)\n",
        "ordered_dict = OrderedDict(sorted_by_freq_tuples)\n",
        "\n",
        "vocab = vocab(ordered_dict)\n",
        "\n",
        "vocab.insert_token(\"<pad>\", 0)\n",
        "vocab.insert_token(\"<unk>\", 1)\n",
        "vocab.set_default_index(1)\n",
        "\n",
        "print([vocab[token] for token in [\"A\",\"C\",\"T\",\"G\",\"AA\",\"AC\",\"TG\"]])"
      ]
    },
    {
      "cell_type": "code",
      "execution_count": null,
      "metadata": {
        "id": "prPhEu3g-qxe"
      },
      "outputs": [],
      "source": [
        "## Paso 3-A: Defina las funciones para la transformación.\n",
        "\n",
        "device = torch.device('cuda:0' if torch.cuda.is_available() else 'cpu')\n",
        "\n",
        "text_pipeline = lambda x: [vocab[token] for token in tokenizer(x)]\n",
        "\n",
        "\n",
        "\n",
        "## Paso 3-B: función de codificación y transformación\n",
        "def collate_batch(batch):\n",
        "    label_list, text_list, lengths = [], [], []\n",
        "    for _text, _label in batch:\n",
        "        label_list.append(_label) #¿Hay que usar label list?\n",
        "        processed_text = torch.tensor(text_pipeline(_text), \n",
        "                                      dtype=torch.int64)\n",
        "        text_list.append(processed_text)\n",
        "        lengths.append(processed_text.size(0))\n",
        "    label_list = torch.tensor(label_list)\n",
        "    lengths = torch.tensor(lengths)\n",
        "    padded_text_list = nn.utils.rnn.pad_sequence(\n",
        "        text_list, batch_first=True)\n",
        "    return padded_text_list.to(device), label_list.to(device), lengths.to(device)"
      ]
    },
    {
      "cell_type": "code",
      "execution_count": null,
      "metadata": {
        "colab": {
          "base_uri": "https://localhost:8080/"
        },
        "id": "KRUO3LmYOzDO",
        "outputId": "ec72a5b3-4a89-4d79-ee76-763a73f336a7"
      },
      "outputs": [
        {
          "output_type": "stream",
          "name": "stdout",
          "text": [
            "tensor([[   4, 2293,   39,  ...,    0,    0,    0],\n",
            "        [   4, 1721,  882,  ...,    0,    0,    0],\n",
            "        [   4, 1370, 1922,  ...,  305, 3010,    5],\n",
            "        [   4,  888,  604,  ...,    0,    0,    0]], device='cuda:0')\n",
            "tensor([1.6278, 2.0195, 1.4218, 1.8468], device='cuda:0', dtype=torch.float64)\n",
            "tensor([277, 264, 282, 278], device='cuda:0')\n",
            "torch.Size([4, 282])\n"
          ]
        }
      ],
      "source": [
        "## Toma un pequeño batch\n",
        "\n",
        "from torch.utils.data import DataLoader\n",
        "dataloader = DataLoader(train_dataset, batch_size=4, shuffle=False, collate_fn=collate_batch)\n",
        "text_batch, label_batch, length_batch = next(iter(dataloader))\n",
        "print(text_batch)\n",
        "print(label_batch)\n",
        "print(length_batch)\n",
        "print(text_batch.shape)"
      ]
    },
    {
      "cell_type": "code",
      "execution_count": null,
      "metadata": {
        "id": "G5GUD4JLRJkb"
      },
      "outputs": [],
      "source": [
        "## Paso 4: batching los datasets\n",
        "\n",
        "batch_size = 64\n",
        "\n",
        "train_dl = DataLoader(train_dataset, batch_size=batch_size,\n",
        "                      shuffle=True, collate_fn=collate_batch)\n",
        "valid_dl = DataLoader(valid_dataset, batch_size=batch_size,\n",
        "                      shuffle=True, collate_fn=collate_batch)"
      ]
    },
    {
      "cell_type": "markdown",
      "metadata": {
        "id": "0oYSUw_vXQk6"
      },
      "source": [
        "## Modelo LSTM"
      ]
    },
    {
      "cell_type": "code",
      "execution_count": null,
      "metadata": {
        "id": "xmIdRwwWlgD_"
      },
      "outputs": [],
      "source": [
        "class RNN(nn.Module):\n",
        "    def __init__(self, vocab_size, embed_dim, rnn_hidden_size, fc_hidden_size):\n",
        "        super().__init__()\n",
        "        self.embedding = nn.Embedding(vocab_size, \n",
        "                                      embed_dim, \n",
        "                                      padding_idx=0) \n",
        "        self.rnn = nn.LSTM(embed_dim, rnn_hidden_size,num_layers=2,\n",
        "                           batch_first=True,bidirectional = True, dropout=0.4 )\n",
        "        self.fc1 = nn.Linear(rnn_hidden_size*2, fc_hidden_size)\n",
        "        self.relu = nn.ReLU()\n",
        "        self.fc2 = nn.Linear(fc_hidden_size, 1)\n",
        "\n",
        "    def forward(self, text, lengths):\n",
        "        out = self.embedding(text)\n",
        "        out = nn.utils.rnn.pack_padded_sequence(out, lengths.cpu().numpy(), enforce_sorted=False, batch_first=True)\n",
        "        out, (hidden, cell) = self.rnn(out)\n",
        "        out = torch.cat((hidden[-2, :, :], hidden[-1, :, :]), dim=1)\n",
        "        # out = hidden[-1, :, :]\n",
        "        out = self.fc1(out)\n",
        "        out = self.relu(out)\n",
        "        out = self.fc2(out)\n",
        "        return out"
      ]
    },
    {
      "cell_type": "code",
      "execution_count": null,
      "metadata": {
        "id": "bZozMkbOlwAo"
      },
      "outputs": [],
      "source": [
        "vocab_size = len(vocab)\n",
        "embed_dim = 50\n",
        "rnn_hidden_size = 64\n",
        "fc_hidden_size = 32\n",
        "\n",
        "torch.manual_seed(1)\n",
        "model = RNN(vocab_size, embed_dim, rnn_hidden_size, fc_hidden_size) \n",
        "model = model.to(device)"
      ]
    },
    {
      "cell_type": "markdown",
      "metadata": {
        "id": "3KlIVo6RXUv3"
      },
      "source": [
        "#### Entrenamiento"
      ]
    },
    {
      "cell_type": "markdown",
      "metadata": {
        "id": "eZ8loypsoZgk"
      },
      "source": [
        "##### MSE"
      ]
    },
    {
      "cell_type": "code",
      "execution_count": null,
      "metadata": {
        "id": "a9brcwJkwtae"
      },
      "outputs": [],
      "source": [
        "train_losses=[]\n",
        "val_losses=[]\n",
        "\n",
        "def train(dataloader):\n",
        "    model.train()\n",
        "    total_loss = 0\n",
        "    for text_batch, label_batch, lengths in dataloader:\n",
        "        optimizer.zero_grad()\n",
        "        pred = model(text_batch, lengths)[:, 0]\n",
        "        loss = loss_fn(pred.float(), label_batch.float())\n",
        "        loss.backward()\n",
        "        optimizer.step()\n",
        "        total_loss += loss.item()*label_batch.size(0)\n",
        "        \n",
        "    train_losses.append(total_loss/len(dataloader.dataset))\n",
        "    return total_loss/len(dataloader.dataset)\n",
        " \n",
        "def evaluate(dataloader):\n",
        "    model.eval()\n",
        "    total_loss = 0\n",
        "    with torch.no_grad():\n",
        "        for text_batch, label_batch, lengths in dataloader:\n",
        "            pred = model(text_batch, lengths)[:, 0]\n",
        "            loss = loss_fn(pred.float(), label_batch.float())\n",
        "            total_loss += loss.item()*label_batch.size(0)\n",
        "            \n",
        "    val_losses.append(total_loss/len(dataloader.dataset))       \n",
        "    return total_loss/len(dataloader.dataset)"
      ]
    },
    {
      "cell_type": "code",
      "execution_count": null,
      "metadata": {
        "colab": {
          "base_uri": "https://localhost:8080/"
        },
        "id": "HmxR5kPMTCsv",
        "outputId": "e661a862-de0f-49d7-9c40-f2b4a75254ac"
      },
      "outputs": [
        {
          "output_type": "stream",
          "name": "stdout",
          "text": [
            "Epoch 0 loss train: 3.4400 loss valid: 2.9223\n",
            "Epoch 1 loss train: 2.0854 loss valid: 0.7265\n",
            "Epoch 2 loss train: 0.2293 loss valid: 0.1320\n",
            "Epoch 3 loss train: 0.1430 loss valid: 0.1325\n",
            "Epoch 4 loss train: 0.1409 loss valid: 0.1320\n",
            "Epoch 5 loss train: 0.1395 loss valid: 0.1309\n",
            "Epoch 6 loss train: 0.1396 loss valid: 0.1310\n",
            "Epoch 7 loss train: 0.1380 loss valid: 0.1280\n",
            "Epoch 8 loss train: 0.1376 loss valid: 0.1289\n",
            "Epoch 9 loss train: 0.1372 loss valid: 0.1274\n",
            "Epoch 10 loss train: 0.1366 loss valid: 0.1274\n",
            "Epoch 11 loss train: 0.1358 loss valid: 0.1275\n",
            "Epoch 12 loss train: 0.1348 loss valid: 0.1277\n",
            "Epoch 13 loss train: 0.1352 loss valid: 0.1278\n",
            "Epoch 14 loss train: 0.1346 loss valid: 0.1282\n",
            "Epoch 15 loss train: 0.1342 loss valid: 0.1270\n",
            "Epoch 16 loss train: 0.1339 loss valid: 0.1280\n",
            "Epoch 17 loss train: 0.1337 loss valid: 0.1278\n",
            "Epoch 18 loss train: 0.1327 loss valid: 0.1272\n",
            "Epoch 19 loss train: 0.1330 loss valid: 0.1279\n",
            "Epoch 20 loss train: 0.1332 loss valid: 0.1278\n",
            "Epoch 21 loss train: 0.1319 loss valid: 0.1283\n",
            "Epoch 22 loss train: 0.1309 loss valid: 0.1296\n",
            "Epoch 23 loss train: 0.1306 loss valid: 0.1285\n",
            "Epoch 24 loss train: 0.1304 loss valid: 0.1286\n",
            "Epoch 25 loss train: 0.1297 loss valid: 0.1308\n",
            "Epoch 26 loss train: 0.1282 loss valid: 0.1306\n",
            "Epoch 27 loss train: 0.1279 loss valid: 0.1325\n",
            "Epoch 28 loss train: 0.1270 loss valid: 0.1344\n",
            "Epoch 29 loss train: 0.1261 loss valid: 0.1331\n"
          ]
        }
      ],
      "source": [
        "loss_fn = nn.MSELoss()\n",
        "optimizer = torch.optim.AdamW(model.parameters(), lr=0.0001)\n",
        "\n",
        "num_epochs = 30\n",
        "\n",
        "torch.manual_seed(1)\n",
        " \n",
        "for epoch in range(num_epochs):\n",
        "\n",
        "    loss_train = train(train_dl)\n",
        "    loss_eval = evaluate(valid_dl)\n",
        "    \n",
        "    print(f'Epoch {epoch} loss train: {loss_train:.4f} loss valid: {loss_eval:.4f}')"
      ]
    },
    {
      "cell_type": "code",
      "execution_count": null,
      "metadata": {
        "colab": {
          "base_uri": "https://localhost:8080/",
          "height": 295
        },
        "id": "Anr7El9sNUAf",
        "outputId": "8350563f-16ad-4d21-c610-867165b82b8c"
      },
      "outputs": [
        {
          "output_type": "display_data",
          "data": {
            "text/plain": [
              "<Figure size 432x288 with 1 Axes>"
            ],
            "image/png": "[encoded data removed]"
          },
          "metadata": {
            "needs_background": "light"
          }
        }
      ],
      "source": [
        "import matplotlib.pyplot as plt\n",
        "plt.plot(train_losses,'-o')\n",
        "plt.plot(val_losses,'-o')\n",
        "plt.xlabel('epoch')\n",
        "plt.ylabel('accuracy')\n",
        "plt.legend(['Train','Valid'])\n",
        "plt.title('Train vs Valid Loss')\n",
        "\n",
        "plt.show()"
      ]
    },
    {
      "cell_type": "markdown",
      "metadata": {
        "id": "0HrGI5O1pOH5"
      },
      "source": [
        "##### R2"
      ]
    },
    {
      "cell_type": "code",
      "execution_count": null,
      "metadata": {
        "id": "y9EeLKKopPeD"
      },
      "outputs": [],
      "source": [
        "y=[]\n",
        "y_pred=[]\n",
        "with torch.no_grad():\n",
        "    model.eval()\n",
        "    for text_batch, label_batch, lengths in valid_dl:\n",
        "\n",
        "        outputs = model(text_batch, lengths)[:, 0]\n",
        "        y.append(label_batch.cpu().numpy())\n",
        "        y_pred.append(outputs.cpu().numpy())"
      ]
    },
    {
      "cell_type": "code",
      "source": [
        "y_pred = [a.squeeze().tolist() for a in y_pred]\n",
        "y = [a.squeeze().tolist() for a in y]\n"
      ],
      "metadata": {
        "id": "taynvEZ2NYSw"
      },
      "execution_count": null,
      "outputs": []
    },
    {
      "cell_type": "code",
      "source": [
        "y_pred = [item for sublist in y_pred for item in sublist]\n",
        "y = [item for sublist in y for item in sublist]"
      ],
      "metadata": {
        "id": "Z_ez0gPDOmHj"
      },
      "execution_count": null,
      "outputs": []
    },
    {
      "cell_type": "code",
      "execution_count": null,
      "metadata": {
        "colab": {
          "base_uri": "https://localhost:8080/"
        },
        "id": "KDHKAw9upfLi",
        "outputId": "a1936b00-08b4-488b-8539-6acf17d10b68"
      },
      "outputs": [
        {
          "output_type": "stream",
          "name": "stdout",
          "text": [
            "-0.06871776965833365\n"
          ]
        }
      ],
      "source": [
        "from sklearn.metrics import r2_score\n",
        "r_square = r2_score(y, y_pred)\n",
        "print(r_square)"
      ]
    },
    {
      "cell_type": "markdown",
      "metadata": {
        "id": "Oi8iKT6iErTB"
      },
      "source": [
        "## Modelo GRU"
      ]
    },
    {
      "cell_type": "code",
      "execution_count": null,
      "metadata": {
        "id": "uyjUaJ40EtxK"
      },
      "outputs": [],
      "source": [
        "class GRU(nn.Module):\n",
        "    def __init__(self, vocab_size, embed_dim, rnn_hidden_size, fc_hidden_size):\n",
        "        super().__init__()\n",
        "        self.embedding = nn.Embedding(vocab_size, \n",
        "                                      embed_dim, \n",
        "                                      padding_idx=0) \n",
        "        self.rnn = nn.GRU(embed_dim, rnn_hidden_size,num_layers=2,\n",
        "                           batch_first=True,bidirectional = True, dropout=0.5 )\n",
        "        self.fc1 = nn.Linear(rnn_hidden_size*2, fc_hidden_size)\n",
        "        self.relu = nn.ReLU()\n",
        "        self.fc2 = nn.Linear(fc_hidden_size, 1)\n",
        "\n",
        "    def forward(self, text, lengths):\n",
        "        out = self.embedding(text)\n",
        "        out = nn.utils.rnn.pack_padded_sequence(out, lengths.cpu().numpy(), enforce_sorted=False, batch_first=True)\n",
        "        out, (hidden) = self.rnn(out)\n",
        "        out = torch.cat((hidden[-2, :, :], hidden[-1, :, :]), dim=1)\n",
        "        # out = hidden[-1, :, :]\n",
        "        out = self.fc1(out)\n",
        "        out = self.relu(out)\n",
        "        out = self.fc2(out)\n",
        "        return out"
      ]
    },
    {
      "cell_type": "code",
      "execution_count": null,
      "metadata": {
        "id": "y8mt5ZbOORpr"
      },
      "outputs": [],
      "source": [
        "vocab_size = len(vocab)\n",
        "embed_dim = 50\n",
        "rnn_hidden_size = 64\n",
        "fc_hidden_size = 32\n",
        "\n",
        "torch.manual_seed(1)\n",
        "model = GRU(vocab_size, embed_dim, rnn_hidden_size, fc_hidden_size) \n",
        "model = model.to(device)"
      ]
    },
    {
      "cell_type": "markdown",
      "metadata": {
        "id": "Xp2i1aAStMPL"
      },
      "source": [
        "### Entrenamiento"
      ]
    },
    {
      "cell_type": "markdown",
      "metadata": {
        "id": "FIPBX91rtPLB"
      },
      "source": [
        "#### MSE"
      ]
    },
    {
      "cell_type": "code",
      "execution_count": null,
      "metadata": {
        "colab": {
          "base_uri": "https://localhost:8080/"
        },
        "id": "sRl8tY3YOV6y",
        "outputId": "a369b33d-f753-4790-9613-d44b7096d0c9"
      },
      "outputs": [
        {
          "output_type": "stream",
          "name": "stdout",
          "text": [
            "Epoch 0 loss train: 2.9297 loss valid: 1.8340\n",
            "Epoch 1 loss train: 0.8915 loss valid: 0.1361\n",
            "Epoch 2 loss train: 0.1508 loss valid: 0.1439\n",
            "Epoch 3 loss train: 0.1490 loss valid: 0.1429\n",
            "Epoch 4 loss train: 0.1456 loss valid: 0.1424\n",
            "Epoch 5 loss train: 0.1426 loss valid: 0.1396\n",
            "Epoch 6 loss train: 0.1457 loss valid: 0.1406\n",
            "Epoch 7 loss train: 0.1434 loss valid: 0.1352\n",
            "Epoch 8 loss train: 0.1408 loss valid: 0.1380\n",
            "Epoch 9 loss train: 0.1424 loss valid: 0.1343\n",
            "Epoch 10 loss train: 0.1406 loss valid: 0.1310\n",
            "Epoch 11 loss train: 0.1398 loss valid: 0.1347\n",
            "Epoch 12 loss train: 0.1373 loss valid: 0.1351\n",
            "Epoch 13 loss train: 0.1384 loss valid: 0.1358\n",
            "Epoch 14 loss train: 0.1385 loss valid: 0.1365\n"
          ]
        }
      ],
      "source": [
        "train_losses=[]\n",
        "val_losses=[]\n",
        "loss_fn = nn.MSELoss()\n",
        "optimizer = torch.optim.AdamW(model.parameters(), lr=0.0001)\n",
        "\n",
        "num_epochs = 15\n",
        "\n",
        "torch.manual_seed(1)\n",
        " \n",
        "for epoch in range(num_epochs):\n",
        "\n",
        "    loss_train = train(train_dl)\n",
        "    loss_eval = evaluate(valid_dl)\n",
        "    \n",
        "    print(f'Epoch {epoch} loss train: {loss_train:.4f} loss valid: {loss_eval:.4f}')\n"
      ]
    },
    {
      "cell_type": "code",
      "execution_count": null,
      "metadata": {
        "colab": {
          "base_uri": "https://localhost:8080/"
        },
        "id": "9TYgiLSq6Hrg",
        "outputId": "16269060-e3b6-4330-ba71-27c092329a75"
      },
      "outputs": [
        {
          "output_type": "execute_result",
          "data": {
            "text/plain": [
              "0.35916569992135944"
            ]
          },
          "metadata": {},
          "execution_count": 27
        }
      ],
      "source": [
        "np.sqrt(0.129)"
      ]
    },
    {
      "cell_type": "code",
      "execution_count": null,
      "metadata": {
        "colab": {
          "base_uri": "https://localhost:8080/",
          "height": 295
        },
        "id": "VSy8o77gXYl_",
        "outputId": "20b6faf8-e5b6-4aa7-80e8-6968c7048ef1"
      },
      "outputs": [
        {
          "output_type": "display_data",
          "data": {
            "text/plain": [
              "<Figure size 432x288 with 1 Axes>"
            ],
            "image/png": "[encoded data removed]"
          },
          "metadata": {
            "needs_background": "light"
          }
        }
      ],
      "source": [
        "import matplotlib.pyplot as plt\n",
        "plt.plot(train_losses,'-o')\n",
        "plt.plot(val_losses,'-o')\n",
        "plt.xlabel('epoch')\n",
        "plt.ylabel('accuracy')\n",
        "plt.legend(['Train','Valid'])\n",
        "plt.title('Train vs Valid Loss')\n",
        "\n",
        "plt.show()"
      ]
    },
    {
      "cell_type": "markdown",
      "metadata": {
        "id": "q3cX6wZ3tUTE"
      },
      "source": [
        "#### R2"
      ]
    },
    {
      "cell_type": "code",
      "execution_count": null,
      "metadata": {
        "id": "bTST00gotq61"
      },
      "outputs": [],
      "source": [
        "y=[]\n",
        "y_pred=[]\n",
        "with torch.no_grad():\n",
        "    model.eval()\n",
        "    for text_batch, label_batch, lengths in valid_dl:\n",
        "\n",
        "        outputs = model(text_batch, lengths)[:, 0]\n",
        "        y.append(label_batch.cpu().numpy())\n",
        "        y_pred.append(outputs.cpu().numpy())"
      ]
    },
    {
      "cell_type": "code",
      "execution_count": null,
      "metadata": {
        "id": "YzAQ3VWPtq_X"
      },
      "outputs": [],
      "source": [
        "y_pred = [a.squeeze().tolist() for a in y_pred]\n",
        "y = [a.squeeze().tolist() for a in y]\n",
        "y=sum(y,[])\n",
        "y_pred=sum(y_pred,[])"
      ]
    },
    {
      "cell_type": "code",
      "execution_count": null,
      "metadata": {
        "colab": {
          "base_uri": "https://localhost:8080/"
        },
        "id": "KSwpGH15trEF",
        "outputId": "755d67f0-d89d-4b1a-9639-797a1ae27ea6"
      },
      "outputs": [
        {
          "output_type": "stream",
          "name": "stdout",
          "text": [
            "-0.09600776668206468\n"
          ]
        }
      ],
      "source": [
        "from sklearn.metrics import r2_score\n",
        "r_square = r2_score(y, y_pred)\n",
        "print(r_square)"
      ]
    },
    {
      "cell_type": "markdown",
      "metadata": {
        "id": "TigRY1CIkmlm"
      },
      "source": [
        "## RNN con frecuencias de nucleótidos"
      ]
    },
    {
      "cell_type": "code",
      "execution_count": null,
      "metadata": {
        "id": "R34Kxzag-pbS"
      },
      "outputs": [],
      "source": [
        "import torch\n",
        "import numpy as np\n",
        "from torch import nn\n",
        "from torch.utils.data import DataLoader\n",
        "from sklearn.preprocessing import StandardScaler"
      ]
    },
    {
      "cell_type": "code",
      "execution_count": null,
      "metadata": {
        "id": "7uv07q0lawQv"
      },
      "outputs": [],
      "source": [
        "X2_data=np.loadtxt('X2_data.csv', delimiter=',')\n",
        "Y_data=np.loadtxt('Y_data.csv', delimiter=',')"
      ]
    },
    {
      "cell_type": "code",
      "execution_count": null,
      "metadata": {
        "colab": {
          "base_uri": "https://localhost:8080/"
        },
        "id": "HP-EKxd18TiR",
        "outputId": "253e428a-2e3a-4959-cb06-5d5f9bce7305"
      },
      "outputs": [
        {
          "output_type": "execute_result",
          "data": {
            "text/plain": [
              "(4238, 72)"
            ]
          },
          "metadata": {},
          "execution_count": 6
        }
      ],
      "source": [
        "X2_data.shape"
      ]
    },
    {
      "cell_type": "code",
      "execution_count": null,
      "metadata": {
        "colab": {
          "base_uri": "https://localhost:8080/"
        },
        "id": "XS_vq45nYOPb",
        "outputId": "95cbc2e7-a385-414d-dc11-6f92928c0952"
      },
      "outputs": [
        {
          "output_type": "execute_result",
          "data": {
            "text/plain": [
              "(4238,)"
            ]
          },
          "metadata": {},
          "execution_count": 7
        }
      ],
      "source": [
        "Y_data.shape"
      ]
    },
    {
      "cell_type": "code",
      "execution_count": null,
      "metadata": {
        "id": "rEZWsiWC-tWy"
      },
      "outputs": [],
      "source": [
        "class PrepareDataset(torch.utils.data.Dataset):\n",
        "\n",
        "  def __init__(self, X, y, scale_data=True):\n",
        "    if not torch.is_tensor(X) and not torch.is_tensor(y):\n",
        "      # Apply scaling if necessary\n",
        "      if scale_data:\n",
        "          X = StandardScaler().fit_transform(X)\n",
        "      self.X = torch.from_numpy(X)\n",
        "      self.y = torch.from_numpy(y)\n",
        "\n",
        "  def __len__(self):\n",
        "      return len(self.X)\n",
        "\n",
        "  def __getitem__(self, i):\n",
        "      return self.X[i], self.y[i]"
      ]
    },
    {
      "cell_type": "code",
      "execution_count": null,
      "metadata": {
        "id": "uI6ixF----aI"
      },
      "outputs": [],
      "source": [
        "from torch.utils.data.dataset import random_split\n",
        "dataset = PrepareDataset(X2_data, Y_data)\n",
        "tr_per = 0.7\n",
        "train2_dataset, valid2_dataset = random_split(dataset,\n",
        " [int(len(dataset)*tr_per),len(dataset) - int(len(dataset)*tr_per)], torch.manual_seed(42))\n",
        "\n",
        "train_dataloader = DataLoader(train2_dataset, batch_size=10, shuffle=True, num_workers=1)\n",
        "valid_dataloader = DataLoader(valid2_dataset, batch_size=10, shuffle=True, num_workers=1)"
      ]
    },
    {
      "cell_type": "markdown",
      "metadata": {
        "id": "i6qvft12e8UB"
      },
      "source": [
        "### Modelo MLP"
      ]
    },
    {
      "cell_type": "code",
      "execution_count": null,
      "metadata": {
        "id": "lFvF2Ppxexw6"
      },
      "outputs": [],
      "source": [
        "class MLP(nn.Module):\n",
        "  '''\n",
        "    Multilayer Perceptron for regression.\n",
        "  '''\n",
        "  def __init__(self):\n",
        "    super().__init__()\n",
        "    self.layers = nn.Sequential(\n",
        "      nn.Linear(72, 64),\n",
        "      nn.Dropout(p=0.1),\n",
        "      nn.ReLU(),\n",
        "      nn.Linear(64, 32),\n",
        "      nn.Dropout(p=0.1),\n",
        "      nn.ReLU(),\n",
        "      nn.Linear(32, 1)\n",
        "    )\n",
        "\n",
        "\n",
        "  def forward(self, x):\n",
        "    '''\n",
        "      Forward pass\n",
        "    '''\n",
        "    return self.layers(x)"
      ]
    },
    {
      "cell_type": "markdown",
      "metadata": {
        "id": "e7wZdQtyK_lc"
      },
      "source": [
        "### MSE"
      ]
    },
    {
      "cell_type": "code",
      "execution_count": null,
      "metadata": {
        "id": "GQ1S2hpEgSFu"
      },
      "outputs": [],
      "source": [
        " # Run the training loop\n",
        "train_losses=[]\n",
        "val_losses=[]\n",
        "\n",
        "def train(dataloader):\n",
        "  model.train()\n",
        "  total_loss = 0.0\n",
        "    \n",
        "  # Iterate over the DataLoader for training data\n",
        "  for i, data in enumerate(dataloader, 0):\n",
        "      \n",
        "      # Get and prepare inputs\n",
        "    inputs, targets = data\n",
        "    inputs, targets = inputs.float(), targets.float()\n",
        "    targets = targets.reshape((targets.shape[0], 1))\n",
        "      \n",
        "      # Zero the gradients\n",
        "    optimizer.zero_grad()\n",
        "      \n",
        "      # Perform forward pass\n",
        "    outputs = model(inputs)\n",
        "      \n",
        "      # Compute loss\n",
        "    loss = loss_fn(outputs, targets)\n",
        "      \n",
        "      # Perform backward pass\n",
        "    loss.backward()\n",
        "      \n",
        "      # Perform optimization\n",
        "    optimizer.step()\n",
        "      \n",
        "      # Print statistics\n",
        "    total_loss += loss.item()*inputs.size(0)\n",
        "    \n",
        "  train_losses.append(total_loss/len(dataloader.dataset))\n",
        "  return(total_loss/len(dataloader.dataset))\n",
        "\n",
        "def evaluate(dataloader):\n",
        "    model.eval()\n",
        "    total_loss = 0\n",
        "    with torch.no_grad():\n",
        "        for i, data in enumerate(dataloader, 0):\n",
        "# Get and prepare inputs\n",
        "          inputs, targets = data\n",
        "          inputs, targets = inputs.float(), targets.float()\n",
        "          targets = targets.reshape((targets.shape[0], 1))\n",
        "# Perform forward pass\n",
        "          outputs = model(inputs)\n",
        "# Compute loss\n",
        "          loss = loss_fn(outputs, targets)\n",
        "          total_loss += loss.item()*inputs.size(0)\n",
        "    val_losses.append(total_loss/len(dataloader.dataset))\n",
        "    return total_loss/len(dataloader.dataset)"
      ]
    },
    {
      "cell_type": "code",
      "execution_count": null,
      "metadata": {
        "colab": {
          "base_uri": "https://localhost:8080/"
        },
        "id": "Oes5C43BwyDT",
        "outputId": "ef01efe1-8f73-4a5b-a818-df3a0113f3d1"
      },
      "outputs": [
        {
          "output_type": "stream",
          "name": "stdout",
          "text": [
            "Epoch 0 loss train: 57.5327 loss valid: 36.1011\n",
            "Epoch 1 loss train: 25.1254 loss valid: 17.0885\n",
            "Epoch 2 loss train: 16.5115 loss valid: 13.2893\n",
            "Epoch 3 loss train: 12.6168 loss valid: 10.3965\n",
            "Epoch 4 loss train: 10.2178 loss valid: 8.7013\n",
            "Epoch 5 loss train: 8.5757 loss valid: 7.2996\n",
            "Epoch 6 loss train: 7.6492 loss valid: 6.2239\n",
            "Epoch 7 loss train: 6.4931 loss valid: 5.2989\n",
            "Epoch 8 loss train: 5.7356 loss valid: 4.6114\n",
            "Epoch 9 loss train: 5.1108 loss valid: 4.1626\n",
            "Epoch 10 loss train: 4.8127 loss valid: 3.9093\n",
            "Epoch 11 loss train: 4.6331 loss valid: 3.7152\n",
            "Epoch 12 loss train: 4.3008 loss valid: 3.5627\n",
            "Epoch 13 loss train: 4.3376 loss valid: 3.4590\n",
            "Epoch 14 loss train: 4.2009 loss valid: 3.3448\n",
            "Epoch 15 loss train: 4.1771 loss valid: 3.2743\n",
            "Epoch 16 loss train: 3.9707 loss valid: 3.2048\n",
            "Epoch 17 loss train: 3.9124 loss valid: 3.1709\n",
            "Epoch 18 loss train: 3.7869 loss valid: 3.1073\n",
            "Epoch 19 loss train: 3.8455 loss valid: 3.0863\n",
            "Epoch 20 loss train: 3.6027 loss valid: 3.0553\n",
            "Epoch 21 loss train: 3.5572 loss valid: 3.0437\n",
            "Epoch 22 loss train: 3.7330 loss valid: 3.0121\n",
            "Epoch 23 loss train: 3.7709 loss valid: 2.9350\n",
            "Epoch 24 loss train: 3.6095 loss valid: 2.9136\n",
            "Epoch 25 loss train: 3.3524 loss valid: 2.8899\n",
            "Epoch 26 loss train: 3.4988 loss valid: 2.8581\n",
            "Epoch 27 loss train: 3.5252 loss valid: 2.8280\n",
            "Epoch 28 loss train: 3.3125 loss valid: 2.8233\n",
            "Epoch 29 loss train: 3.4002 loss valid: 2.7941\n",
            "Epoch 30 loss train: 3.3537 loss valid: 2.7610\n",
            "Epoch 31 loss train: 3.3318 loss valid: 2.7165\n",
            "Epoch 32 loss train: 3.1822 loss valid: 2.7051\n",
            "Epoch 33 loss train: 3.3729 loss valid: 2.6952\n",
            "Epoch 34 loss train: 3.3170 loss valid: 2.6367\n",
            "Epoch 35 loss train: 3.1186 loss valid: 2.6406\n",
            "Epoch 36 loss train: 3.2228 loss valid: 2.6028\n",
            "Epoch 37 loss train: 3.1045 loss valid: 2.5741\n",
            "Epoch 38 loss train: 3.0984 loss valid: 2.5422\n",
            "Epoch 39 loss train: 3.1864 loss valid: 2.6040\n",
            "Epoch 40 loss train: 3.0321 loss valid: 2.4985\n",
            "Epoch 41 loss train: 2.8704 loss valid: 2.5155\n",
            "Epoch 42 loss train: 3.0799 loss valid: 2.4895\n",
            "Epoch 43 loss train: 3.0607 loss valid: 2.4476\n",
            "Epoch 44 loss train: 2.9197 loss valid: 2.4268\n",
            "Epoch 45 loss train: 2.9262 loss valid: 2.4598\n",
            "Epoch 46 loss train: 2.8852 loss valid: 2.4097\n",
            "Epoch 47 loss train: 2.8919 loss valid: 2.3986\n",
            "Epoch 48 loss train: 2.8613 loss valid: 2.3639\n",
            "Epoch 49 loss train: 2.8026 loss valid: 2.3484\n",
            "Epoch 50 loss train: 2.8953 loss valid: 2.3695\n",
            "Epoch 51 loss train: 2.7163 loss valid: 2.3306\n",
            "Epoch 52 loss train: 2.8996 loss valid: 2.3285\n",
            "Epoch 53 loss train: 2.8381 loss valid: 2.3145\n",
            "Epoch 54 loss train: 2.7498 loss valid: 2.3259\n",
            "Epoch 55 loss train: 2.7271 loss valid: 2.3011\n",
            "Epoch 56 loss train: 2.6156 loss valid: 2.2840\n",
            "Epoch 57 loss train: 2.7583 loss valid: 2.2718\n",
            "Epoch 58 loss train: 2.7995 loss valid: 2.2755\n",
            "Epoch 59 loss train: 2.7946 loss valid: 2.2608\n",
            "Epoch 60 loss train: 2.5144 loss valid: 2.2753\n",
            "Epoch 61 loss train: 2.6331 loss valid: 2.2294\n",
            "Epoch 62 loss train: 2.5807 loss valid: 2.2281\n",
            "Epoch 63 loss train: 2.6285 loss valid: 2.2464\n",
            "Epoch 64 loss train: 2.6832 loss valid: 2.2319\n",
            "Epoch 65 loss train: 2.5578 loss valid: 2.2432\n",
            "Epoch 66 loss train: 2.5826 loss valid: 2.2089\n",
            "Epoch 67 loss train: 2.7365 loss valid: 2.2162\n",
            "Epoch 68 loss train: 2.7247 loss valid: 2.2252\n",
            "Epoch 69 loss train: 2.3824 loss valid: 2.2103\n",
            "Epoch 70 loss train: 2.4358 loss valid: 2.2037\n",
            "Epoch 71 loss train: 2.5678 loss valid: 2.2195\n",
            "Epoch 72 loss train: 2.3231 loss valid: 2.2035\n",
            "Epoch 73 loss train: 2.5359 loss valid: 2.1941\n",
            "Epoch 74 loss train: 2.5029 loss valid: 2.1829\n",
            "Epoch 75 loss train: 2.3690 loss valid: 2.1851\n",
            "Epoch 76 loss train: 2.4390 loss valid: 2.1833\n",
            "Epoch 77 loss train: 2.4213 loss valid: 2.1928\n",
            "Epoch 78 loss train: 2.5229 loss valid: 2.1937\n",
            "Epoch 79 loss train: 2.4901 loss valid: 2.1890\n",
            "Epoch 80 loss train: 2.4273 loss valid: 2.1787\n",
            "Epoch 81 loss train: 2.4243 loss valid: 2.1861\n",
            "Epoch 82 loss train: 2.4715 loss valid: 2.1870\n",
            "Epoch 83 loss train: 2.3986 loss valid: 2.1753\n",
            "Epoch 84 loss train: 2.4940 loss valid: 2.1971\n",
            "Epoch 85 loss train: 2.4080 loss valid: 2.1706\n",
            "Epoch 86 loss train: 2.3665 loss valid: 2.1992\n",
            "Epoch 87 loss train: 2.5138 loss valid: 2.1597\n",
            "Epoch 88 loss train: 2.4558 loss valid: 2.1595\n",
            "Epoch 89 loss train: 2.3193 loss valid: 2.1701\n",
            "Epoch 90 loss train: 2.2886 loss valid: 2.1842\n",
            "Epoch 91 loss train: 2.4712 loss valid: 2.1566\n",
            "Epoch 92 loss train: 2.4523 loss valid: 2.2075\n",
            "Epoch 93 loss train: 2.5123 loss valid: 2.1962\n",
            "Epoch 94 loss train: 2.3543 loss valid: 2.1643\n",
            "Epoch 95 loss train: 2.4090 loss valid: 2.1589\n",
            "Epoch 96 loss train: 2.2900 loss valid: 2.1423\n",
            "Epoch 97 loss train: 2.4686 loss valid: 2.1543\n",
            "Epoch 98 loss train: 2.3579 loss valid: 2.1426\n",
            "Epoch 99 loss train: 2.2230 loss valid: 2.1529\n"
          ]
        }
      ],
      "source": [
        "model=MLP()\n",
        "loss_fn = nn.MSELoss()\n",
        "optimizer = torch.optim.AdamW(model.parameters(), lr=0.0001)\n",
        "\n",
        "num_epochs = 100\n",
        "\n",
        "torch.manual_seed(1)\n",
        " \n",
        "for epoch in range(num_epochs):\n",
        "\n",
        "    loss_train = train(train_dataloader)\n",
        "    loss_eval = evaluate(valid_dataloader)\n",
        "    \n",
        "\n",
        "    print(f'Epoch {epoch} loss train: {loss_train:.4f} loss valid: {loss_eval:.4f}')"
      ]
    },
    {
      "cell_type": "code",
      "execution_count": null,
      "metadata": {
        "colab": {
          "base_uri": "https://localhost:8080/",
          "height": 295
        },
        "id": "IBEh-e-jhAiq",
        "outputId": "d05d3592-9c56-4f6a-e74d-f19089bfad51"
      },
      "outputs": [
        {
          "output_type": "display_data",
          "data": {
            "text/plain": [
              "<Figure size 432x288 with 1 Axes>"
            ],
            "image/png": "[encoded data removed]"
          },
          "metadata": {
            "needs_background": "light"
          }
        }
      ],
      "source": [
        "import matplotlib.pyplot as plt\n",
        "plt.plot(train_losses,'-o')\n",
        "plt.plot(val_losses,'-o')\n",
        "plt.xlabel('epoch')\n",
        "plt.ylabel('accuracy')\n",
        "plt.legend(['Train','Valid'])\n",
        "plt.title('Train vs Valid Loss (MSE)')\n",
        "\n",
        "plt.show()"
      ]
    },
    {
      "cell_type": "markdown",
      "metadata": {
        "id": "Zrrq1AByISA3"
      },
      "source": [
        "### R2"
      ]
    },
    {
      "cell_type": "code",
      "execution_count": null,
      "metadata": {
        "id": "y0iw9Dn6IYfs"
      },
      "outputs": [],
      "source": [
        "y=[]\n",
        "y_pred=[]\n",
        "with torch.no_grad():\n",
        "    model.eval()\n",
        "    for i, data in enumerate(valid_dataloader, 0):\n",
        "\n",
        "        inputs, targets = data\n",
        "        inputs, targets = inputs.float(), targets.float()\n",
        "        targets = targets.reshape((targets.shape[0], 1))\n",
        "\n",
        "        outputs = model(inputs)\n",
        "        y.append(targets.numpy())\n",
        "        y_pred.append(outputs.numpy())\n",
        "        "
      ]
    },
    {
      "cell_type": "code",
      "execution_count": null,
      "metadata": {
        "id": "_aWYqqLNKsih"
      },
      "outputs": [],
      "source": [
        "y_pred = [a.squeeze().tolist() for a in y_pred]\n",
        "y = [a.squeeze().tolist() for a in y]\n",
        "y=sum(y,[])\n",
        "y_pred=sum(y_pred,[])"
      ]
    },
    {
      "cell_type": "code",
      "execution_count": null,
      "metadata": {
        "colab": {
          "base_uri": "https://localhost:8080/"
        },
        "id": "VSZP77SxL37G",
        "outputId": "37e2f223-cc1b-4ebd-ad46-238c8b754407"
      },
      "outputs": [
        {
          "output_type": "stream",
          "name": "stdout",
          "text": [
            "0.7510021051111953\n"
          ]
        }
      ],
      "source": [
        "from sklearn.metrics import r2_score\n",
        "r_square = r2_score(y, y_pred)\n",
        "print(r_square)"
      ]
    },
    {
      "cell_type": "markdown",
      "metadata": {
        "id": "an7mLUBOj9_6"
      },
      "source": [
        "### GRADIO"
      ]
    },
    {
      "cell_type": "code",
      "execution_count": null,
      "metadata": {
        "colab": {
          "base_uri": "https://localhost:8080/"
        },
        "id": "2IV0176vZ1kS",
        "outputId": "151bb4ce-f88c-47fb-a228-498018587797"
      },
      "outputs": [
        {
          "output_type": "stream",
          "name": "stdout",
          "text": [
            "Looking in indexes: https://pypi.org/simple, https://us-python.pkg.dev/colab-wheels/public/simple/\n",
            "Collecting gradio\n",
            "  Downloading gradio-3.0.10-py3-none-any.whl (5.1 MB)\n",
            "\u001b[K     |████████████████████████████████| 5.1 MB 5.4 MB/s \n",
            "\u001b[?25hCollecting fastapi\n",
            "  Downloading fastapi-0.78.0-py3-none-any.whl (54 kB)\n",
            "\u001b[K     |████████████████████████████████| 54 kB 3.5 MB/s \n",
            "\u001b[?25hRequirement already satisfied: matplotlib in /usr/local/lib/python3.7/dist-packages (from gradio) (3.2.2)\n",
            "Collecting markdown-it-py[linkify,plugins]\n",
            "  Downloading markdown_it_py-2.1.0-py3-none-any.whl (84 kB)\n",
            "\u001b[K     |████████████████████████████████| 84 kB 4.0 MB/s \n",
            "\u001b[?25hRequirement already satisfied: pillow in /usr/local/lib/python3.7/dist-packages (from gradio) (7.1.2)\n",
            "Collecting paramiko\n",
            "  Downloading paramiko-2.11.0-py2.py3-none-any.whl (212 kB)\n",
            "\u001b[K     |████████████████████████████████| 212 kB 73.8 MB/s \n",
            "\u001b[?25hRequirement already satisfied: Jinja2 in /usr/local/lib/python3.7/dist-packages (from gradio) (2.11.3)\n",
            "Collecting aiohttp\n",
            "  Downloading aiohttp-3.8.1-cp37-cp37m-manylinux_2_5_x86_64.manylinux1_x86_64.manylinux_2_12_x86_64.manylinux2010_x86_64.whl (1.1 MB)\n",
            "\u001b[K     |████████████████████████████████| 1.1 MB 58.0 MB/s \n",
            "\u001b[?25hRequirement already satisfied: numpy in /usr/local/lib/python3.7/dist-packages (from gradio) (1.21.6)\n",
            "Requirement already satisfied: requests in /usr/local/lib/python3.7/dist-packages (from gradio) (2.23.0)\n",
            "Collecting ffmpy\n",
            "  Downloading ffmpy-0.3.0.tar.gz (4.8 kB)\n",
            "Collecting analytics-python\n",
            "  Downloading analytics_python-1.4.0-py2.py3-none-any.whl (15 kB)\n",
            "Collecting pydub\n",
            "  Downloading pydub-0.25.1-py2.py3-none-any.whl (32 kB)\n",
            "Collecting python-multipart\n",
            "  Downloading python-multipart-0.0.5.tar.gz (32 kB)\n",
            "Collecting orjson\n",
            "  Downloading orjson-3.6.8-cp37-cp37m-manylinux_2_24_x86_64.whl (253 kB)\n",
            "\u001b[K     |████████████████████████████████| 253 kB 62.7 MB/s \n",
            "\u001b[?25hCollecting uvicorn\n",
            "  Downloading uvicorn-0.17.6-py3-none-any.whl (53 kB)\n",
            "\u001b[K     |████████████████████████████████| 53 kB 2.6 MB/s \n",
            "\u001b[?25hCollecting pycryptodome\n",
            "  Downloading pycryptodome-3.14.1-cp35-abi3-manylinux2010_x86_64.whl (2.0 MB)\n",
            "\u001b[K     |████████████████████████████████| 2.0 MB 53.6 MB/s \n",
            "\u001b[?25hRequirement already satisfied: pandas in /usr/local/lib/python3.7/dist-packages (from gradio) (1.3.5)\n",
            "Requirement already satisfied: typing-extensions>=3.7.4 in /usr/local/lib/python3.7/dist-packages (from aiohttp->gradio) (4.2.0)\n",
            "Collecting frozenlist>=1.1.1\n",
            "  Downloading frozenlist-1.3.0-cp37-cp37m-manylinux_2_5_x86_64.manylinux1_x86_64.manylinux_2_17_x86_64.manylinux2014_x86_64.whl (144 kB)\n",
            "\u001b[K     |████████████████████████████████| 144 kB 70.9 MB/s \n",
            "\u001b[?25hCollecting async-timeout<5.0,>=4.0.0a3\n",
            "  Downloading async_timeout-4.0.2-py3-none-any.whl (5.8 kB)\n",
            "Collecting multidict<7.0,>=4.5\n",
            "  Downloading multidict-6.0.2-cp37-cp37m-manylinux_2_17_x86_64.manylinux2014_x86_64.whl (94 kB)\n",
            "\u001b[K     |████████████████████████████████| 94 kB 4.6 MB/s \n",
            "\u001b[?25hCollecting aiosignal>=1.1.2\n",
            "  Downloading aiosignal-1.2.0-py3-none-any.whl (8.2 kB)\n",
            "Requirement already satisfied: attrs>=17.3.0 in /usr/local/lib/python3.7/dist-packages (from aiohttp->gradio) (21.4.0)\n",
            "Collecting asynctest==0.13.0\n",
            "  Downloading asynctest-0.13.0-py3-none-any.whl (26 kB)\n",
            "Requirement already satisfied: charset-normalizer<3.0,>=2.0 in /usr/local/lib/python3.7/dist-packages (from aiohttp->gradio) (2.0.12)\n",
            "Collecting yarl<2.0,>=1.0\n",
            "  Downloading yarl-1.7.2-cp37-cp37m-manylinux_2_5_x86_64.manylinux1_x86_64.manylinux_2_12_x86_64.manylinux2010_x86_64.whl (271 kB)\n",
            "\u001b[K     |████████████████████████████████| 271 kB 70.7 MB/s \n",
            "\u001b[?25hRequirement already satisfied: idna>=2.0 in /usr/local/lib/python3.7/dist-packages (from yarl<2.0,>=1.0->aiohttp->gradio) (2.10)\n",
            "Collecting monotonic>=1.5\n",
            "  Downloading monotonic-1.6-py2.py3-none-any.whl (8.2 kB)\n",
            "Requirement already satisfied: six>=1.5 in /usr/local/lib/python3.7/dist-packages (from analytics-python->gradio) (1.15.0)\n",
            "Collecting backoff==1.10.0\n",
            "  Downloading backoff-1.10.0-py2.py3-none-any.whl (31 kB)\n",
            "Requirement already satisfied: python-dateutil>2.1 in /usr/local/lib/python3.7/dist-packages (from analytics-python->gradio) (2.8.2)\n",
            "Requirement already satisfied: urllib3!=1.25.0,!=1.25.1,<1.26,>=1.21.1 in /usr/local/lib/python3.7/dist-packages (from requests->gradio) (1.24.3)\n",
            "Requirement already satisfied: certifi>=2017.4.17 in /usr/local/lib/python3.7/dist-packages (from requests->gradio) (2022.5.18.1)\n",
            "Requirement already satisfied: chardet<4,>=3.0.2 in /usr/local/lib/python3.7/dist-packages (from requests->gradio) (3.0.4)\n",
            "Collecting pydantic!=1.7,!=1.7.1,!=1.7.2,!=1.7.3,!=1.8,!=1.8.1,<2.0.0,>=1.6.2\n",
            "  Downloading pydantic-1.9.1-cp37-cp37m-manylinux_2_17_x86_64.manylinux2014_x86_64.whl (11.1 MB)\n",
            "\u001b[K     |████████████████████████████████| 11.1 MB 50.8 MB/s \n",
            "\u001b[?25hCollecting starlette==0.19.1\n",
            "  Downloading starlette-0.19.1-py3-none-any.whl (63 kB)\n",
            "\u001b[K     |████████████████████████████████| 63 kB 2.4 MB/s \n",
            "\u001b[?25hCollecting anyio<5,>=3.4.0\n",
            "  Downloading anyio-3.6.1-py3-none-any.whl (80 kB)\n",
            "\u001b[K     |████████████████████████████████| 80 kB 11.4 MB/s \n",
            "\u001b[?25hCollecting sniffio>=1.1\n",
            "  Downloading sniffio-1.2.0-py3-none-any.whl (10 kB)\n",
            "Requirement already satisfied: MarkupSafe>=0.23 in /usr/local/lib/python3.7/dist-packages (from Jinja2->gradio) (2.0.1)\n",
            "Collecting mdurl~=0.1\n",
            "  Downloading mdurl-0.1.1-py3-none-any.whl (10 kB)\n",
            "Collecting linkify-it-py~=1.0\n",
            "  Downloading linkify_it_py-1.0.3-py3-none-any.whl (19 kB)\n",
            "Collecting mdit-py-plugins\n",
            "  Downloading mdit_py_plugins-0.3.0-py3-none-any.whl (43 kB)\n",
            "\u001b[K     |████████████████████████████████| 43 kB 2.5 MB/s \n",
            "\u001b[?25hCollecting uc-micro-py\n",
            "  Downloading uc_micro_py-1.0.1-py3-none-any.whl (6.2 kB)\n",
            "Requirement already satisfied: pyparsing!=2.0.4,!=2.1.2,!=2.1.6,>=2.0.1 in /usr/local/lib/python3.7/dist-packages (from matplotlib->gradio) (3.0.9)\n",
            "Requirement already satisfied: cycler>=0.10 in /usr/local/lib/python3.7/dist-packages (from matplotlib->gradio) (0.11.0)\n",
            "Requirement already satisfied: kiwisolver>=1.0.1 in /usr/local/lib/python3.7/dist-packages (from matplotlib->gradio) (1.4.2)\n",
            "Requirement already satisfied: pytz>=2017.3 in /usr/local/lib/python3.7/dist-packages (from pandas->gradio) (2022.1)\n",
            "Collecting cryptography>=2.5\n",
            "  Downloading cryptography-37.0.2-cp36-abi3-manylinux_2_24_x86_64.whl (4.0 MB)\n",
            "\u001b[K     |████████████████████████████████| 4.0 MB 43.7 MB/s \n",
            "\u001b[?25hCollecting pynacl>=1.0.1\n",
            "  Downloading PyNaCl-1.5.0-cp36-abi3-manylinux_2_17_x86_64.manylinux2014_x86_64.manylinux_2_24_x86_64.whl (856 kB)\n",
            "\u001b[K     |████████████████████████████████| 856 kB 59.0 MB/s \n",
            "\u001b[?25hCollecting bcrypt>=3.1.3\n",
            "  Downloading bcrypt-3.2.2-cp36-abi3-manylinux_2_17_x86_64.manylinux2014_x86_64.manylinux_2_24_x86_64.whl (62 kB)\n",
            "\u001b[K     |████████████████████████████████| 62 kB 1.2 MB/s \n",
            "\u001b[?25hRequirement already satisfied: cffi>=1.1 in /usr/local/lib/python3.7/dist-packages (from bcrypt>=3.1.3->paramiko->gradio) (1.15.0)\n",
            "Requirement already satisfied: pycparser in /usr/local/lib/python3.7/dist-packages (from cffi>=1.1->bcrypt>=3.1.3->paramiko->gradio) (2.21)\n",
            "Requirement already satisfied: click>=7.0 in /usr/local/lib/python3.7/dist-packages (from uvicorn->gradio) (7.1.2)\n",
            "Collecting h11>=0.8\n",
            "  Downloading h11-0.13.0-py3-none-any.whl (58 kB)\n",
            "\u001b[K     |████████████████████████████████| 58 kB 6.8 MB/s \n",
            "\u001b[?25hCollecting asgiref>=3.4.0\n",
            "  Downloading asgiref-3.5.2-py3-none-any.whl (22 kB)\n",
            "Building wheels for collected packages: ffmpy, python-multipart\n",
            "  Building wheel for ffmpy (setup.py) ... \u001b[?25l\u001b[?25hdone\n",
            "  Created wheel for ffmpy: filename=ffmpy-0.3.0-py3-none-any.whl size=4712 sha256=f9eb352a0a2e972e3e33f30754b5bd08c84aec2d978b8344ddcf9c43cfab2924\n",
            "  Stored in directory: /root/.cache/pip/wheels/13/e4/6c/e8059816e86796a597c6e6b0d4c880630f51a1fcfa0befd5e6\n",
            "  Building wheel for python-multipart (setup.py) ... \u001b[?25l\u001b[?25hdone\n",
            "  Created wheel for python-multipart: filename=python_multipart-0.0.5-py3-none-any.whl size=31678 sha256=bc02bfcba383c5fb7ef6d918731bda1e7de211bbebb4ca9fbe874fe756d222a5\n",
            "  Stored in directory: /root/.cache/pip/wheels/2c/41/7c/bfd1c180534ffdcc0972f78c5758f89881602175d48a8bcd2c\n",
            "Successfully built ffmpy python-multipart\n",
            "Installing collected packages: sniffio, mdurl, uc-micro-py, multidict, markdown-it-py, frozenlist, anyio, yarl, starlette, pynacl, pydantic, monotonic, mdit-py-plugins, linkify-it-py, h11, cryptography, bcrypt, backoff, asynctest, async-timeout, asgiref, aiosignal, uvicorn, python-multipart, pydub, pycryptodome, paramiko, orjson, ffmpy, fastapi, analytics-python, aiohttp, gradio\n",
            "Successfully installed aiohttp-3.8.1 aiosignal-1.2.0 analytics-python-1.4.0 anyio-3.6.1 asgiref-3.5.2 async-timeout-4.0.2 asynctest-0.13.0 backoff-1.10.0 bcrypt-3.2.2 cryptography-37.0.2 fastapi-0.78.0 ffmpy-0.3.0 frozenlist-1.3.0 gradio-3.0.10 h11-0.13.0 linkify-it-py-1.0.3 markdown-it-py-2.1.0 mdit-py-plugins-0.3.0 mdurl-0.1.1 monotonic-1.6 multidict-6.0.2 orjson-3.6.8 paramiko-2.11.0 pycryptodome-3.14.1 pydantic-1.9.1 pydub-0.25.1 pynacl-1.5.0 python-multipart-0.0.5 sniffio-1.2.0 starlette-0.19.1 uc-micro-py-1.0.1 uvicorn-0.17.6 yarl-1.7.2\n"
          ]
        }
      ],
      "source": [
        "!pip install gradio"
      ]
    },
    {
      "cell_type": "code",
      "execution_count": null,
      "metadata": {
        "colab": {
          "base_uri": "https://localhost:8080/",
          "height": 660
        },
        "id": "0qWwpvb1kEoC",
        "outputId": "7a67babc-7360-4221-dbdd-01cd78c4ebcb"
      },
      "outputs": [
        {
          "output_type": "stream",
          "name": "stdout",
          "text": [
            "Test launch: RNA_PRED()... SKIPPED\n",
            "Colab notebook detected. To show errors in colab notebook, set `debug=True` in `launch()`\n",
            "Running on public URL: https://51302.gradio.app\n",
            "\n",
            "This share link expires in 72 hours. For free permanent hosting, check out Spaces (https://huggingface.co/spaces)\n"
          ]
        },
        {
          "output_type": "display_data",
          "data": {
            "text/plain": [
              "<IPython.core.display.HTML object>"
            ],
            "text/html": [
              "<div><iframe src=\"https://51302.gradio.app\" width=\"900\" height=\"500\" allow=\"autoplay; camera; microphone;\" frameborder=\"0\" allowfullscreen></iframe></div>"
            ]
          },
          "metadata": {}
        },
        {
          "output_type": "execute_result",
          "data": {
            "text/plain": [
              "(<gradio.routes.App at 0x7f2961f69e10>,\n",
              " 'http://127.0.0.1:7861/',\n",
              " 'https://51302.gradio.app')"
            ]
          },
          "metadata": {},
          "execution_count": 15
        }
      ],
      "source": [
        "import gradio as gr\n",
        "\n",
        "\n",
        "def RNA_PRED(file):\n",
        "\n",
        "  import torch\n",
        "  import numpy as np\n",
        "  from torch import nn\n",
        "  from torch.utils.data import DataLoader\n",
        "  from sklearn.preprocessing import StandardScaler\n",
        "\n",
        "  X2_data=np.loadtxt(file.name, delimiter=',')\n",
        "\n",
        "\n",
        "  class PrepareDataset(torch.utils.data.Dataset):\n",
        "\n",
        "    def __init__(self, X, scale_data=True):\n",
        "      if not torch.is_tensor(X):\n",
        "      # Apply scaling if necessary\n",
        "        if scale_data:\n",
        "          X = StandardScaler().fit_transform(X)\n",
        "        self.X = torch.from_numpy(X)\n",
        "        \n",
        "\n",
        "    def __len__(self):\n",
        "        return len(self.X)\n",
        "\n",
        "    def __getitem__(self, i):\n",
        "        return self.X[i]\n",
        "\n",
        "  dataset = PrepareDataset(X2_data)\n",
        "\n",
        "  pred_dataloader = DataLoader(dataset, batch_size=10, shuffle=False, num_workers=1)\n",
        "\n",
        "\n",
        "  def evaluate(dataloader):\n",
        "    model.eval()\n",
        "    predictions = []\n",
        "    with torch.no_grad():\n",
        "        for i, data in enumerate(dataloader, 0):\n",
        "          inputs = data\n",
        "          inputs= inputs.float()\n",
        "          outputs = model(inputs)\n",
        "          predictions.append(outputs.numpy())\n",
        "    return np.concatenate(predictions, axis=0)\n",
        "\n",
        "  np.savetxt(\"user_predictions.csv\",evaluate(pred_dataloader),fmt='%s',delimiter=\",\", comments=\"\") \n",
        "  return \"user_predictions.csv\"\n",
        "\n",
        "iface = gr.Interface(\n",
        "    RNA_PRED,\n",
        "    [\"file\"],\n",
        "    \"file\",\n",
        "    description=\"Predicción de la abundancia de ARNm de S. cerevisiae\")\n",
        "\n",
        "iface.test_launch()\n",
        "\n",
        "iface.launch()"
      ]
    },
    {
      "cell_type": "markdown",
      "metadata": {
        "id": "2TZnJP5UFsKa"
      },
      "source": [
        "## Modelo combinado"
      ]
    },
    {
      "cell_type": "code",
      "execution_count": null,
      "metadata": {
        "id": "asq4_Y8_NiJM"
      },
      "outputs": [],
      "source": [
        "from sklearn.preprocessing import StandardScaler\n",
        "import numpy as np\n",
        "\n",
        "class TextData(Dataset):\n",
        "    '''\n",
        "    Dataset basico para leer las secuencias\n",
        "    '''\n",
        "    def __init__(self, text_file, tabular_file, scale_data=True):\n",
        "      self.text_file = text_file\n",
        "      self.df= pd.read_csv(text_file)\n",
        "      if not torch.is_tensor(tabular_file):\n",
        "        if scale_data:\n",
        "          tabular_file = StandardScaler().fit_transform(tabular_file)\n",
        "        self.tabular_file=tabular_file\n",
        "\n",
        "    def __getitem__(self, index):\n",
        "        tabular_file=self.tabular_file.tolist()\n",
        "        return np.log(self.df.iloc[index,1]), self.df.iloc[index,0], self.tabular_file[index]\n",
        "\n",
        "    def __len__(self):\n",
        "        return len(self.df)   \n",
        "    "
      ]
    },
    {
      "cell_type": "code",
      "execution_count": null,
      "metadata": {
        "id": "N8USJzInQZFF"
      },
      "outputs": [],
      "source": [
        "X2_data=np.loadtxt('X2_data.csv', delimiter=',')"
      ]
    },
    {
      "cell_type": "code",
      "execution_count": null,
      "metadata": {
        "id": "CoAtv7Z6bFfm"
      },
      "outputs": [],
      "source": [
        "ds = TextData(\"text_data.csv\",X2_data)"
      ]
    },
    {
      "cell_type": "code",
      "execution_count": null,
      "metadata": {
        "id": "QUMmvH50YoCp"
      },
      "outputs": [],
      "source": [
        "def collate_batch(batch):\n",
        "    label_list, text_list, lengths, tabular_list = [], [], [], []\n",
        "    for _label, _text, _tabular in batch:\n",
        "        label_list.append(_label)\n",
        "        tabular_list.append(_tabular)\n",
        "        processed_text = torch.tensor(text_pipeline(_text))\n",
        "        text_list.append(processed_text)\n",
        "        lengths.append(processed_text.size(0))\n",
        "    label_list = torch.tensor(label_list)\n",
        "    tabular_list = torch.tensor(tabular_list)\n",
        "    lengths = torch.tensor(lengths)\n",
        "    padded_text_list = nn.utils.rnn.pad_sequence(\n",
        "        text_list, batch_first=True)\n",
        "    return padded_text_list.to(device), label_list.to(device), lengths.to(device), tabular_list.to(device)"
      ]
    },
    {
      "cell_type": "code",
      "execution_count": null,
      "metadata": {
        "id": "zsDVmvtGas-X"
      },
      "outputs": [],
      "source": [
        "tr_per = 0.8\n",
        "train_dataset, valid_dataset = random_split(ds,\n",
        " [int(len(ds)*tr_per),len(ds) - int(len(ds)*tr_per)], torch.manual_seed(42))"
      ]
    },
    {
      "cell_type": "code",
      "execution_count": null,
      "metadata": {
        "colab": {
          "base_uri": "https://localhost:8080/"
        },
        "id": "uMo-0iSg9f9Q",
        "outputId": "a8041fa0-c85f-4333-817f-9482836d0210"
      },
      "outputs": [
        {
          "output_type": "stream",
          "name": "stdout",
          "text": [
            "tensor([[   4, 2293,   39, 1730,   73, 2280, 1047,  257, 1040, 3187, 1883,   44,\n",
            "         3568, 1262, 1324,  403,  327, 1846, 2411, 1078, 1254,  600, 3009, 1921,\n",
            "         1902,  204, 3611, 2319,  270, 3370, 1731, 1048, 1165, 1620,  280, 1698,\n",
            "          942, 1319,   20, 1574,  271, 1494, 1692, 1588,   71,  364, 2496,  297,\n",
            "         1054,  531,  250, 3058,  323,  294,   20, 2991, 2957, 2732, 2109, 1066,\n",
            "         2579, 1175,  752, 1073,  846, 1255, 1433, 3468,   68, 1079,   52, 2109,\n",
            "         1903, 3204, 3059, 2320,  336,  305,  693,    6, 2224, 3681,  963,  101,\n",
            "         1979, 3569, 2650,    2,  495, 1823,  926, 1256,  955,  490,  927,  814,\n",
            "         1018,  464,  699,   96, 2216,    9, 3060, 3222, 1612,  700,  341, 2217,\n",
            "          272, 2903,   25, 1094,  467, 2334,  562,  369,   90,  316,   30, 2958,\n",
            "         1599, 2596, 3296, 2866, 1495, 1205, 1575, 2992, 3554, 2631, 1277,  706,\n",
            "          129, 1824, 1295,  268, 2100, 1621, 1402, 2580,  505, 2687,  353,  129,\n",
            "          365,  232,  888,  349, 3188, 3173, 1709,  344, 3342, 2182,  258, 1278,\n",
            "          650,  687,  131, 1473,   98, 1301,  614, 1884,  506,  761,  360, 3081,\n",
            "         1710, 3483,  151,  956, 1699, 2281,  254, 1263,  815,   24,    9, 1732,\n",
            "           76,  230, 1222,  178,  451, 3061, 1166, 1412,  639, 1424, 1711, 1943,\n",
            "          139,  218, 2101,  155,  200,  114, 1835,  395, 1132, 2651, 1680, 2019,\n",
            "          117, 2110, 2597, 1823, 3205,  783,  105,  665,  999, 1279, 2168,  755,\n",
            "            2,  255, 2652,  868, 1589,  292,   11,  943,  277, 1027,  490,   69,\n",
            "         1425,  118, 1700, 2581,   41,   96, 1041,  901,  640,  944, 1359, 1944,\n",
            "          740,  666,  441, 1337,  667, 1452,   59, 2412,  190,  932, 1360, 1521,\n",
            "           39,  582,   79,    9,  600,  907, 1576,  868,  303,  586,    8,    2,\n",
            "          343, 2020,  119, 2516, 2424, 2044,   23,   74,  583,  462,  377, 2321,\n",
            "            5]], device='cuda:0')\n",
            "tensor([1.6278], device='cuda:0', dtype=torch.float64)\n",
            "tensor([277], device='cuda:0')\n",
            "torch.Size([1, 277])\n",
            "tensor([[-0.4709,  0.3289, -0.3027,  1.5426,  0.0250, -0.6906, -0.8578,  0.7680,\n",
            "          0.1303,  0.7055,  1.2828, -0.0790,  0.7494, -0.0047,  0.2098, -0.2370,\n",
            "         -0.1339,  0.1742,  0.2106, -0.5093,  0.8205,  0.2230,  0.6849,  0.3521,\n",
            "          1.0588,  0.3630,  0.0796, -0.0095, -0.2615,  0.7535, -0.9468,  0.4964,\n",
            "          0.7167,  1.7548,  2.4118,  0.8697, -0.1691,  0.4560,  1.1645,  0.3005,\n",
            "          0.0748,  0.1988,  0.7636, -0.0246, -0.0420, -0.4092,  0.9521, -0.1159,\n",
            "         -0.1425, -0.4934, -0.0496, -0.2213,  0.9093, -0.5570, -0.1300, -0.3159,\n",
            "          1.0312,  0.7051, -0.5284,  0.1703,  0.1266,  0.1487,  0.8140, -0.2672,\n",
            "         -0.6501,  0.6761,  0.8194,  0.0358,  0.2424,  2.1034,  0.2809,  0.2266]],\n",
            "       device='cuda:0', dtype=torch.float64)\n"
          ]
        },
        {
          "output_type": "stream",
          "name": "stderr",
          "text": [
            "/usr/local/lib/python3.7/dist-packages/ipykernel_launcher.py:10: UserWarning: Creating a tensor from a list of numpy.ndarrays is extremely slow. Please consider converting the list to a single numpy.ndarray with numpy.array() before converting to a tensor. (Triggered internally at  ../torch/csrc/utils/tensor_new.cpp:210.)\n",
            "  # Remove the CWD from sys.path while we load stuff.\n"
          ]
        }
      ],
      "source": [
        "## Toma un pequeño batch\n",
        "\n",
        "from torch.utils.data import DataLoader\n",
        "dataloader = DataLoader(train_dataset, batch_size=1, shuffle=False, collate_fn=collate_batch)\n",
        "text_batch, label_batch, length_batch,tabular_batch = next(iter(dataloader))\n",
        "print(text_batch)\n",
        "print(label_batch)\n",
        "print(length_batch)\n",
        "print(text_batch.shape)\n",
        "print(tabular_batch)"
      ]
    },
    {
      "cell_type": "code",
      "execution_count": null,
      "metadata": {
        "id": "rGdY66yAakBz"
      },
      "outputs": [],
      "source": [
        "## Paso 4: batching los datasets\n",
        "\n",
        "batch_size = 64\n",
        "\n",
        "train_dl = DataLoader(train_dataset, batch_size=batch_size,\n",
        "                      shuffle=True, collate_fn=collate_batch)\n",
        "valid_dl = DataLoader(valid_dataset, batch_size=batch_size,\n",
        "                      shuffle=True, collate_fn=collate_batch)"
      ]
    },
    {
      "cell_type": "markdown",
      "metadata": {
        "id": "bUfPQ71GeYag"
      },
      "source": [
        "### Modelo"
      ]
    },
    {
      "cell_type": "code",
      "execution_count": null,
      "metadata": {
        "id": "RUuUp2JweX00"
      },
      "outputs": [],
      "source": [
        "class RNN(nn.Module):\n",
        "    def __init__(self, vocab_size, embed_dim, rnn_hidden_size, fc_hidden_size):\n",
        "        super().__init__()\n",
        "        self.embedding = nn.Embedding(vocab_size, \n",
        "                                      embed_dim, \n",
        "                                      padding_idx=0) \n",
        "        self.rnn = nn.LSTM(embed_dim, rnn_hidden_size,num_layers=2,\n",
        "                           batch_first=True,bidirectional = True, dropout=0.7 )\n",
        "        self.fc1 = nn.Linear(rnn_hidden_size*2, fc_hidden_size)\n",
        "        self.relu = nn.ReLU()\n",
        "        self.fc2 = nn.Linear(fc_hidden_size, 1)\n",
        "        \n",
        "     \n",
        "        \n",
        "        self.layers = nn.Sequential(\n",
        "          nn.Linear(72, 64),\n",
        "          nn.Dropout(p=0.1),\n",
        "          nn.ReLU(),\n",
        "          nn.Linear(64, 32),\n",
        "          nn.Dropout(p=0.1),\n",
        "          nn.ReLU(),\n",
        "          nn.Linear(32, 1),\n",
        "        )\n",
        "\n",
        "        self.fc3 = nn.Linear(2, 1) \n",
        "\n",
        "\n",
        "    def forward(self, text, lengths, tab):\n",
        "        out = self.embedding(text)\n",
        "        out = nn.utils.rnn.pack_padded_sequence(out, lengths.cpu().numpy(), enforce_sorted=False, batch_first=True)\n",
        "        out, (hidden, cell) = self.rnn(out)\n",
        "        out = torch.cat((hidden[-2, :, :], hidden[-1, :, :]), dim=1)\n",
        "        # out = hidden[-1, :, :]\n",
        "        out = self.fc1(out)\n",
        "        out = self.relu(out)\n",
        "        out = self.fc2(out)\n",
        "        out = self.relu(out)        \n",
        "        \n",
        "        tab=self.layers(tab.float())\n",
        "        x = torch.cat((out, tab), dim=1)\n",
        "        x = self.relu(x)\n",
        "        return self.fc3(x)"
      ]
    },
    {
      "cell_type": "code",
      "execution_count": null,
      "metadata": {
        "id": "qaKXFEIsopwr"
      },
      "outputs": [],
      "source": [
        "vocab_size = len(vocab)\n",
        "embed_dim = 50\n",
        "rnn_hidden_size = 32\n",
        "fc_hidden_size = 16\n",
        "\n",
        "torch.manual_seed(1)\n",
        "model = RNN(vocab_size, embed_dim, rnn_hidden_size, fc_hidden_size) \n",
        "model = model.to(device)"
      ]
    },
    {
      "cell_type": "markdown",
      "metadata": {
        "id": "Zi5Di_EuuZP_"
      },
      "source": [
        "### Entrenamiento"
      ]
    },
    {
      "cell_type": "markdown",
      "metadata": {
        "id": "ZB9ziQ1hubqR"
      },
      "source": [
        "#### MSE"
      ]
    },
    {
      "cell_type": "code",
      "execution_count": null,
      "metadata": {
        "id": "AFkoRgFtfv_P"
      },
      "outputs": [],
      "source": [
        "train_losses=[]\n",
        "val_losses=[]\n",
        "\n",
        "def train(dataloader):\n",
        "    model.train()\n",
        "    total_loss = 0\n",
        "    for text_batch, label_batch, lengths, tabular in dataloader:\n",
        "        optimizer.zero_grad()\n",
        "        pred = model(text_batch, lengths, tabular.float())\n",
        "        label_batch = label_batch.unsqueeze(1)\n",
        "        loss = loss_fn(pred.float(), label_batch.float())\n",
        "        loss.backward()\n",
        "        optimizer.step()\n",
        "        total_loss += loss.item()*label_batch.size(0)\n",
        "        \n",
        "    train_losses.append(total_loss/len(dataloader.dataset))\n",
        "    return total_loss/len(dataloader.dataset)\n",
        " \n",
        "def evaluate(dataloader):\n",
        "    model.eval()\n",
        "    total_loss = 0\n",
        "    with torch.no_grad():\n",
        "        for text_batch, label_batch, lengths, tabular in dataloader:\n",
        "            pred = model(text_batch, lengths,tabular.float())\n",
        "            label_batch = label_batch.unsqueeze(1)\n",
        "            loss = loss_fn(pred.float(), label_batch.float())\n",
        "            total_loss += loss.item()*label_batch.size(0)\n",
        "            \n",
        "    val_losses.append(total_loss/len(dataloader.dataset))       \n",
        "    return total_loss/len(dataloader.dataset)"
      ]
    },
    {
      "cell_type": "code",
      "execution_count": null,
      "metadata": {
        "colab": {
          "base_uri": "https://localhost:8080/"
        },
        "id": "WYk1bXaRowyK",
        "outputId": "40a22605-87cd-42d5-c62b-c62532a59220"
      },
      "outputs": [
        {
          "output_type": "stream",
          "name": "stdout",
          "text": [
            "Epoch 0 loss train: 5.1870 loss valid: 4.7083\n",
            "Epoch 1 loss train: 4.2008 loss valid: 3.4200\n",
            "Epoch 2 loss train: 2.6498 loss valid: 1.4985\n",
            "Epoch 3 loss train: 0.8385 loss valid: 0.2440\n",
            "Epoch 4 loss train: 0.2109 loss valid: 0.1712\n",
            "Epoch 5 loss train: 0.1654 loss valid: 0.1409\n",
            "Epoch 6 loss train: 0.1426 loss valid: 0.1251\n",
            "Epoch 7 loss train: 0.1299 loss valid: 0.1141\n",
            "Epoch 8 loss train: 0.1171 loss valid: 0.1047\n",
            "Epoch 9 loss train: 0.1093 loss valid: 0.0970\n",
            "Epoch 10 loss train: 0.1021 loss valid: 0.0901\n",
            "Epoch 11 loss train: 0.0944 loss valid: 0.0856\n",
            "Epoch 12 loss train: 0.0883 loss valid: 0.0802\n",
            "Epoch 13 loss train: 0.0844 loss valid: 0.0764\n",
            "Epoch 14 loss train: 0.0808 loss valid: 0.0725\n",
            "Epoch 15 loss train: 0.0766 loss valid: 0.0701\n",
            "Epoch 16 loss train: 0.0756 loss valid: 0.0676\n",
            "Epoch 17 loss train: 0.0729 loss valid: 0.0654\n",
            "Epoch 18 loss train: 0.0708 loss valid: 0.0639\n",
            "Epoch 19 loss train: 0.0690 loss valid: 0.0641\n",
            "Epoch 20 loss train: 0.0688 loss valid: 0.0629\n",
            "Epoch 21 loss train: 0.0673 loss valid: 0.0609\n",
            "Epoch 22 loss train: 0.0661 loss valid: 0.0611\n",
            "Epoch 23 loss train: 0.0651 loss valid: 0.0601\n",
            "Epoch 24 loss train: 0.0628 loss valid: 0.0587\n",
            "Epoch 25 loss train: 0.0623 loss valid: 0.0584\n",
            "Epoch 26 loss train: 0.0615 loss valid: 0.0566\n",
            "Epoch 27 loss train: 0.0597 loss valid: 0.0567\n",
            "Epoch 28 loss train: 0.0602 loss valid: 0.0556\n",
            "Epoch 29 loss train: 0.0583 loss valid: 0.0554\n"
          ]
        }
      ],
      "source": [
        "loss_fn = nn.MSELoss()\n",
        "optimizer = torch.optim.AdamW(model.parameters(), lr=0.0001)\n",
        "\n",
        "num_epochs = 30\n",
        "\n",
        "torch.manual_seed(1)\n",
        " \n",
        "for epoch in range(num_epochs):\n",
        "\n",
        "    loss_train = train(train_dl)\n",
        "    loss_eval = evaluate(valid_dl)\n",
        "    \n",
        "    print(f'Epoch {epoch} loss train: {loss_train:.4f} loss valid: {loss_eval:.4f}')"
      ]
    },
    {
      "cell_type": "code",
      "execution_count": null,
      "metadata": {
        "colab": {
          "base_uri": "https://localhost:8080/",
          "height": 295
        },
        "id": "bXwxOBESO1dJ",
        "outputId": "b4959a19-ea20-4bd2-e0f7-78cda07fa18a"
      },
      "outputs": [
        {
          "output_type": "display_data",
          "data": {
            "text/plain": [
              "<Figure size 432x288 with 1 Axes>"
            ],
            "image/png": "[encoded data removed]"
          },
          "metadata": {
            "needs_background": "light"
          }
        }
      ],
      "source": [
        "import matplotlib.pyplot as plt\n",
        "plt.plot(train_losses,'-o')\n",
        "plt.plot(val_losses,'-o')\n",
        "plt.xlabel('epoch')\n",
        "plt.ylabel('accuracy')\n",
        "plt.legend(['Train','Valid'])\n",
        "plt.title('Train vs Valid Loss (MSE)')\n",
        "\n",
        "plt.show()"
      ]
    },
    {
      "cell_type": "markdown",
      "metadata": {
        "id": "CknE66G2uj9h"
      },
      "source": [
        "#### R2"
      ]
    },
    {
      "cell_type": "code",
      "execution_count": null,
      "metadata": {
        "id": "GIhFolMFul1M"
      },
      "outputs": [],
      "source": [
        "y=[]\n",
        "y_pred=[]\n",
        "with torch.no_grad():\n",
        "    model.eval()\n",
        "    for text_batch, label_batch, lengths, tabular in valid_dl:\n",
        "\n",
        "        outputs = model(text_batch, lengths,tabular.float())\n",
        "        label_batch = label_batch.unsqueeze(1)\n",
        "        y.append(label_batch.cpu().numpy())\n",
        "        y_pred.append(outputs.cpu().numpy())"
      ]
    },
    {
      "cell_type": "code",
      "execution_count": null,
      "metadata": {
        "id": "_owRhhFWul8R"
      },
      "outputs": [],
      "source": [
        "y_pred = [a.squeeze().tolist() for a in y_pred]\n",
        "y = [a.squeeze().tolist() for a in y]\n"
      ]
    },
    {
      "cell_type": "code",
      "source": [
        "y_pred = [item for sublist in y_pred for item in sublist]\n",
        "y = [item for sublist in y for item in sublist]"
      ],
      "metadata": {
        "id": "McvQyxANEhPN"
      },
      "execution_count": null,
      "outputs": []
    },
    {
      "cell_type": "code",
      "execution_count": null,
      "metadata": {
        "colab": {
          "base_uri": "https://localhost:8080/"
        },
        "id": "oebjEvK1umAe",
        "outputId": "73bed8e7-82c6-479d-9103-6ae08a1c738a"
      },
      "outputs": [
        {
          "output_type": "stream",
          "name": "stdout",
          "text": [
            "0.5550829313667103\n"
          ]
        }
      ],
      "source": [
        "r_square = r2_score(y, y_pred)\n",
        "print(r_square)"
      ]
    }
  ],
  "metadata": {
    "accelerator": "GPU",
    "colab": {
      "name": "TFM Carlos.ipynb",
      "provenance": [],
      "toc_visible": true,
      "include_colab_link": true
    },
    "kernelspec": {
      "display_name": "Python 3",
      "name": "python3"
    },
    "language_info": {
      "name": "python"
    }
  },
  "nbformat": 4,
  "nbformat_minor": 0
}